{
  "nbformat": 4,
  "nbformat_minor": 0,
  "metadata": {
    "colab": {
      "name": "array.ipynb",
      "provenance": [],
      "authorship_tag": "ABX9TyOEPfP0FQpCwphxjE/23U+0",
      "include_colab_link": true
    },
    "kernelspec": {
      "name": "python3",
      "display_name": "Python 3"
    }
  },
  "cells": [
    {
      "cell_type": "markdown",
      "metadata": {
        "id": "view-in-github",
        "colab_type": "text"
      },
      "source": [
        "<a href=\"https://colab.research.google.com/github/leejyy/New/blob/master/array.ipynb\" target=\"_parent\"><img src=\"https://colab.research.google.com/assets/colab-badge.svg\" alt=\"Open In Colab\"/></a>"
      ]
    },
    {
      "cell_type": "code",
      "metadata": {
        "id": "il1Ik6qVy4el"
      },
      "source": [
        "import numpy as np\r\n",
        "import pandas as pd\r\n",
        "np_city=np.array(['NYC','LA','Miami','Houston'])"
      ],
      "execution_count": 2,
      "outputs": []
    },
    {
      "cell_type": "code",
      "metadata": {
        "colab": {
          "base_uri": "https://localhost:8080/"
        },
        "id": "bEeOpY_PzKGa",
        "outputId": "466d0e90-c4b1-4eeb-e66f-97a54de83115"
      },
      "source": [
        "np_city.ndim"
      ],
      "execution_count": 3,
      "outputs": [
        {
          "output_type": "execute_result",
          "data": {
            "text/plain": [
              "1"
            ]
          },
          "metadata": {
            "tags": []
          },
          "execution_count": 3
        }
      ]
    },
    {
      "cell_type": "code",
      "metadata": {
        "id": "nbiyTnekzXF-"
      },
      "source": [
        "np_city_with_state=np.array([['NYC','LA','Miami','Houston'],['NY','CA','FL','TX']])"
      ],
      "execution_count": 6,
      "outputs": []
    },
    {
      "cell_type": "code",
      "metadata": {
        "colab": {
          "base_uri": "https://localhost:8080/"
        },
        "id": "oCnWzGIgziRq",
        "outputId": "a18dde72-707e-49a4-c947-dc71770e3b2f"
      },
      "source": [
        "np_city_with_state.ndim"
      ],
      "execution_count": 7,
      "outputs": [
        {
          "output_type": "execute_result",
          "data": {
            "text/plain": [
              "2"
            ]
          },
          "metadata": {
            "tags": []
          },
          "execution_count": 7
        }
      ]
    },
    {
      "cell_type": "code",
      "metadata": {
        "colab": {
          "base_uri": "https://localhost:8080/"
        },
        "id": "QDO8ZYBIz_KY",
        "outputId": "1bf8a8a0-123b-4d83-be1a-4f1cd206e8ed"
      },
      "source": [
        "a=[10,15,16]\r\n",
        "b=[12,13,14]\r\n",
        "np_a=np.array(a)\r\n",
        "np_b=np.array(b)\r\n",
        "np_a+np_b"
      ],
      "execution_count": 8,
      "outputs": [
        {
          "output_type": "execute_result",
          "data": {
            "text/plain": [
              "array([22, 28, 30])"
            ]
          },
          "metadata": {
            "tags": []
          },
          "execution_count": 8
        }
      ]
    },
    {
      "cell_type": "code",
      "metadata": {
        "colab": {
          "base_uri": "https://localhost:8080/"
        },
        "id": "aYhWXxhq06rw",
        "outputId": "ae574a38-f052-4410-9c92-c6e0fea8bf5f"
      },
      "source": [
        "np_sqrt=np.sqrt([2,4,9,16])\r\n",
        "np_sqrt"
      ],
      "execution_count": 9,
      "outputs": [
        {
          "output_type": "execute_result",
          "data": {
            "text/plain": [
              "array([1.41421356, 2.        , 3.        , 4.        ])"
            ]
          },
          "metadata": {
            "tags": []
          },
          "execution_count": 9
        }
      ]
    },
    {
      "cell_type": "code",
      "metadata": {
        "colab": {
          "base_uri": "https://localhost:8080/"
        },
        "id": "I6xkiIKD3FKF",
        "outputId": "7e879ebc-2c85-48df-a677-dc6132b02c2a"
      },
      "source": [
        "from numpy import pi\r\n",
        "np.cos(0)"
      ],
      "execution_count": 10,
      "outputs": [
        {
          "output_type": "execute_result",
          "data": {
            "text/plain": [
              "1.0"
            ]
          },
          "metadata": {
            "tags": []
          },
          "execution_count": 10
        }
      ]
    },
    {
      "cell_type": "code",
      "metadata": {
        "colab": {
          "base_uri": "https://localhost:8080/"
        },
        "id": "6PzMjsgX3M4s",
        "outputId": "6af5dcd3-f57d-4391-cff9-b294580244eb"
      },
      "source": [
        "np.sin(pi/2)"
      ],
      "execution_count": 11,
      "outputs": [
        {
          "output_type": "execute_result",
          "data": {
            "text/plain": [
              "1.0"
            ]
          },
          "metadata": {
            "tags": []
          },
          "execution_count": 11
        }
      ]
    },
    {
      "cell_type": "code",
      "metadata": {
        "colab": {
          "base_uri": "https://localhost:8080/"
        },
        "id": "3ayeEmIW3P91",
        "outputId": "7ba15d5e-fae3-4582-d6b7-5f7689d174f2"
      },
      "source": [
        "np.cos(pi)"
      ],
      "execution_count": 12,
      "outputs": [
        {
          "output_type": "execute_result",
          "data": {
            "text/plain": [
              "-1.0"
            ]
          },
          "metadata": {
            "tags": []
          },
          "execution_count": 12
        }
      ]
    },
    {
      "cell_type": "code",
      "metadata": {
        "colab": {
          "base_uri": "https://localhost:8080/"
        },
        "id": "kxj6IPP63Skh",
        "outputId": "7fc75503-ef1f-4bf9-fe38-de735d1aeab5"
      },
      "source": [
        "np.floor([1.5,1.4,1.6,2.7,3.3,1.1,-0.3,-1.4])"
      ],
      "execution_count": 13,
      "outputs": [
        {
          "output_type": "execute_result",
          "data": {
            "text/plain": [
              "array([ 1.,  1.,  1.,  2.,  3.,  1., -1., -2.])"
            ]
          },
          "metadata": {
            "tags": []
          },
          "execution_count": 13
        }
      ]
    },
    {
      "cell_type": "code",
      "metadata": {
        "colab": {
          "base_uri": "https://localhost:8080/"
        },
        "id": "YGabq9h13eBh",
        "outputId": "68f49486-c509-438a-80d9-65fccd0585b2"
      },
      "source": [
        "np.exp([0,1,5])"
      ],
      "execution_count": 14,
      "outputs": [
        {
          "output_type": "execute_result",
          "data": {
            "text/plain": [
              "array([  1.        ,   2.71828183, 148.4131591 ])"
            ]
          },
          "metadata": {
            "tags": []
          },
          "execution_count": 14
        }
      ]
    },
    {
      "cell_type": "code",
      "metadata": {
        "id": "croFTKUS3nFS"
      },
      "source": [
        ""
      ],
      "execution_count": null,
      "outputs": []
    }
  ]
}