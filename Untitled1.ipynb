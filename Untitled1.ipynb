{
  "nbformat": 4,
  "nbformat_minor": 0,
  "metadata": {
    "colab": {
      "name": "Untitled1.ipynb",
      "provenance": [],
      "authorship_tag": "ABX9TyM0t6JcU16718sUo9PLGqgI",
      "include_colab_link": true
    },
    "kernelspec": {
      "name": "python3",
      "display_name": "Python 3"
    }
  },
  "cells": [
    {
      "cell_type": "markdown",
      "metadata": {
        "id": "view-in-github",
        "colab_type": "text"
      },
      "source": [
        "<a href=\"https://colab.research.google.com/github/leejyy/New/blob/master/Untitled1.ipynb\" target=\"_parent\"><img src=\"https://colab.research.google.com/assets/colab-badge.svg\" alt=\"Open In Colab\"/></a>"
      ]
    },
    {
      "cell_type": "code",
      "metadata": {
        "id": "0ESJGjVIN43Z"
      },
      "source": [
        "last_name='li'\r\n",
        "lastName=\"May\"\r\n",
        "LastName=\"Chen\"\r\n",
        "LASTNAME='Zheng'\r\n",
        "Last_Name='Wong'"
      ],
      "execution_count": 4,
      "outputs": []
    },
    {
      "cell_type": "code",
      "metadata": {
        "colab": {
          "base_uri": "https://localhost:8080/"
        },
        "id": "ba3fE8CTOVW4",
        "outputId": "11c82ed2-9036-4a13-b7ce-5ab681959484"
      },
      "source": [
        "print(lastName)"
      ],
      "execution_count": 3,
      "outputs": [
        {
          "output_type": "stream",
          "text": [
            "May\n"
          ],
          "name": "stdout"
        }
      ]
    },
    {
      "cell_type": "code",
      "metadata": {
        "colab": {
          "base_uri": "https://localhost:8080/"
        },
        "id": "tojo8YQVOZQI",
        "outputId": "04d68dd5-5702-46e2-e06e-a099ef492a80"
      },
      "source": [
        "print(last_name)"
      ],
      "execution_count": 5,
      "outputs": [
        {
          "output_type": "stream",
          "text": [
            "li\n"
          ],
          "name": "stdout"
        }
      ]
    },
    {
      "cell_type": "code",
      "metadata": {
        "colab": {
          "base_uri": "https://localhost:8080/"
        },
        "id": "ZVIgPR46PKKr",
        "outputId": "d6f180ae-fa2b-49f9-86d0-8f670ecff4c9"
      },
      "source": [
        "print(LastName)"
      ],
      "execution_count": 6,
      "outputs": [
        {
          "output_type": "stream",
          "text": [
            "Chen\n"
          ],
          "name": "stdout"
        }
      ]
    },
    {
      "cell_type": "code",
      "metadata": {
        "colab": {
          "base_uri": "https://localhost:8080/"
        },
        "id": "LKpo-G4hPOeO",
        "outputId": "07f6f4a6-48dd-428e-d595-37efd23e6638"
      },
      "source": [
        "print(LASTNAME)"
      ],
      "execution_count": 7,
      "outputs": [
        {
          "output_type": "stream",
          "text": [
            "Zheng\n"
          ],
          "name": "stdout"
        }
      ]
    },
    {
      "cell_type": "code",
      "metadata": {
        "colab": {
          "base_uri": "https://localhost:8080/"
        },
        "id": "qqRWp0kKPYT6",
        "outputId": "d010b128-44a5-4535-c5de-a1f058fdb921"
      },
      "source": [
        "print(Last_Name)"
      ],
      "execution_count": 8,
      "outputs": [
        {
          "output_type": "stream",
          "text": [
            "Wong\n"
          ],
          "name": "stdout"
        }
      ]
    },
    {
      "cell_type": "code",
      "metadata": {
        "id": "5bxJwzF8PjLZ"
      },
      "source": [
        ""
      ],
      "execution_count": null,
      "outputs": []
    },
    {
      "cell_type": "markdown",
      "metadata": {
        "id": "e9cBKaFCX2u1"
      },
      "source": [
        "Data Types"
      ]
    },
    {
      "cell_type": "code",
      "metadata": {
        "id": "r_omhlpBX8mB"
      },
      "source": [
        "num=12.19039489293849384"
      ],
      "execution_count": 9,
      "outputs": []
    },
    {
      "cell_type": "code",
      "metadata": {
        "colab": {
          "base_uri": "https://localhost:8080/"
        },
        "id": "2JN1rOeEYN4i",
        "outputId": "3711c378-3948-49f8-b2ca-d69920ddaaf5"
      },
      "source": [
        "num"
      ],
      "execution_count": 10,
      "outputs": [
        {
          "output_type": "execute_result",
          "data": {
            "text/plain": [
              "12.190394892938494"
            ]
          },
          "metadata": {
            "tags": []
          },
          "execution_count": 10
        }
      ]
    },
    {
      "cell_type": "code",
      "metadata": {
        "colab": {
          "base_uri": "https://localhost:8080/",
          "height": 162
        },
        "id": "THkO7osmYQGg",
        "outputId": "51fe6978-6022-46a4-ddf4-287814b30517"
      },
      "source": [
        ""
      ],
      "execution_count": 13,
      "outputs": [
        {
          "output_type": "error",
          "ename": "NameError",
          "evalue": "ignored",
          "traceback": [
            "\u001b[0;31m---------------------------------------------------------------------------\u001b[0m",
            "\u001b[0;31mNameError\u001b[0m                                 Traceback (most recent call last)",
            "\u001b[0;32m<ipython-input-13-a984292e3e46>\u001b[0m in \u001b[0;36m<module>\u001b[0;34m()\u001b[0m\n\u001b[0;32m----> 1\u001b[0;31m \u001b[0mmath\u001b[0m\u001b[0;34m\u001b[0m\u001b[0;34m\u001b[0m\u001b[0m\n\u001b[0m",
            "\u001b[0;31mNameError\u001b[0m: name 'math' is not defined"
          ]
        }
      ]
    },
    {
      "cell_type": "code",
      "metadata": {
        "colab": {
          "base_uri": "https://localhost:8080/"
        },
        "id": "n33PQZA6YiJQ",
        "outputId": "a6e48fc7-edfc-4304-fabd-a43c92502d9c"
      },
      "source": [
        "type(num)"
      ],
      "execution_count": 14,
      "outputs": [
        {
          "output_type": "execute_result",
          "data": {
            "text/plain": [
              "float"
            ]
          },
          "metadata": {
            "tags": []
          },
          "execution_count": 14
        }
      ]
    },
    {
      "cell_type": "code",
      "metadata": {
        "id": "zMfZcKp1ZO55"
      },
      "source": [
        "game=True"
      ],
      "execution_count": 15,
      "outputs": []
    },
    {
      "cell_type": "code",
      "metadata": {
        "colab": {
          "base_uri": "https://localhost:8080/"
        },
        "id": "VwK3nYRmZSpJ",
        "outputId": "386cc7e0-bf34-4b27-95fc-0979ac3887a1"
      },
      "source": [
        "type(game)"
      ],
      "execution_count": 16,
      "outputs": [
        {
          "output_type": "execute_result",
          "data": {
            "text/plain": [
              "bool"
            ]
          },
          "metadata": {
            "tags": []
          },
          "execution_count": 16
        }
      ]
    },
    {
      "cell_type": "code",
      "metadata": {
        "id": "fXKiiQpkZVHJ"
      },
      "source": [
        "list=[\"name\",\"time\",\"carrots\"]"
      ],
      "execution_count": 17,
      "outputs": []
    },
    {
      "cell_type": "code",
      "metadata": {
        "colab": {
          "base_uri": "https://localhost:8080/"
        },
        "id": "PhA7aeZAZfbl",
        "outputId": "dd12bc95-4a32-4da2-fe3b-05a5d507c807"
      },
      "source": [
        "list"
      ],
      "execution_count": 18,
      "outputs": [
        {
          "output_type": "execute_result",
          "data": {
            "text/plain": [
              "['name', 'time', 'carrots']"
            ]
          },
          "metadata": {
            "tags": []
          },
          "execution_count": 18
        }
      ]
    },
    {
      "cell_type": "code",
      "metadata": {
        "id": "c6KBe8xxZhBh"
      },
      "source": [
        ""
      ],
      "execution_count": null,
      "outputs": []
    },
    {
      "cell_type": "markdown",
      "metadata": {
        "id": "dFOgbbTaZ7cw"
      },
      "source": [
        "Creat 10 lists, booleans, floats"
      ]
    },
    {
      "cell_type": "code",
      "metadata": {
        "id": "M-WQKywXaDSY"
      },
      "source": [
        "list1=['a','b']\r\n",
        "list2=['a','b','c']\r\n",
        "list3=['e','f']\r\n",
        "list4=['w','d']\r\n",
        "list5=['a','s']\r\n",
        "list6=['e','q']\r\n",
        "list7=['f','s']\r\n",
        "list8=['k','l']"
      ],
      "execution_count": 19,
      "outputs": []
    },
    {
      "cell_type": "code",
      "metadata": {
        "colab": {
          "base_uri": "https://localhost:8080/"
        },
        "id": "bnjivXaGbeh3",
        "outputId": "5df373af-e887-454a-d875-b4cf72ca5eb8"
      },
      "source": [
        "list1\r\n",
        "list2\r\n",
        "list3\r\n",
        "list4\r\n",
        "list5"
      ],
      "execution_count": 21,
      "outputs": [
        {
          "output_type": "execute_result",
          "data": {
            "text/plain": [
              "['a', 's']"
            ]
          },
          "metadata": {
            "tags": []
          },
          "execution_count": 21
        }
      ]
    },
    {
      "cell_type": "code",
      "metadata": {
        "id": "eFOCLhOAblMS"
      },
      "source": [
        "hi=True \r\n",
        "ok=False\r\n",
        "no=True\r\n"
      ],
      "execution_count": 22,
      "outputs": []
    },
    {
      "cell_type": "code",
      "metadata": {
        "colab": {
          "base_uri": "https://localhost:8080/"
        },
        "id": "CVfc1l5lb22a",
        "outputId": "446fce7a-b8d1-442f-ffb3-3f49d0cd15e5"
      },
      "source": [
        "no"
      ],
      "execution_count": 23,
      "outputs": [
        {
          "output_type": "execute_result",
          "data": {
            "text/plain": [
              "True"
            ]
          },
          "metadata": {
            "tags": []
          },
          "execution_count": 23
        }
      ]
    },
    {
      "cell_type": "code",
      "metadata": {
        "id": "GaBrEl3rb4ao"
      },
      "source": [
        "float=0.394"
      ],
      "execution_count": 24,
      "outputs": []
    },
    {
      "cell_type": "code",
      "metadata": {
        "colab": {
          "base_uri": "https://localhost:8080/"
        },
        "id": "_nhK5_PFcGnJ",
        "outputId": "b98c7664-a9af-4df3-b709-26281ee80216"
      },
      "source": [
        "float"
      ],
      "execution_count": 25,
      "outputs": [
        {
          "output_type": "execute_result",
          "data": {
            "text/plain": [
              "0.394"
            ]
          },
          "metadata": {
            "tags": []
          },
          "execution_count": 25
        }
      ]
    },
    {
      "cell_type": "code",
      "metadata": {
        "id": "uukRAOrtfzKv"
      },
      "source": [
        "myDict={'Key':'Value'}"
      ],
      "execution_count": 27,
      "outputs": []
    },
    {
      "cell_type": "code",
      "metadata": {
        "colab": {
          "base_uri": "https://localhost:8080/"
        },
        "id": "o8FDgmRgiw-V",
        "outputId": "681ef93e-2752-4c7e-c127-8f0b83b3074d"
      },
      "source": [
        "myDict"
      ],
      "execution_count": 28,
      "outputs": [
        {
          "output_type": "execute_result",
          "data": {
            "text/plain": [
              "{'Key': 'Value'}"
            ]
          },
          "metadata": {
            "tags": []
          },
          "execution_count": 28
        }
      ]
    },
    {
      "cell_type": "code",
      "metadata": {
        "id": "2iEELMNDi14p"
      },
      "source": [
        "# Creat:\r\n",
        "# dict1 =10 foods\r\n",
        "# dict2 =10 people names\r\n",
        "# dict3 =5 sports playes "
      ],
      "execution_count": 29,
      "outputs": []
    },
    {
      "cell_type": "code",
      "metadata": {
        "id": "TJEBRcGZjb6e"
      },
      "source": [
        "dict1={'Key1':'apple','Key2':'banana','Key3':'beef','Key4':'pork','Key5':'honey','Key6':'cake','key7':'chicken','key8':'meatball','key9':'orange','key10':'burger'}"
      ],
      "execution_count": 30,
      "outputs": []
    },
    {
      "cell_type": "code",
      "metadata": {
        "colab": {
          "base_uri": "https://localhost:8080/"
        },
        "id": "nQC5CG6Nk9tl",
        "outputId": "c248271a-db41-442c-a5cb-67d252532056"
      },
      "source": [
        "dict1"
      ],
      "execution_count": 31,
      "outputs": [
        {
          "output_type": "execute_result",
          "data": {
            "text/plain": [
              "{'Key1': 'apple',\n",
              " 'Key2': 'banana',\n",
              " 'Key3': 'beef',\n",
              " 'Key4': 'pork',\n",
              " 'Key5': 'honey',\n",
              " 'Key6': 'cake',\n",
              " 'key10': 'burger',\n",
              " 'key7': 'chicken',\n",
              " 'key8': 'meatball',\n",
              " 'key9': 'orange'}"
            ]
          },
          "metadata": {
            "tags": []
          },
          "execution_count": 31
        }
      ]
    },
    {
      "cell_type": "code",
      "metadata": {
        "id": "ferrTrJNk_hO"
      },
      "source": [
        "dict2={'Key':'Kirs','Key1':'Mike','Key2':'Bob','Key3':'Kevin','Key4':'Ken','Key5':'Jimmy','Key6':'Timmy','Key7':'June','Key8':'Jay','Key9':'Park'}"
      ],
      "execution_count": 36,
      "outputs": []
    },
    {
      "cell_type": "code",
      "metadata": {
        "colab": {
          "base_uri": "https://localhost:8080/"
        },
        "id": "XtuolcCKlyCq",
        "outputId": "5718516e-9ea5-44c7-9699-b5789d06f8f3"
      },
      "source": [
        "dict2"
      ],
      "execution_count": 37,
      "outputs": [
        {
          "output_type": "execute_result",
          "data": {
            "text/plain": [
              "{'Key': 'Kirs',\n",
              " 'Key1': 'Mike',\n",
              " 'Key2': 'Bob',\n",
              " 'Key3': 'Kevin',\n",
              " 'Key4': 'Ken',\n",
              " 'Key5': 'Jimmy',\n",
              " 'Key6': 'Timmy',\n",
              " 'Key7': 'June',\n",
              " 'Key8': 'Jay',\n",
              " 'Key9': 'Park'}"
            ]
          },
          "metadata": {
            "tags": []
          },
          "execution_count": 37
        }
      ]
    },
    {
      "cell_type": "code",
      "metadata": {
        "id": "1bVbUlaNlzZL"
      },
      "source": [
        "dict3={'football':'Messi','basketball':'James','Pingpong ball':'Ma Long','volleyball':'Kerri','golf':'Tiger'}"
      ],
      "execution_count": 42,
      "outputs": []
    },
    {
      "cell_type": "code",
      "metadata": {
        "colab": {
          "base_uri": "https://localhost:8080/"
        },
        "id": "Pr1zxKj7nILr",
        "outputId": "3cd74d8c-9f54-471e-d475-6f8d68ef23ef"
      },
      "source": [
        "dict3"
      ],
      "execution_count": 43,
      "outputs": [
        {
          "output_type": "execute_result",
          "data": {
            "text/plain": [
              "{'Pingpong ball': 'Ma Long',\n",
              " 'basketball': 'James',\n",
              " 'football': 'Messi',\n",
              " 'golf': 'Tiger',\n",
              " 'volleyball': 'Kerri'}"
            ]
          },
          "metadata": {
            "tags": []
          },
          "execution_count": 43
        }
      ]
    },
    {
      "cell_type": "code",
      "metadata": {
        "colab": {
          "base_uri": "https://localhost:8080/",
          "height": 35
        },
        "id": "vJU9xv-qnRQN",
        "outputId": "20142044-8f1b-4fa1-d2cf-863766faf493"
      },
      "source": [
        "lastName.upper()"
      ],
      "execution_count": 45,
      "outputs": [
        {
          "output_type": "execute_result",
          "data": {
            "application/vnd.google.colaboratory.intrinsic+json": {
              "type": "string"
            },
            "text/plain": [
              "'MAY'"
            ]
          },
          "metadata": {
            "tags": []
          },
          "execution_count": 45
        }
      ]
    },
    {
      "cell_type": "code",
      "metadata": {
        "id": "6XiXp4R28GuR"
      },
      "source": [
        ""
      ],
      "execution_count": null,
      "outputs": []
    }
  ]
}