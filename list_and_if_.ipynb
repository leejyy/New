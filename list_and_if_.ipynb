{
  "nbformat": 4,
  "nbformat_minor": 0,
  "metadata": {
    "colab": {
      "name": "list and  if .ipynb",
      "provenance": [],
      "authorship_tag": "ABX9TyMEpVr///gn2JDD9ejIQXg2",
      "include_colab_link": true
    },
    "kernelspec": {
      "name": "python3",
      "display_name": "Python 3"
    }
  },
  "cells": [
    {
      "cell_type": "markdown",
      "metadata": {
        "id": "view-in-github",
        "colab_type": "text"
      },
      "source": [
        "<a href=\"https://colab.research.google.com/github/leejyy/New/blob/master/list_and_if_.ipynb\" target=\"_parent\"><img src=\"https://colab.research.google.com/assets/colab-badge.svg\" alt=\"Open In Colab\"/></a>"
      ]
    },
    {
      "cell_type": "code",
      "metadata": {
        "id": "gJ8IY5s-dFB6"
      },
      "source": [
        "movies=['star wars', 'star trek', 'lord of the rings', 'avengers']"
      ],
      "execution_count": 1,
      "outputs": []
    },
    {
      "cell_type": "code",
      "metadata": {
        "colab": {
          "base_uri": "https://localhost:8080/"
        },
        "id": "84uX323-euwZ",
        "outputId": "1b36dabe-a0db-4032-f4f2-9de67cc5eb62"
      },
      "source": [
        "print(movies)"
      ],
      "execution_count": 2,
      "outputs": [
        {
          "output_type": "stream",
          "text": [
            "['star wars', 'star trek', 'lord of the rings', 'avengers']\n"
          ],
          "name": "stdout"
        }
      ]
    },
    {
      "cell_type": "code",
      "metadata": {
        "colab": {
          "base_uri": "https://localhost:8080/"
        },
        "id": "LS067ALkeyty",
        "outputId": "89e6751f-2781-45eb-99a3-5c3809ce281f"
      },
      "source": [
        "print(movies[3])"
      ],
      "execution_count": 4,
      "outputs": [
        {
          "output_type": "stream",
          "text": [
            "avengers\n"
          ],
          "name": "stdout"
        }
      ]
    },
    {
      "cell_type": "code",
      "metadata": {
        "colab": {
          "base_uri": "https://localhost:8080/"
        },
        "id": "QDD8rzuGe4oR",
        "outputId": "c16a19fb-b31f-4347-dc90-e72086e839e4"
      },
      "source": [
        "print(movies[2][3])"
      ],
      "execution_count": 5,
      "outputs": [
        {
          "output_type": "stream",
          "text": [
            "d\n"
          ],
          "name": "stdout"
        }
      ]
    },
    {
      "cell_type": "code",
      "metadata": {
        "id": "nBxCvm1HfCCN"
      },
      "source": [
        "message=\"My favorite movie is\"+movies[2].upper()+\"!!!\""
      ],
      "execution_count": 6,
      "outputs": []
    },
    {
      "cell_type": "code",
      "metadata": {
        "colab": {
          "base_uri": "https://localhost:8080/"
        },
        "id": "GoTTJ52IiBl4",
        "outputId": "810b4e93-e994-40f0-984a-027e1b472182"
      },
      "source": [
        "print(message)"
      ],
      "execution_count": 7,
      "outputs": [
        {
          "output_type": "stream",
          "text": [
            "My favorite movie isLORD OF THE RINGS!!!\n"
          ],
          "name": "stdout"
        }
      ]
    },
    {
      "cell_type": "code",
      "metadata": {
        "colab": {
          "base_uri": "https://localhost:8080/"
        },
        "id": "fQONeWACiDuE",
        "outputId": "8f4c3ed8-fbf4-4b2e-f1b3-d36e0ebdcff3"
      },
      "source": [
        "len(movies)"
      ],
      "execution_count": 8,
      "outputs": [
        {
          "output_type": "execute_result",
          "data": {
            "text/plain": [
              "4"
            ]
          },
          "metadata": {
            "tags": []
          },
          "execution_count": 8
        }
      ]
    },
    {
      "cell_type": "code",
      "metadata": {
        "id": "ypRmEy6NiH_W"
      },
      "source": [
        "movies[3]='Avatar'"
      ],
      "execution_count": 9,
      "outputs": []
    },
    {
      "cell_type": "code",
      "metadata": {
        "colab": {
          "base_uri": "https://localhost:8080/"
        },
        "id": "qTc4zxQhjKcc",
        "outputId": "ad4d3fac-3200-4506-c0f9-1484016a766f"
      },
      "source": [
        "movies"
      ],
      "execution_count": 10,
      "outputs": [
        {
          "output_type": "execute_result",
          "data": {
            "text/plain": [
              "['star wars', 'star trek', 'lord of the rings', 'Avatar']"
            ]
          },
          "metadata": {
            "tags": []
          },
          "execution_count": 10
        }
      ]
    },
    {
      "cell_type": "code",
      "metadata": {
        "id": "0f7ZI-AOjMRp"
      },
      "source": [
        "movies.append('The god father')"
      ],
      "execution_count": 11,
      "outputs": []
    },
    {
      "cell_type": "code",
      "metadata": {
        "colab": {
          "base_uri": "https://localhost:8080/"
        },
        "id": "PaNg6kW1jXSH",
        "outputId": "2e82ddd9-fd8a-4227-b283-57029f8988a4"
      },
      "source": [
        "movies"
      ],
      "execution_count": 12,
      "outputs": [
        {
          "output_type": "execute_result",
          "data": {
            "text/plain": [
              "['star wars', 'star trek', 'lord of the rings', 'Avatar', 'The god father']"
            ]
          },
          "metadata": {
            "tags": []
          },
          "execution_count": 12
        }
      ]
    },
    {
      "cell_type": "code",
      "metadata": {
        "id": "dTCgGFH5jZB6"
      },
      "source": [
        "movies.insert(2,'Dunkrik')"
      ],
      "execution_count": 13,
      "outputs": []
    },
    {
      "cell_type": "code",
      "metadata": {
        "colab": {
          "base_uri": "https://localhost:8080/"
        },
        "id": "UiOPRoK7jl91",
        "outputId": "3d602df7-164c-4d32-c2a9-68007c2b2d07"
      },
      "source": [
        "movies"
      ],
      "execution_count": 14,
      "outputs": [
        {
          "output_type": "execute_result",
          "data": {
            "text/plain": [
              "['star wars',\n",
              " 'star trek',\n",
              " 'Dunkrik',\n",
              " 'lord of the rings',\n",
              " 'Avatar',\n",
              " 'The god father']"
            ]
          },
          "metadata": {
            "tags": []
          },
          "execution_count": 14
        }
      ]
    },
    {
      "cell_type": "code",
      "metadata": {
        "id": "T4kGAUzNjnaz"
      },
      "source": [
        "movies1=movies.append('space jam')"
      ],
      "execution_count": 15,
      "outputs": []
    },
    {
      "cell_type": "code",
      "metadata": {
        "id": "LewU_DDdBvp-"
      },
      "source": [
        ""
      ],
      "execution_count": null,
      "outputs": []
    },
    {
      "cell_type": "code",
      "metadata": {
        "colab": {
          "base_uri": "https://localhost:8080/"
        },
        "id": "H5yV8KaImTqK",
        "outputId": "32e87bf7-f8d6-4f59-8ddd-16c0588f218d"
      },
      "source": [
        "age=32\r\n",
        "\r\n",
        "if age<5:\r\n",
        "  print(\"free\")\r\n",
        "elif age<18:\r\n",
        "  print(\"$5\")\r\n",
        "else:\r\n",
        "  print(\"$10\")"
      ],
      "execution_count": null,
      "outputs": [
        {
          "output_type": "stream",
          "text": [
            "$10\n"
          ],
          "name": "stdout"
        }
      ]
    },
    {
      "cell_type": "code",
      "metadata": {
        "colab": {
          "base_uri": "https://localhost:8080/"
        },
        "id": "iU2SwrTDmRRY",
        "outputId": "8e614d05-b06c-4771-d1d9-62d2bcd70ad2"
      },
      "source": [
        "print(movies1)"
      ],
      "execution_count": 18,
      "outputs": [
        {
          "output_type": "stream",
          "text": [
            "None\n"
          ],
          "name": "stdout"
        }
      ]
    },
    {
      "cell_type": "code",
      "metadata": {
        "colab": {
          "base_uri": "https://localhost:8080/"
        },
        "id": "gUHvwnDhwZXM",
        "outputId": "dfbedf6e-d88e-46ca-e6ab-3f7ae1976a70"
      },
      "source": [
        "name = input(\"Enter your name: \")"
      ],
      "execution_count": 20,
      "outputs": [
        {
          "output_type": "stream",
          "text": [
            "Enter your name: jiayang li\n"
          ],
          "name": "stdout"
        }
      ]
    },
    {
      "cell_type": "code",
      "metadata": {
        "colab": {
          "base_uri": "https://localhost:8080/",
          "height": 128
        },
        "id": "KQad5cjiwoZy",
        "outputId": "4f4df691-161c-4c11-f2db-2dddaf0262fd"
      },
      "source": [
        "if int age<21:\r\n",
        "  print(\"too young\")\r\n",
        "else:\r\n",
        "  print(\"you can drink\")\r\n",
        "age=input(\"Enter your age:\")"
      ],
      "execution_count": 27,
      "outputs": [
        {
          "output_type": "error",
          "ename": "SyntaxError",
          "evalue": "ignored",
          "traceback": [
            "\u001b[0;36m  File \u001b[0;32m\"<ipython-input-27-128b149b8c10>\"\u001b[0;36m, line \u001b[0;32m1\u001b[0m\n\u001b[0;31m    if int age<21:\u001b[0m\n\u001b[0m             ^\u001b[0m\n\u001b[0;31mSyntaxError\u001b[0m\u001b[0;31m:\u001b[0m invalid syntax\n"
          ]
        }
      ]
    },
    {
      "cell_type": "code",
      "metadata": {
        "colab": {
          "base_uri": "https://localhost:8080/"
        },
        "id": "BUKuiPkDytHc",
        "outputId": "d6930d49-22db-46fd-a325-593d7cd6dbdd"
      },
      "source": [
        "toppings=['chocolate','sprinkles']\r\n",
        "\r\n",
        "if'chocolate'in toppings:\r\n",
        "  print(\"adding chocolate\")\r\n",
        "if 'sprinkles'in toppings:\r\n",
        "  print(\"adding sprinkles\")\r\n",
        "if'peanuts'in toppings:\r\n",
        "  print(\"adding peanuts\")"
      ],
      "execution_count": 29,
      "outputs": [
        {
          "output_type": "stream",
          "text": [
            "adding chocolate\n",
            "adding sprinkles\n"
          ],
          "name": "stdout"
        }
      ]
    },
    {
      "cell_type": "code",
      "metadata": {
        "colab": {
          "base_uri": "https://localhost:8080/"
        },
        "id": "uFS-G5O4Dpco",
        "outputId": "b093d3cc-1653-4eca-8b17-c82785921633"
      },
      "source": [
        "topping= input()\r\n",
        "for topping in toppings:\r\n",
        "  if topping == 'chocolate':\r\n",
        "    print(\"All out of chocolate!\")\r\n",
        "  else:\r\n",
        "    print(\"Adding the following topping!\"+topping)\r\n"
      ],
      "execution_count": 39,
      "outputs": [
        {
          "output_type": "stream",
          "text": [
            "chocolate\n",
            "Adding the following topping!c\n",
            "Adding the following topping!h\n",
            "Adding the following topping!o\n",
            "Adding the following topping!c\n",
            "Adding the following topping!o\n",
            "Adding the following topping!l\n",
            "Adding the following topping!a\n",
            "Adding the following topping!t\n",
            "Adding the following topping!e\n"
          ],
          "name": "stdout"
        }
      ]
    },
    {
      "cell_type": "code",
      "metadata": {
        "id": "fGVASHX-HAIs"
      },
      "source": [
        ""
      ],
      "execution_count": 38,
      "outputs": []
    }
  ]
}