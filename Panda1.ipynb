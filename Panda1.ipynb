{
  "nbformat": 4,
  "nbformat_minor": 0,
  "metadata": {
    "colab": {
      "name": "Panda1.ipynb",
      "provenance": [],
      "mount_file_id": "1OSRFbLZFjtTw3CkjstYLgfeonxRiNLrT",
      "authorship_tag": "ABX9TyNuXwJRpjaTdjSbG5qN/6Hw",
      "include_colab_link": true
    },
    "kernelspec": {
      "name": "python3",
      "display_name": "Python 3"
    }
  },
  "cells": [
    {
      "cell_type": "markdown",
      "metadata": {
        "id": "view-in-github",
        "colab_type": "text"
      },
      "source": [
        "<a href=\"https://colab.research.google.com/github/leejyy/New/blob/master/Panda1.ipynb\" target=\"_parent\"><img src=\"https://colab.research.google.com/assets/colab-badge.svg\" alt=\"Open In Colab\"/></a>"
      ]
    },
    {
      "cell_type": "code",
      "metadata": {
        "colab": {
          "base_uri": "https://localhost:8080/"
        },
        "id": "ytx1K3NWOzQg",
        "outputId": "e16e766a-3090-4443-e49d-373d46f813cb"
      },
      "source": [
        "import numpy as np\r\n",
        "import pandas as pd\r\n",
        "labels=['a','b','c']\r\n",
        "my_data=[10,20,30]\r\n",
        "arr= np.array (my_data)\r\n",
        "d={'a':10,'b':20,'c':30}\r\n",
        "pd.Series(data=my_data,index=labels)"
      ],
      "execution_count": 4,
      "outputs": [
        {
          "output_type": "execute_result",
          "data": {
            "text/plain": [
              "a    10\n",
              "b    20\n",
              "c    30\n",
              "dtype: int64"
            ]
          },
          "metadata": {
            "tags": []
          },
          "execution_count": 4
        }
      ]
    },
    {
      "cell_type": "code",
      "metadata": {
        "id": "ubI5ilfUPKnf"
      },
      "source": [
        "import numpy as np\r\n",
        "import pandas as pd\r\n",
        "from numpy.random import randn\r\n",
        "np.random.seed(123)"
      ],
      "execution_count": 6,
      "outputs": []
    },
    {
      "cell_type": "code",
      "metadata": {
        "id": "uhn0n_I0QaXm"
      },
      "source": [
        "df=pd.DataFrame(randn(5,4),['A','B','C','D','E'],['W','X','Y','Z'])"
      ],
      "execution_count": 9,
      "outputs": []
    },
    {
      "cell_type": "code",
      "metadata": {
        "colab": {
          "base_uri": "https://localhost:8080/",
          "height": 195
        },
        "id": "Tn-o917SSgDY",
        "outputId": "11767ee5-7ba7-4ff4-c8e7-940269b1c2bd"
      },
      "source": [
        "df[['W','X']]"
      ],
      "execution_count": 12,
      "outputs": [
        {
          "output_type": "execute_result",
          "data": {
            "text/html": [
              "<div>\n",
              "<style scoped>\n",
              "    .dataframe tbody tr th:only-of-type {\n",
              "        vertical-align: middle;\n",
              "    }\n",
              "\n",
              "    .dataframe tbody tr th {\n",
              "        vertical-align: top;\n",
              "    }\n",
              "\n",
              "    .dataframe thead th {\n",
              "        text-align: right;\n",
              "    }\n",
              "</style>\n",
              "<table border=\"1\" class=\"dataframe\">\n",
              "  <thead>\n",
              "    <tr style=\"text-align: right;\">\n",
              "      <th></th>\n",
              "      <th>W</th>\n",
              "      <th>X</th>\n",
              "    </tr>\n",
              "  </thead>\n",
              "  <tbody>\n",
              "    <tr>\n",
              "      <th>A</th>\n",
              "      <td>-0.805367</td>\n",
              "      <td>-1.727669</td>\n",
              "    </tr>\n",
              "    <tr>\n",
              "      <th>B</th>\n",
              "      <td>0.338589</td>\n",
              "      <td>-0.011830</td>\n",
              "    </tr>\n",
              "    <tr>\n",
              "      <th>C</th>\n",
              "      <td>0.978736</td>\n",
              "      <td>2.238143</td>\n",
              "    </tr>\n",
              "    <tr>\n",
              "      <th>D</th>\n",
              "      <td>1.743712</td>\n",
              "      <td>-0.798063</td>\n",
              "    </tr>\n",
              "    <tr>\n",
              "      <th>E</th>\n",
              "      <td>0.890706</td>\n",
              "      <td>1.754886</td>\n",
              "    </tr>\n",
              "  </tbody>\n",
              "</table>\n",
              "</div>"
            ],
            "text/plain": [
              "          W         X\n",
              "A -0.805367 -1.727669\n",
              "B  0.338589 -0.011830\n",
              "C  0.978736  2.238143\n",
              "D  1.743712 -0.798063\n",
              "E  0.890706  1.754886"
            ]
          },
          "metadata": {
            "tags": []
          },
          "execution_count": 12
        }
      ]
    },
    {
      "cell_type": "code",
      "metadata": {
        "colab": {
          "base_uri": "https://localhost:8080/",
          "height": 195
        },
        "id": "bwHNEr16SvEj",
        "outputId": "2c1fa2be-8306-4f1e-91f3-3f92edb99b89"
      },
      "source": [
        "df"
      ],
      "execution_count": 13,
      "outputs": [
        {
          "output_type": "execute_result",
          "data": {
            "text/html": [
              "<div>\n",
              "<style scoped>\n",
              "    .dataframe tbody tr th:only-of-type {\n",
              "        vertical-align: middle;\n",
              "    }\n",
              "\n",
              "    .dataframe tbody tr th {\n",
              "        vertical-align: top;\n",
              "    }\n",
              "\n",
              "    .dataframe thead th {\n",
              "        text-align: right;\n",
              "    }\n",
              "</style>\n",
              "<table border=\"1\" class=\"dataframe\">\n",
              "  <thead>\n",
              "    <tr style=\"text-align: right;\">\n",
              "      <th></th>\n",
              "      <th>W</th>\n",
              "      <th>X</th>\n",
              "      <th>Y</th>\n",
              "      <th>Z</th>\n",
              "    </tr>\n",
              "  </thead>\n",
              "  <tbody>\n",
              "    <tr>\n",
              "      <th>A</th>\n",
              "      <td>-0.805367</td>\n",
              "      <td>-1.727669</td>\n",
              "      <td>-0.390900</td>\n",
              "      <td>0.573806</td>\n",
              "    </tr>\n",
              "    <tr>\n",
              "      <th>B</th>\n",
              "      <td>0.338589</td>\n",
              "      <td>-0.011830</td>\n",
              "      <td>2.392365</td>\n",
              "      <td>0.412912</td>\n",
              "    </tr>\n",
              "    <tr>\n",
              "      <th>C</th>\n",
              "      <td>0.978736</td>\n",
              "      <td>2.238143</td>\n",
              "      <td>-1.294085</td>\n",
              "      <td>-1.038788</td>\n",
              "    </tr>\n",
              "    <tr>\n",
              "      <th>D</th>\n",
              "      <td>1.743712</td>\n",
              "      <td>-0.798063</td>\n",
              "      <td>0.029683</td>\n",
              "      <td>1.069316</td>\n",
              "    </tr>\n",
              "    <tr>\n",
              "      <th>E</th>\n",
              "      <td>0.890706</td>\n",
              "      <td>1.754886</td>\n",
              "      <td>1.495644</td>\n",
              "      <td>1.069393</td>\n",
              "    </tr>\n",
              "  </tbody>\n",
              "</table>\n",
              "</div>"
            ],
            "text/plain": [
              "          W         X         Y         Z\n",
              "A -0.805367 -1.727669 -0.390900  0.573806\n",
              "B  0.338589 -0.011830  2.392365  0.412912\n",
              "C  0.978736  2.238143 -1.294085 -1.038788\n",
              "D  1.743712 -0.798063  0.029683  1.069316\n",
              "E  0.890706  1.754886  1.495644  1.069393"
            ]
          },
          "metadata": {
            "tags": []
          },
          "execution_count": 13
        }
      ]
    },
    {
      "cell_type": "code",
      "metadata": {
        "id": "s-enf4rWTT6F"
      },
      "source": [
        "df['new']=df['W']+df['Y']"
      ],
      "execution_count": 21,
      "outputs": []
    },
    {
      "cell_type": "code",
      "metadata": {
        "colab": {
          "base_uri": "https://localhost:8080/",
          "height": 195
        },
        "id": "LVfOcOMHTiIi",
        "outputId": "b0fddce8-ce40-4010-d5a0-61b40021c77a"
      },
      "source": [
        "df"
      ],
      "execution_count": 22,
      "outputs": [
        {
          "output_type": "execute_result",
          "data": {
            "text/html": [
              "<div>\n",
              "<style scoped>\n",
              "    .dataframe tbody tr th:only-of-type {\n",
              "        vertical-align: middle;\n",
              "    }\n",
              "\n",
              "    .dataframe tbody tr th {\n",
              "        vertical-align: top;\n",
              "    }\n",
              "\n",
              "    .dataframe thead th {\n",
              "        text-align: right;\n",
              "    }\n",
              "</style>\n",
              "<table border=\"1\" class=\"dataframe\">\n",
              "  <thead>\n",
              "    <tr style=\"text-align: right;\">\n",
              "      <th></th>\n",
              "      <th>W</th>\n",
              "      <th>X</th>\n",
              "      <th>Y</th>\n",
              "      <th>Z</th>\n",
              "      <th>new</th>\n",
              "    </tr>\n",
              "  </thead>\n",
              "  <tbody>\n",
              "    <tr>\n",
              "      <th>A</th>\n",
              "      <td>-0.805367</td>\n",
              "      <td>-1.727669</td>\n",
              "      <td>-0.390900</td>\n",
              "      <td>0.573806</td>\n",
              "      <td>-1.196266</td>\n",
              "    </tr>\n",
              "    <tr>\n",
              "      <th>B</th>\n",
              "      <td>0.338589</td>\n",
              "      <td>-0.011830</td>\n",
              "      <td>2.392365</td>\n",
              "      <td>0.412912</td>\n",
              "      <td>2.730954</td>\n",
              "    </tr>\n",
              "    <tr>\n",
              "      <th>C</th>\n",
              "      <td>0.978736</td>\n",
              "      <td>2.238143</td>\n",
              "      <td>-1.294085</td>\n",
              "      <td>-1.038788</td>\n",
              "      <td>-0.315349</td>\n",
              "    </tr>\n",
              "    <tr>\n",
              "      <th>D</th>\n",
              "      <td>1.743712</td>\n",
              "      <td>-0.798063</td>\n",
              "      <td>0.029683</td>\n",
              "      <td>1.069316</td>\n",
              "      <td>1.773395</td>\n",
              "    </tr>\n",
              "    <tr>\n",
              "      <th>E</th>\n",
              "      <td>0.890706</td>\n",
              "      <td>1.754886</td>\n",
              "      <td>1.495644</td>\n",
              "      <td>1.069393</td>\n",
              "      <td>2.386351</td>\n",
              "    </tr>\n",
              "  </tbody>\n",
              "</table>\n",
              "</div>"
            ],
            "text/plain": [
              "          W         X         Y         Z       new\n",
              "A -0.805367 -1.727669 -0.390900  0.573806 -1.196266\n",
              "B  0.338589 -0.011830  2.392365  0.412912  2.730954\n",
              "C  0.978736  2.238143 -1.294085 -1.038788 -0.315349\n",
              "D  1.743712 -0.798063  0.029683  1.069316  1.773395\n",
              "E  0.890706  1.754886  1.495644  1.069393  2.386351"
            ]
          },
          "metadata": {
            "tags": []
          },
          "execution_count": 22
        }
      ]
    },
    {
      "cell_type": "code",
      "metadata": {
        "id": "k6bDRYfrTjpz"
      },
      "source": [
        "df.drop('new',axis=1,inplace=True)"
      ],
      "execution_count": 24,
      "outputs": []
    },
    {
      "cell_type": "code",
      "metadata": {
        "colab": {
          "base_uri": "https://localhost:8080/",
          "height": 195
        },
        "id": "J37J6IZLT2i2",
        "outputId": "bb052efb-d4f1-422a-c25b-e3fb2ae1b85a"
      },
      "source": [
        "df"
      ],
      "execution_count": 25,
      "outputs": [
        {
          "output_type": "execute_result",
          "data": {
            "text/html": [
              "<div>\n",
              "<style scoped>\n",
              "    .dataframe tbody tr th:only-of-type {\n",
              "        vertical-align: middle;\n",
              "    }\n",
              "\n",
              "    .dataframe tbody tr th {\n",
              "        vertical-align: top;\n",
              "    }\n",
              "\n",
              "    .dataframe thead th {\n",
              "        text-align: right;\n",
              "    }\n",
              "</style>\n",
              "<table border=\"1\" class=\"dataframe\">\n",
              "  <thead>\n",
              "    <tr style=\"text-align: right;\">\n",
              "      <th></th>\n",
              "      <th>W</th>\n",
              "      <th>X</th>\n",
              "      <th>Y</th>\n",
              "      <th>Z</th>\n",
              "    </tr>\n",
              "  </thead>\n",
              "  <tbody>\n",
              "    <tr>\n",
              "      <th>A</th>\n",
              "      <td>-0.805367</td>\n",
              "      <td>-1.727669</td>\n",
              "      <td>-0.390900</td>\n",
              "      <td>0.573806</td>\n",
              "    </tr>\n",
              "    <tr>\n",
              "      <th>B</th>\n",
              "      <td>0.338589</td>\n",
              "      <td>-0.011830</td>\n",
              "      <td>2.392365</td>\n",
              "      <td>0.412912</td>\n",
              "    </tr>\n",
              "    <tr>\n",
              "      <th>C</th>\n",
              "      <td>0.978736</td>\n",
              "      <td>2.238143</td>\n",
              "      <td>-1.294085</td>\n",
              "      <td>-1.038788</td>\n",
              "    </tr>\n",
              "    <tr>\n",
              "      <th>D</th>\n",
              "      <td>1.743712</td>\n",
              "      <td>-0.798063</td>\n",
              "      <td>0.029683</td>\n",
              "      <td>1.069316</td>\n",
              "    </tr>\n",
              "    <tr>\n",
              "      <th>E</th>\n",
              "      <td>0.890706</td>\n",
              "      <td>1.754886</td>\n",
              "      <td>1.495644</td>\n",
              "      <td>1.069393</td>\n",
              "    </tr>\n",
              "  </tbody>\n",
              "</table>\n",
              "</div>"
            ],
            "text/plain": [
              "          W         X         Y         Z\n",
              "A -0.805367 -1.727669 -0.390900  0.573806\n",
              "B  0.338589 -0.011830  2.392365  0.412912\n",
              "C  0.978736  2.238143 -1.294085 -1.038788\n",
              "D  1.743712 -0.798063  0.029683  1.069316\n",
              "E  0.890706  1.754886  1.495644  1.069393"
            ]
          },
          "metadata": {
            "tags": []
          },
          "execution_count": 25
        }
      ]
    },
    {
      "cell_type": "code",
      "metadata": {
        "colab": {
          "base_uri": "https://localhost:8080/",
          "height": 166
        },
        "id": "8EBYhAZEUAPK",
        "outputId": "82d669b1-5b46-4218-de3c-448cb0ef8ab1"
      },
      "source": [
        "df.drop('E',axis=0)"
      ],
      "execution_count": 27,
      "outputs": [
        {
          "output_type": "execute_result",
          "data": {
            "text/html": [
              "<div>\n",
              "<style scoped>\n",
              "    .dataframe tbody tr th:only-of-type {\n",
              "        vertical-align: middle;\n",
              "    }\n",
              "\n",
              "    .dataframe tbody tr th {\n",
              "        vertical-align: top;\n",
              "    }\n",
              "\n",
              "    .dataframe thead th {\n",
              "        text-align: right;\n",
              "    }\n",
              "</style>\n",
              "<table border=\"1\" class=\"dataframe\">\n",
              "  <thead>\n",
              "    <tr style=\"text-align: right;\">\n",
              "      <th></th>\n",
              "      <th>W</th>\n",
              "      <th>X</th>\n",
              "      <th>Y</th>\n",
              "      <th>Z</th>\n",
              "    </tr>\n",
              "  </thead>\n",
              "  <tbody>\n",
              "    <tr>\n",
              "      <th>A</th>\n",
              "      <td>-0.805367</td>\n",
              "      <td>-1.727669</td>\n",
              "      <td>-0.390900</td>\n",
              "      <td>0.573806</td>\n",
              "    </tr>\n",
              "    <tr>\n",
              "      <th>B</th>\n",
              "      <td>0.338589</td>\n",
              "      <td>-0.011830</td>\n",
              "      <td>2.392365</td>\n",
              "      <td>0.412912</td>\n",
              "    </tr>\n",
              "    <tr>\n",
              "      <th>C</th>\n",
              "      <td>0.978736</td>\n",
              "      <td>2.238143</td>\n",
              "      <td>-1.294085</td>\n",
              "      <td>-1.038788</td>\n",
              "    </tr>\n",
              "    <tr>\n",
              "      <th>D</th>\n",
              "      <td>1.743712</td>\n",
              "      <td>-0.798063</td>\n",
              "      <td>0.029683</td>\n",
              "      <td>1.069316</td>\n",
              "    </tr>\n",
              "  </tbody>\n",
              "</table>\n",
              "</div>"
            ],
            "text/plain": [
              "          W         X         Y         Z\n",
              "A -0.805367 -1.727669 -0.390900  0.573806\n",
              "B  0.338589 -0.011830  2.392365  0.412912\n",
              "C  0.978736  2.238143 -1.294085 -1.038788\n",
              "D  1.743712 -0.798063  0.029683  1.069316"
            ]
          },
          "metadata": {
            "tags": []
          },
          "execution_count": 27
        }
      ]
    },
    {
      "cell_type": "code",
      "metadata": {
        "colab": {
          "base_uri": "https://localhost:8080/"
        },
        "id": "hkz4t-n7U4uP",
        "outputId": "edfe7d82-fe71-4008-a779-f0fe3c343928"
      },
      "source": [
        "df.loc['C']"
      ],
      "execution_count": 29,
      "outputs": [
        {
          "output_type": "execute_result",
          "data": {
            "text/plain": [
              "W    0.978736\n",
              "X    2.238143\n",
              "Y   -1.294085\n",
              "Z   -1.038788\n",
              "Name: C, dtype: float64"
            ]
          },
          "metadata": {
            "tags": []
          },
          "execution_count": 29
        }
      ]
    },
    {
      "cell_type": "code",
      "metadata": {
        "colab": {
          "base_uri": "https://localhost:8080/"
        },
        "id": "mhJOd8NfVMgk",
        "outputId": "40e6f007-8304-40a9-cb31-7f4f3deb5d09"
      },
      "source": [
        "df.iloc[2]"
      ],
      "execution_count": 32,
      "outputs": [
        {
          "output_type": "execute_result",
          "data": {
            "text/plain": [
              "W    0.978736\n",
              "X    2.238143\n",
              "Y   -1.294085\n",
              "Z   -1.038788\n",
              "Name: C, dtype: float64"
            ]
          },
          "metadata": {
            "tags": []
          },
          "execution_count": 32
        }
      ]
    },
    {
      "cell_type": "code",
      "metadata": {
        "id": "219QW9E-VRj5"
      },
      "source": [
        "import pandas as pd\r\n",
        "import numpy as np"
      ],
      "execution_count": 38,
      "outputs": []
    },
    {
      "cell_type": "code",
      "metadata": {
        "id": "1rAfLl_Uq9v6"
      },
      "source": [
        "data=\"/content/drive/MyDrive/Colab Notebooks/projects/MTA/data/MTAData.csv\""
      ],
      "execution_count": 36,
      "outputs": []
    },
    {
      "cell_type": "code",
      "metadata": {
        "id": "3ToEl2SyrFU4"
      },
      "source": [
        "data=pd.read_csv('/content/drive/MyDrive/Colab Notebooks/projects/MTA/data/MTAData.csv')"
      ],
      "execution_count": 39,
      "outputs": []
    },
    {
      "cell_type": "code",
      "metadata": {
        "colab": {
          "base_uri": "https://localhost:8080/"
        },
        "id": "Jub-A58xtd1U",
        "outputId": "5b9a5fb1-6a42-4fb8-84d6-414637d29888"
      },
      "source": [
        "data.info()"
      ],
      "execution_count": 40,
      "outputs": [
        {
          "output_type": "stream",
          "text": [
            "<class 'pandas.core.frame.DataFrame'>\n",
            "RangeIndex: 112749 entries, 0 to 112748\n",
            "Data columns (total 12 columns):\n",
            " #   Column                                                                Non-Null Count   Dtype  \n",
            "---  ------                                                                --------------   -----  \n",
            " 0   Unnamed: 0                                                            112749 non-null  int64  \n",
            " 1   C/A                                                                   112749 non-null  object \n",
            " 2   UNIT                                                                  112749 non-null  object \n",
            " 3   SCP                                                                   112749 non-null  object \n",
            " 4   STATION                                                               112749 non-null  object \n",
            " 5   LINENAME                                                              112749 non-null  object \n",
            " 6   DIVISION                                                              112749 non-null  object \n",
            " 7   DATE                                                                  112749 non-null  object \n",
            " 8   TIME                                                                  112749 non-null  object \n",
            " 9   DESC                                                                  112748 non-null  object \n",
            " 10  ENTRIES                                                               112748 non-null  float64\n",
            " 11  EXITS                                                                 112748 non-null  float64\n",
            "dtypes: float64(2), int64(1), object(9)\n",
            "memory usage: 10.3+ MB\n"
          ],
          "name": "stdout"
        }
      ]
    },
    {
      "cell_type": "code",
      "metadata": {
        "colab": {
          "base_uri": "https://localhost:8080/",
          "height": 195
        },
        "id": "CmMkZMrxwLQ0",
        "outputId": "12a76c5f-5e6b-4420-ab37-eee068049da3"
      },
      "source": [
        "data.head()\r\n"
      ],
      "execution_count": 41,
      "outputs": [
        {
          "output_type": "execute_result",
          "data": {
            "text/html": [
              "<div>\n",
              "<style scoped>\n",
              "    .dataframe tbody tr th:only-of-type {\n",
              "        vertical-align: middle;\n",
              "    }\n",
              "\n",
              "    .dataframe tbody tr th {\n",
              "        vertical-align: top;\n",
              "    }\n",
              "\n",
              "    .dataframe thead th {\n",
              "        text-align: right;\n",
              "    }\n",
              "</style>\n",
              "<table border=\"1\" class=\"dataframe\">\n",
              "  <thead>\n",
              "    <tr style=\"text-align: right;\">\n",
              "      <th></th>\n",
              "      <th>Unnamed: 0</th>\n",
              "      <th>C/A</th>\n",
              "      <th>UNIT</th>\n",
              "      <th>SCP</th>\n",
              "      <th>STATION</th>\n",
              "      <th>LINENAME</th>\n",
              "      <th>DIVISION</th>\n",
              "      <th>DATE</th>\n",
              "      <th>TIME</th>\n",
              "      <th>DESC</th>\n",
              "      <th>ENTRIES</th>\n",
              "      <th>EXITS</th>\n",
              "    </tr>\n",
              "  </thead>\n",
              "  <tbody>\n",
              "    <tr>\n",
              "      <th>0</th>\n",
              "      <td>0</td>\n",
              "      <td>A002</td>\n",
              "      <td>R051</td>\n",
              "      <td>02-00-00</td>\n",
              "      <td>59 ST</td>\n",
              "      <td>NQR456W</td>\n",
              "      <td>BMT</td>\n",
              "      <td>06/08/2019</td>\n",
              "      <td>00:00:00</td>\n",
              "      <td>REGULAR</td>\n",
              "      <td>7089463.0</td>\n",
              "      <td>2401758.0</td>\n",
              "    </tr>\n",
              "    <tr>\n",
              "      <th>1</th>\n",
              "      <td>1</td>\n",
              "      <td>A002</td>\n",
              "      <td>R051</td>\n",
              "      <td>02-00-00</td>\n",
              "      <td>59 ST</td>\n",
              "      <td>NQR456W</td>\n",
              "      <td>BMT</td>\n",
              "      <td>06/08/2019</td>\n",
              "      <td>04:00:00</td>\n",
              "      <td>REGULAR</td>\n",
              "      <td>7089491.0</td>\n",
              "      <td>2401764.0</td>\n",
              "    </tr>\n",
              "    <tr>\n",
              "      <th>2</th>\n",
              "      <td>2</td>\n",
              "      <td>A002</td>\n",
              "      <td>R051</td>\n",
              "      <td>02-00-00</td>\n",
              "      <td>59 ST</td>\n",
              "      <td>NQR456W</td>\n",
              "      <td>BMT</td>\n",
              "      <td>06/08/2019</td>\n",
              "      <td>08:00:00</td>\n",
              "      <td>REGULAR</td>\n",
              "      <td>7089511.0</td>\n",
              "      <td>2401807.0</td>\n",
              "    </tr>\n",
              "    <tr>\n",
              "      <th>3</th>\n",
              "      <td>3</td>\n",
              "      <td>A002</td>\n",
              "      <td>R051</td>\n",
              "      <td>02-00-00</td>\n",
              "      <td>59 ST</td>\n",
              "      <td>NQR456W</td>\n",
              "      <td>BMT</td>\n",
              "      <td>06/08/2019</td>\n",
              "      <td>12:00:00</td>\n",
              "      <td>REGULAR</td>\n",
              "      <td>7089598.0</td>\n",
              "      <td>2401889.0</td>\n",
              "    </tr>\n",
              "    <tr>\n",
              "      <th>4</th>\n",
              "      <td>4</td>\n",
              "      <td>A002</td>\n",
              "      <td>R051</td>\n",
              "      <td>02-00-00</td>\n",
              "      <td>59 ST</td>\n",
              "      <td>NQR456W</td>\n",
              "      <td>BMT</td>\n",
              "      <td>06/08/2019</td>\n",
              "      <td>16:00:00</td>\n",
              "      <td>REGULAR</td>\n",
              "      <td>7089801.0</td>\n",
              "      <td>2401946.0</td>\n",
              "    </tr>\n",
              "  </tbody>\n",
              "</table>\n",
              "</div>"
            ],
            "text/plain": [
              "   Unnamed: 0  ... EXITS                                                               \n",
              "0           0  ...                                          2401758.0                  \n",
              "1           1  ...                                          2401764.0                  \n",
              "2           2  ...                                          2401807.0                  \n",
              "3           3  ...                                          2401889.0                  \n",
              "4           4  ...                                          2401946.0                  \n",
              "\n",
              "[5 rows x 12 columns]"
            ]
          },
          "metadata": {
            "tags": []
          },
          "execution_count": 41
        }
      ]
    },
    {
      "cell_type": "code",
      "metadata": {
        "id": "k_LrW9mwwXjd"
      },
      "source": [
        "MTAData=data.drop(['C/A','UNIT','DIVISION','DESC'],axis=1)\r\n"
      ],
      "execution_count": 47,
      "outputs": []
    },
    {
      "cell_type": "markdown",
      "metadata": {
        "id": "YBpWTSwdyvzO"
      },
      "source": [
        "axis=1 refer to column"
      ]
    },
    {
      "cell_type": "code",
      "metadata": {
        "colab": {
          "base_uri": "https://localhost:8080/",
          "height": 402
        },
        "id": "fqLH9VNrwus_",
        "outputId": "5be74b33-fff6-41dc-835d-952bc87ba7ea"
      },
      "source": [
        "MTAData\r\n"
      ],
      "execution_count": 48,
      "outputs": [
        {
          "output_type": "execute_result",
          "data": {
            "text/html": [
              "<div>\n",
              "<style scoped>\n",
              "    .dataframe tbody tr th:only-of-type {\n",
              "        vertical-align: middle;\n",
              "    }\n",
              "\n",
              "    .dataframe tbody tr th {\n",
              "        vertical-align: top;\n",
              "    }\n",
              "\n",
              "    .dataframe thead th {\n",
              "        text-align: right;\n",
              "    }\n",
              "</style>\n",
              "<table border=\"1\" class=\"dataframe\">\n",
              "  <thead>\n",
              "    <tr style=\"text-align: right;\">\n",
              "      <th></th>\n",
              "      <th>Unnamed: 0</th>\n",
              "      <th>SCP</th>\n",
              "      <th>STATION</th>\n",
              "      <th>LINENAME</th>\n",
              "      <th>DATE</th>\n",
              "      <th>TIME</th>\n",
              "      <th>ENTRIES</th>\n",
              "      <th>EXITS</th>\n",
              "    </tr>\n",
              "  </thead>\n",
              "  <tbody>\n",
              "    <tr>\n",
              "      <th>0</th>\n",
              "      <td>0</td>\n",
              "      <td>02-00-00</td>\n",
              "      <td>59 ST</td>\n",
              "      <td>NQR456W</td>\n",
              "      <td>06/08/2019</td>\n",
              "      <td>00:00:00</td>\n",
              "      <td>7089463.0</td>\n",
              "      <td>2401758.0</td>\n",
              "    </tr>\n",
              "    <tr>\n",
              "      <th>1</th>\n",
              "      <td>1</td>\n",
              "      <td>02-00-00</td>\n",
              "      <td>59 ST</td>\n",
              "      <td>NQR456W</td>\n",
              "      <td>06/08/2019</td>\n",
              "      <td>04:00:00</td>\n",
              "      <td>7089491.0</td>\n",
              "      <td>2401764.0</td>\n",
              "    </tr>\n",
              "    <tr>\n",
              "      <th>2</th>\n",
              "      <td>2</td>\n",
              "      <td>02-00-00</td>\n",
              "      <td>59 ST</td>\n",
              "      <td>NQR456W</td>\n",
              "      <td>06/08/2019</td>\n",
              "      <td>08:00:00</td>\n",
              "      <td>7089511.0</td>\n",
              "      <td>2401807.0</td>\n",
              "    </tr>\n",
              "    <tr>\n",
              "      <th>3</th>\n",
              "      <td>3</td>\n",
              "      <td>02-00-00</td>\n",
              "      <td>59 ST</td>\n",
              "      <td>NQR456W</td>\n",
              "      <td>06/08/2019</td>\n",
              "      <td>12:00:00</td>\n",
              "      <td>7089598.0</td>\n",
              "      <td>2401889.0</td>\n",
              "    </tr>\n",
              "    <tr>\n",
              "      <th>4</th>\n",
              "      <td>4</td>\n",
              "      <td>02-00-00</td>\n",
              "      <td>59 ST</td>\n",
              "      <td>NQR456W</td>\n",
              "      <td>06/08/2019</td>\n",
              "      <td>16:00:00</td>\n",
              "      <td>7089801.0</td>\n",
              "      <td>2401946.0</td>\n",
              "    </tr>\n",
              "    <tr>\n",
              "      <th>...</th>\n",
              "      <td>...</td>\n",
              "      <td>...</td>\n",
              "      <td>...</td>\n",
              "      <td>...</td>\n",
              "      <td>...</td>\n",
              "      <td>...</td>\n",
              "      <td>...</td>\n",
              "      <td>...</td>\n",
              "    </tr>\n",
              "    <tr>\n",
              "      <th>112744</th>\n",
              "      <td>112744</td>\n",
              "      <td>00-00-03</td>\n",
              "      <td>86 ST-2 AVE</td>\n",
              "      <td>Q</td>\n",
              "      <td>06/11/2019</td>\n",
              "      <td>21:00:00</td>\n",
              "      <td>1474669.0</td>\n",
              "      <td>1058880.0</td>\n",
              "    </tr>\n",
              "    <tr>\n",
              "      <th>112745</th>\n",
              "      <td>112745</td>\n",
              "      <td>00-00-03</td>\n",
              "      <td>86 ST-2 AVE</td>\n",
              "      <td>Q</td>\n",
              "      <td>06/12/2019</td>\n",
              "      <td>01:00:00</td>\n",
              "      <td>1474879.0</td>\n",
              "      <td>1059059.0</td>\n",
              "    </tr>\n",
              "    <tr>\n",
              "      <th>112746</th>\n",
              "      <td>112746</td>\n",
              "      <td>00-00-03</td>\n",
              "      <td>86 ST-2 AVE</td>\n",
              "      <td>Q</td>\n",
              "      <td>06/12/2019</td>\n",
              "      <td>05:00:00</td>\n",
              "      <td>1474884.0</td>\n",
              "      <td>1059067.0</td>\n",
              "    </tr>\n",
              "    <tr>\n",
              "      <th>112747</th>\n",
              "      <td>112747</td>\n",
              "      <td>00-00-03</td>\n",
              "      <td>86 ST-2 AVE</td>\n",
              "      <td>Q</td>\n",
              "      <td>06/12/2019</td>\n",
              "      <td>09:00:00</td>\n",
              "      <td>1475464.0</td>\n",
              "      <td>1059310.0</td>\n",
              "    </tr>\n",
              "    <tr>\n",
              "      <th>112748</th>\n",
              "      <td>112748</td>\n",
              "      <td>00-00-03</td>\n",
              "      <td>86 ST-2 AVE</td>\n",
              "      <td>Q</td>\n",
              "      <td>06/12/2019</td>\n",
              "      <td>13:00:00</td>\n",
              "      <td>NaN</td>\n",
              "      <td>NaN</td>\n",
              "    </tr>\n",
              "  </tbody>\n",
              "</table>\n",
              "<p>112749 rows × 8 columns</p>\n",
              "</div>"
            ],
            "text/plain": [
              "        Unnamed: 0  ... EXITS                                                               \n",
              "0                0  ...                                          2401758.0                  \n",
              "1                1  ...                                          2401764.0                  \n",
              "2                2  ...                                          2401807.0                  \n",
              "3                3  ...                                          2401889.0                  \n",
              "4                4  ...                                          2401946.0                  \n",
              "...            ...  ...                                                ...                  \n",
              "112744      112744  ...                                          1058880.0                  \n",
              "112745      112745  ...                                          1059059.0                  \n",
              "112746      112746  ...                                          1059067.0                  \n",
              "112747      112747  ...                                          1059310.0                  \n",
              "112748      112748  ...                                                NaN                  \n",
              "\n",
              "[112749 rows x 8 columns]"
            ]
          },
          "metadata": {
            "tags": []
          },
          "execution_count": 48
        }
      ]
    },
    {
      "cell_type": "code",
      "metadata": {
        "id": "r5eLD8Slw1p2"
      },
      "source": [
        "MTAData.drop(MTAData.columns[MTAData.columns.str.contains('unnamed',case = False)],axis = 1, inplace = True)"
      ],
      "execution_count": 49,
      "outputs": []
    },
    {
      "cell_type": "markdown",
      "metadata": {
        "id": "_BEh3KEey_Ix"
      },
      "source": [
        "clean the the unnamed column"
      ]
    },
    {
      "cell_type": "code",
      "metadata": {
        "colab": {
          "base_uri": "https://localhost:8080/",
          "height": 402
        },
        "id": "_8kqWIFSyKqE",
        "outputId": "d08e9da8-ff24-432f-e35c-1a0f02106cf1"
      },
      "source": [
        "MTAData"
      ],
      "execution_count": 50,
      "outputs": [
        {
          "output_type": "execute_result",
          "data": {
            "text/html": [
              "<div>\n",
              "<style scoped>\n",
              "    .dataframe tbody tr th:only-of-type {\n",
              "        vertical-align: middle;\n",
              "    }\n",
              "\n",
              "    .dataframe tbody tr th {\n",
              "        vertical-align: top;\n",
              "    }\n",
              "\n",
              "    .dataframe thead th {\n",
              "        text-align: right;\n",
              "    }\n",
              "</style>\n",
              "<table border=\"1\" class=\"dataframe\">\n",
              "  <thead>\n",
              "    <tr style=\"text-align: right;\">\n",
              "      <th></th>\n",
              "      <th>SCP</th>\n",
              "      <th>STATION</th>\n",
              "      <th>LINENAME</th>\n",
              "      <th>DATE</th>\n",
              "      <th>TIME</th>\n",
              "      <th>ENTRIES</th>\n",
              "      <th>EXITS</th>\n",
              "    </tr>\n",
              "  </thead>\n",
              "  <tbody>\n",
              "    <tr>\n",
              "      <th>0</th>\n",
              "      <td>02-00-00</td>\n",
              "      <td>59 ST</td>\n",
              "      <td>NQR456W</td>\n",
              "      <td>06/08/2019</td>\n",
              "      <td>00:00:00</td>\n",
              "      <td>7089463.0</td>\n",
              "      <td>2401758.0</td>\n",
              "    </tr>\n",
              "    <tr>\n",
              "      <th>1</th>\n",
              "      <td>02-00-00</td>\n",
              "      <td>59 ST</td>\n",
              "      <td>NQR456W</td>\n",
              "      <td>06/08/2019</td>\n",
              "      <td>04:00:00</td>\n",
              "      <td>7089491.0</td>\n",
              "      <td>2401764.0</td>\n",
              "    </tr>\n",
              "    <tr>\n",
              "      <th>2</th>\n",
              "      <td>02-00-00</td>\n",
              "      <td>59 ST</td>\n",
              "      <td>NQR456W</td>\n",
              "      <td>06/08/2019</td>\n",
              "      <td>08:00:00</td>\n",
              "      <td>7089511.0</td>\n",
              "      <td>2401807.0</td>\n",
              "    </tr>\n",
              "    <tr>\n",
              "      <th>3</th>\n",
              "      <td>02-00-00</td>\n",
              "      <td>59 ST</td>\n",
              "      <td>NQR456W</td>\n",
              "      <td>06/08/2019</td>\n",
              "      <td>12:00:00</td>\n",
              "      <td>7089598.0</td>\n",
              "      <td>2401889.0</td>\n",
              "    </tr>\n",
              "    <tr>\n",
              "      <th>4</th>\n",
              "      <td>02-00-00</td>\n",
              "      <td>59 ST</td>\n",
              "      <td>NQR456W</td>\n",
              "      <td>06/08/2019</td>\n",
              "      <td>16:00:00</td>\n",
              "      <td>7089801.0</td>\n",
              "      <td>2401946.0</td>\n",
              "    </tr>\n",
              "    <tr>\n",
              "      <th>...</th>\n",
              "      <td>...</td>\n",
              "      <td>...</td>\n",
              "      <td>...</td>\n",
              "      <td>...</td>\n",
              "      <td>...</td>\n",
              "      <td>...</td>\n",
              "      <td>...</td>\n",
              "    </tr>\n",
              "    <tr>\n",
              "      <th>112744</th>\n",
              "      <td>00-00-03</td>\n",
              "      <td>86 ST-2 AVE</td>\n",
              "      <td>Q</td>\n",
              "      <td>06/11/2019</td>\n",
              "      <td>21:00:00</td>\n",
              "      <td>1474669.0</td>\n",
              "      <td>1058880.0</td>\n",
              "    </tr>\n",
              "    <tr>\n",
              "      <th>112745</th>\n",
              "      <td>00-00-03</td>\n",
              "      <td>86 ST-2 AVE</td>\n",
              "      <td>Q</td>\n",
              "      <td>06/12/2019</td>\n",
              "      <td>01:00:00</td>\n",
              "      <td>1474879.0</td>\n",
              "      <td>1059059.0</td>\n",
              "    </tr>\n",
              "    <tr>\n",
              "      <th>112746</th>\n",
              "      <td>00-00-03</td>\n",
              "      <td>86 ST-2 AVE</td>\n",
              "      <td>Q</td>\n",
              "      <td>06/12/2019</td>\n",
              "      <td>05:00:00</td>\n",
              "      <td>1474884.0</td>\n",
              "      <td>1059067.0</td>\n",
              "    </tr>\n",
              "    <tr>\n",
              "      <th>112747</th>\n",
              "      <td>00-00-03</td>\n",
              "      <td>86 ST-2 AVE</td>\n",
              "      <td>Q</td>\n",
              "      <td>06/12/2019</td>\n",
              "      <td>09:00:00</td>\n",
              "      <td>1475464.0</td>\n",
              "      <td>1059310.0</td>\n",
              "    </tr>\n",
              "    <tr>\n",
              "      <th>112748</th>\n",
              "      <td>00-00-03</td>\n",
              "      <td>86 ST-2 AVE</td>\n",
              "      <td>Q</td>\n",
              "      <td>06/12/2019</td>\n",
              "      <td>13:00:00</td>\n",
              "      <td>NaN</td>\n",
              "      <td>NaN</td>\n",
              "    </tr>\n",
              "  </tbody>\n",
              "</table>\n",
              "<p>112749 rows × 7 columns</p>\n",
              "</div>"
            ],
            "text/plain": [
              "             SCP  ... EXITS                                                               \n",
              "0       02-00-00  ...                                          2401758.0                  \n",
              "1       02-00-00  ...                                          2401764.0                  \n",
              "2       02-00-00  ...                                          2401807.0                  \n",
              "3       02-00-00  ...                                          2401889.0                  \n",
              "4       02-00-00  ...                                          2401946.0                  \n",
              "...          ...  ...                                                ...                  \n",
              "112744  00-00-03  ...                                          1058880.0                  \n",
              "112745  00-00-03  ...                                          1059059.0                  \n",
              "112746  00-00-03  ...                                          1059067.0                  \n",
              "112747  00-00-03  ...                                          1059310.0                  \n",
              "112748  00-00-03  ...                                                NaN                  \n",
              "\n",
              "[112749 rows x 7 columns]"
            ]
          },
          "metadata": {
            "tags": []
          },
          "execution_count": 50
        }
      ]
    },
    {
      "cell_type": "code",
      "metadata": {
        "colab": {
          "base_uri": "https://localhost:8080/",
          "height": 343
        },
        "id": "zlnuBP7NyPTP",
        "outputId": "48b71c23-1390-4989-8aee-147af00ee017"
      },
      "source": [
        "MTAData.head(10)"
      ],
      "execution_count": 51,
      "outputs": [
        {
          "output_type": "execute_result",
          "data": {
            "text/html": [
              "<div>\n",
              "<style scoped>\n",
              "    .dataframe tbody tr th:only-of-type {\n",
              "        vertical-align: middle;\n",
              "    }\n",
              "\n",
              "    .dataframe tbody tr th {\n",
              "        vertical-align: top;\n",
              "    }\n",
              "\n",
              "    .dataframe thead th {\n",
              "        text-align: right;\n",
              "    }\n",
              "</style>\n",
              "<table border=\"1\" class=\"dataframe\">\n",
              "  <thead>\n",
              "    <tr style=\"text-align: right;\">\n",
              "      <th></th>\n",
              "      <th>SCP</th>\n",
              "      <th>STATION</th>\n",
              "      <th>LINENAME</th>\n",
              "      <th>DATE</th>\n",
              "      <th>TIME</th>\n",
              "      <th>ENTRIES</th>\n",
              "      <th>EXITS</th>\n",
              "    </tr>\n",
              "  </thead>\n",
              "  <tbody>\n",
              "    <tr>\n",
              "      <th>0</th>\n",
              "      <td>02-00-00</td>\n",
              "      <td>59 ST</td>\n",
              "      <td>NQR456W</td>\n",
              "      <td>06/08/2019</td>\n",
              "      <td>00:00:00</td>\n",
              "      <td>7089463.0</td>\n",
              "      <td>2401758.0</td>\n",
              "    </tr>\n",
              "    <tr>\n",
              "      <th>1</th>\n",
              "      <td>02-00-00</td>\n",
              "      <td>59 ST</td>\n",
              "      <td>NQR456W</td>\n",
              "      <td>06/08/2019</td>\n",
              "      <td>04:00:00</td>\n",
              "      <td>7089491.0</td>\n",
              "      <td>2401764.0</td>\n",
              "    </tr>\n",
              "    <tr>\n",
              "      <th>2</th>\n",
              "      <td>02-00-00</td>\n",
              "      <td>59 ST</td>\n",
              "      <td>NQR456W</td>\n",
              "      <td>06/08/2019</td>\n",
              "      <td>08:00:00</td>\n",
              "      <td>7089511.0</td>\n",
              "      <td>2401807.0</td>\n",
              "    </tr>\n",
              "    <tr>\n",
              "      <th>3</th>\n",
              "      <td>02-00-00</td>\n",
              "      <td>59 ST</td>\n",
              "      <td>NQR456W</td>\n",
              "      <td>06/08/2019</td>\n",
              "      <td>12:00:00</td>\n",
              "      <td>7089598.0</td>\n",
              "      <td>2401889.0</td>\n",
              "    </tr>\n",
              "    <tr>\n",
              "      <th>4</th>\n",
              "      <td>02-00-00</td>\n",
              "      <td>59 ST</td>\n",
              "      <td>NQR456W</td>\n",
              "      <td>06/08/2019</td>\n",
              "      <td>16:00:00</td>\n",
              "      <td>7089801.0</td>\n",
              "      <td>2401946.0</td>\n",
              "    </tr>\n",
              "    <tr>\n",
              "      <th>5</th>\n",
              "      <td>02-00-00</td>\n",
              "      <td>59 ST</td>\n",
              "      <td>NQR456W</td>\n",
              "      <td>06/08/2019</td>\n",
              "      <td>20:00:00</td>\n",
              "      <td>7090115.0</td>\n",
              "      <td>2401978.0</td>\n",
              "    </tr>\n",
              "    <tr>\n",
              "      <th>6</th>\n",
              "      <td>02-00-00</td>\n",
              "      <td>59 ST</td>\n",
              "      <td>NQR456W</td>\n",
              "      <td>06/09/2019</td>\n",
              "      <td>00:00:00</td>\n",
              "      <td>7090281.0</td>\n",
              "      <td>2402005.0</td>\n",
              "    </tr>\n",
              "    <tr>\n",
              "      <th>7</th>\n",
              "      <td>02-00-00</td>\n",
              "      <td>59 ST</td>\n",
              "      <td>NQR456W</td>\n",
              "      <td>06/09/2019</td>\n",
              "      <td>04:00:00</td>\n",
              "      <td>7090306.0</td>\n",
              "      <td>2402008.0</td>\n",
              "    </tr>\n",
              "    <tr>\n",
              "      <th>8</th>\n",
              "      <td>02-00-00</td>\n",
              "      <td>59 ST</td>\n",
              "      <td>NQR456W</td>\n",
              "      <td>06/09/2019</td>\n",
              "      <td>08:00:00</td>\n",
              "      <td>7090321.0</td>\n",
              "      <td>2402028.0</td>\n",
              "    </tr>\n",
              "    <tr>\n",
              "      <th>9</th>\n",
              "      <td>02-00-00</td>\n",
              "      <td>59 ST</td>\n",
              "      <td>NQR456W</td>\n",
              "      <td>06/09/2019</td>\n",
              "      <td>12:00:00</td>\n",
              "      <td>7090416.0</td>\n",
              "      <td>2402087.0</td>\n",
              "    </tr>\n",
              "  </tbody>\n",
              "</table>\n",
              "</div>"
            ],
            "text/plain": [
              "        SCP  ... EXITS                                                               \n",
              "0  02-00-00  ...                                          2401758.0                  \n",
              "1  02-00-00  ...                                          2401764.0                  \n",
              "2  02-00-00  ...                                          2401807.0                  \n",
              "3  02-00-00  ...                                          2401889.0                  \n",
              "4  02-00-00  ...                                          2401946.0                  \n",
              "5  02-00-00  ...                                          2401978.0                  \n",
              "6  02-00-00  ...                                          2402005.0                  \n",
              "7  02-00-00  ...                                          2402008.0                  \n",
              "8  02-00-00  ...                                          2402028.0                  \n",
              "9  02-00-00  ...                                          2402087.0                  \n",
              "\n",
              "[10 rows x 7 columns]"
            ]
          },
          "metadata": {
            "tags": []
          },
          "execution_count": 51
        }
      ]
    },
    {
      "cell_type": "code",
      "metadata": {
        "colab": {
          "base_uri": "https://localhost:8080/",
          "height": 284
        },
        "id": "1Wo5F7aEyZ7e",
        "outputId": "3719e6aa-261b-4434-dacd-38cb70690b45"
      },
      "source": [
        "data.head(8)"
      ],
      "execution_count": 52,
      "outputs": [
        {
          "output_type": "execute_result",
          "data": {
            "text/html": [
              "<div>\n",
              "<style scoped>\n",
              "    .dataframe tbody tr th:only-of-type {\n",
              "        vertical-align: middle;\n",
              "    }\n",
              "\n",
              "    .dataframe tbody tr th {\n",
              "        vertical-align: top;\n",
              "    }\n",
              "\n",
              "    .dataframe thead th {\n",
              "        text-align: right;\n",
              "    }\n",
              "</style>\n",
              "<table border=\"1\" class=\"dataframe\">\n",
              "  <thead>\n",
              "    <tr style=\"text-align: right;\">\n",
              "      <th></th>\n",
              "      <th>Unnamed: 0</th>\n",
              "      <th>C/A</th>\n",
              "      <th>UNIT</th>\n",
              "      <th>SCP</th>\n",
              "      <th>STATION</th>\n",
              "      <th>LINENAME</th>\n",
              "      <th>DIVISION</th>\n",
              "      <th>DATE</th>\n",
              "      <th>TIME</th>\n",
              "      <th>DESC</th>\n",
              "      <th>ENTRIES</th>\n",
              "      <th>EXITS</th>\n",
              "    </tr>\n",
              "  </thead>\n",
              "  <tbody>\n",
              "    <tr>\n",
              "      <th>0</th>\n",
              "      <td>0</td>\n",
              "      <td>A002</td>\n",
              "      <td>R051</td>\n",
              "      <td>02-00-00</td>\n",
              "      <td>59 ST</td>\n",
              "      <td>NQR456W</td>\n",
              "      <td>BMT</td>\n",
              "      <td>06/08/2019</td>\n",
              "      <td>00:00:00</td>\n",
              "      <td>REGULAR</td>\n",
              "      <td>7089463.0</td>\n",
              "      <td>2401758.0</td>\n",
              "    </tr>\n",
              "    <tr>\n",
              "      <th>1</th>\n",
              "      <td>1</td>\n",
              "      <td>A002</td>\n",
              "      <td>R051</td>\n",
              "      <td>02-00-00</td>\n",
              "      <td>59 ST</td>\n",
              "      <td>NQR456W</td>\n",
              "      <td>BMT</td>\n",
              "      <td>06/08/2019</td>\n",
              "      <td>04:00:00</td>\n",
              "      <td>REGULAR</td>\n",
              "      <td>7089491.0</td>\n",
              "      <td>2401764.0</td>\n",
              "    </tr>\n",
              "    <tr>\n",
              "      <th>2</th>\n",
              "      <td>2</td>\n",
              "      <td>A002</td>\n",
              "      <td>R051</td>\n",
              "      <td>02-00-00</td>\n",
              "      <td>59 ST</td>\n",
              "      <td>NQR456W</td>\n",
              "      <td>BMT</td>\n",
              "      <td>06/08/2019</td>\n",
              "      <td>08:00:00</td>\n",
              "      <td>REGULAR</td>\n",
              "      <td>7089511.0</td>\n",
              "      <td>2401807.0</td>\n",
              "    </tr>\n",
              "    <tr>\n",
              "      <th>3</th>\n",
              "      <td>3</td>\n",
              "      <td>A002</td>\n",
              "      <td>R051</td>\n",
              "      <td>02-00-00</td>\n",
              "      <td>59 ST</td>\n",
              "      <td>NQR456W</td>\n",
              "      <td>BMT</td>\n",
              "      <td>06/08/2019</td>\n",
              "      <td>12:00:00</td>\n",
              "      <td>REGULAR</td>\n",
              "      <td>7089598.0</td>\n",
              "      <td>2401889.0</td>\n",
              "    </tr>\n",
              "    <tr>\n",
              "      <th>4</th>\n",
              "      <td>4</td>\n",
              "      <td>A002</td>\n",
              "      <td>R051</td>\n",
              "      <td>02-00-00</td>\n",
              "      <td>59 ST</td>\n",
              "      <td>NQR456W</td>\n",
              "      <td>BMT</td>\n",
              "      <td>06/08/2019</td>\n",
              "      <td>16:00:00</td>\n",
              "      <td>REGULAR</td>\n",
              "      <td>7089801.0</td>\n",
              "      <td>2401946.0</td>\n",
              "    </tr>\n",
              "    <tr>\n",
              "      <th>5</th>\n",
              "      <td>5</td>\n",
              "      <td>A002</td>\n",
              "      <td>R051</td>\n",
              "      <td>02-00-00</td>\n",
              "      <td>59 ST</td>\n",
              "      <td>NQR456W</td>\n",
              "      <td>BMT</td>\n",
              "      <td>06/08/2019</td>\n",
              "      <td>20:00:00</td>\n",
              "      <td>REGULAR</td>\n",
              "      <td>7090115.0</td>\n",
              "      <td>2401978.0</td>\n",
              "    </tr>\n",
              "    <tr>\n",
              "      <th>6</th>\n",
              "      <td>6</td>\n",
              "      <td>A002</td>\n",
              "      <td>R051</td>\n",
              "      <td>02-00-00</td>\n",
              "      <td>59 ST</td>\n",
              "      <td>NQR456W</td>\n",
              "      <td>BMT</td>\n",
              "      <td>06/09/2019</td>\n",
              "      <td>00:00:00</td>\n",
              "      <td>REGULAR</td>\n",
              "      <td>7090281.0</td>\n",
              "      <td>2402005.0</td>\n",
              "    </tr>\n",
              "    <tr>\n",
              "      <th>7</th>\n",
              "      <td>7</td>\n",
              "      <td>A002</td>\n",
              "      <td>R051</td>\n",
              "      <td>02-00-00</td>\n",
              "      <td>59 ST</td>\n",
              "      <td>NQR456W</td>\n",
              "      <td>BMT</td>\n",
              "      <td>06/09/2019</td>\n",
              "      <td>04:00:00</td>\n",
              "      <td>REGULAR</td>\n",
              "      <td>7090306.0</td>\n",
              "      <td>2402008.0</td>\n",
              "    </tr>\n",
              "  </tbody>\n",
              "</table>\n",
              "</div>"
            ],
            "text/plain": [
              "   Unnamed: 0  ... EXITS                                                               \n",
              "0           0  ...                                          2401758.0                  \n",
              "1           1  ...                                          2401764.0                  \n",
              "2           2  ...                                          2401807.0                  \n",
              "3           3  ...                                          2401889.0                  \n",
              "4           4  ...                                          2401946.0                  \n",
              "5           5  ...                                          2401978.0                  \n",
              "6           6  ...                                          2402005.0                  \n",
              "7           7  ...                                          2402008.0                  \n",
              "\n",
              "[8 rows x 12 columns]"
            ]
          },
          "metadata": {
            "tags": []
          },
          "execution_count": 52
        }
      ]
    },
    {
      "cell_type": "code",
      "metadata": {
        "id": "Tqq16Umq5jyA"
      },
      "source": [
        "df=pd.read_csv('https://raw.githubusercontent.com/CunyLaguardiaDataAnalytics/datasets/master/faithful.csv',index_col=0)"
      ],
      "execution_count": 53,
      "outputs": []
    },
    {
      "cell_type": "code",
      "metadata": {
        "colab": {
          "base_uri": "https://localhost:8080/",
          "height": 402
        },
        "id": "0ScYNiyx6IrU",
        "outputId": "a71eb78d-3bb1-4404-eece-45cfd5453882"
      },
      "source": [
        "df"
      ],
      "execution_count": 54,
      "outputs": [
        {
          "output_type": "execute_result",
          "data": {
            "text/html": [
              "<div>\n",
              "<style scoped>\n",
              "    .dataframe tbody tr th:only-of-type {\n",
              "        vertical-align: middle;\n",
              "    }\n",
              "\n",
              "    .dataframe tbody tr th {\n",
              "        vertical-align: top;\n",
              "    }\n",
              "\n",
              "    .dataframe thead th {\n",
              "        text-align: right;\n",
              "    }\n",
              "</style>\n",
              "<table border=\"1\" class=\"dataframe\">\n",
              "  <thead>\n",
              "    <tr style=\"text-align: right;\">\n",
              "      <th></th>\n",
              "      <th>eruptions</th>\n",
              "      <th>waiting</th>\n",
              "    </tr>\n",
              "  </thead>\n",
              "  <tbody>\n",
              "    <tr>\n",
              "      <th>1</th>\n",
              "      <td>3.600</td>\n",
              "      <td>79</td>\n",
              "    </tr>\n",
              "    <tr>\n",
              "      <th>2</th>\n",
              "      <td>1.800</td>\n",
              "      <td>54</td>\n",
              "    </tr>\n",
              "    <tr>\n",
              "      <th>3</th>\n",
              "      <td>3.333</td>\n",
              "      <td>74</td>\n",
              "    </tr>\n",
              "    <tr>\n",
              "      <th>4</th>\n",
              "      <td>2.283</td>\n",
              "      <td>62</td>\n",
              "    </tr>\n",
              "    <tr>\n",
              "      <th>5</th>\n",
              "      <td>4.533</td>\n",
              "      <td>85</td>\n",
              "    </tr>\n",
              "    <tr>\n",
              "      <th>...</th>\n",
              "      <td>...</td>\n",
              "      <td>...</td>\n",
              "    </tr>\n",
              "    <tr>\n",
              "      <th>268</th>\n",
              "      <td>4.117</td>\n",
              "      <td>81</td>\n",
              "    </tr>\n",
              "    <tr>\n",
              "      <th>269</th>\n",
              "      <td>2.150</td>\n",
              "      <td>46</td>\n",
              "    </tr>\n",
              "    <tr>\n",
              "      <th>270</th>\n",
              "      <td>4.417</td>\n",
              "      <td>90</td>\n",
              "    </tr>\n",
              "    <tr>\n",
              "      <th>271</th>\n",
              "      <td>1.817</td>\n",
              "      <td>46</td>\n",
              "    </tr>\n",
              "    <tr>\n",
              "      <th>272</th>\n",
              "      <td>4.467</td>\n",
              "      <td>74</td>\n",
              "    </tr>\n",
              "  </tbody>\n",
              "</table>\n",
              "<p>272 rows × 2 columns</p>\n",
              "</div>"
            ],
            "text/plain": [
              "     eruptions  waiting\n",
              "1        3.600       79\n",
              "2        1.800       54\n",
              "3        3.333       74\n",
              "4        2.283       62\n",
              "5        4.533       85\n",
              "..         ...      ...\n",
              "268      4.117       81\n",
              "269      2.150       46\n",
              "270      4.417       90\n",
              "271      1.817       46\n",
              "272      4.467       74\n",
              "\n",
              "[272 rows x 2 columns]"
            ]
          },
          "metadata": {
            "tags": []
          },
          "execution_count": 54
        }
      ]
    },
    {
      "cell_type": "code",
      "metadata": {
        "colab": {
          "base_uri": "https://localhost:8080/"
        },
        "id": "2Xw5DWOX6RHN",
        "outputId": "4c21192b-e83b-4ddf-9def-a789fe8bfe37"
      },
      "source": [
        "df.info()"
      ],
      "execution_count": 55,
      "outputs": [
        {
          "output_type": "stream",
          "text": [
            "<class 'pandas.core.frame.DataFrame'>\n",
            "Int64Index: 272 entries, 1 to 272\n",
            "Data columns (total 2 columns):\n",
            " #   Column     Non-Null Count  Dtype  \n",
            "---  ------     --------------  -----  \n",
            " 0   eruptions  272 non-null    float64\n",
            " 1   waiting    272 non-null    int64  \n",
            "dtypes: float64(1), int64(1)\n",
            "memory usage: 6.4 KB\n"
          ],
          "name": "stdout"
        }
      ]
    },
    {
      "cell_type": "code",
      "metadata": {
        "colab": {
          "base_uri": "https://localhost:8080/"
        },
        "id": "2SyR-z0J6rh3",
        "outputId": "3ff04407-3e91-4961-9fcf-0dbc27ea3947"
      },
      "source": [
        "df.describe"
      ],
      "execution_count": 56,
      "outputs": [
        {
          "output_type": "execute_result",
          "data": {
            "text/plain": [
              "<bound method NDFrame.describe of      eruptions  waiting\n",
              "1        3.600       79\n",
              "2        1.800       54\n",
              "3        3.333       74\n",
              "4        2.283       62\n",
              "5        4.533       85\n",
              "..         ...      ...\n",
              "268      4.117       81\n",
              "269      2.150       46\n",
              "270      4.417       90\n",
              "271      1.817       46\n",
              "272      4.467       74\n",
              "\n",
              "[272 rows x 2 columns]>"
            ]
          },
          "metadata": {
            "tags": []
          },
          "execution_count": 56
        }
      ]
    }
  ]
}