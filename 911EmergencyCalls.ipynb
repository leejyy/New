{
  "nbformat": 4,
  "nbformat_minor": 0,
  "metadata": {
    "colab": {
      "name": "911EmergencyCalls.ipynb",
      "provenance": [],
      "include_colab_link": true
    },
    "kernelspec": {
      "name": "python3",
      "display_name": "Python 3"
    }
  },
  "cells": [
    {
      "cell_type": "markdown",
      "metadata": {
        "id": "view-in-github",
        "colab_type": "text"
      },
      "source": [
        "<a href=\"https://colab.research.google.com/github/leejyy/New/blob/master/911EmergencyCalls.ipynb\" target=\"_parent\"><img src=\"https://colab.research.google.com/assets/colab-badge.svg\" alt=\"Open In Colab\"/></a>"
      ]
    },
    {
      "cell_type": "markdown",
      "metadata": {
        "id": "P5dUtcQvvbBo"
      },
      "source": [
        "#Case Study\r\n",
        "\r\n",
        "Congrats! You have been contracted to conduct a brief analysis of a dataset containing ememrgency calls in order to determine the allocation of funds to you local authorities.  This analysis will play a role in deciding changes to the emergency response department.\r\n",
        "\r\n",
        "The data is based in 911 emergency calls and your job is to determine a variety of issues regarding said calls.\r\n",
        "\r\n",
        "1. Using Pandas and Numpy, analyse the data and come up with 5 questions that you would like to answer about the data.\r\n",
        "\r\n",
        "2. the instructor will provide a rnage of questions to answer and you should use your knowledge to complte them as a team."
      ]
    },
    {
      "cell_type": "code",
      "metadata": {
        "id": "W9grgLjZ_7Wv"
      },
      "source": [
        "import numpy as np\r\n",
        "import pandas as pd"
      ],
      "execution_count": 5,
      "outputs": []
    },
    {
      "cell_type": "code",
      "metadata": {
        "id": "Nv-QX4h9EiSI",
        "outputId": "edd65461-c8de-46c1-da29-e08b65b4b5d9",
        "colab": {
          "base_uri": "https://localhost:8080/"
        }
      },
      "source": [
        "from google.colab import drive\n",
        "drive.mount('/content/drive')"
      ],
      "execution_count": 6,
      "outputs": [
        {
          "output_type": "stream",
          "text": [
            "Drive already mounted at /content/drive; to attempt to forcibly remount, call drive.mount(\"/content/drive\", force_remount=True).\n"
          ],
          "name": "stdout"
        }
      ]
    },
    {
      "cell_type": "code",
      "metadata": {
        "id": "wVrT5JgMEsm2"
      },
      "source": [
        "data=pd.read_csv('/content/drive/MyDrive/Colab Notebooks/projects/911/data/911.csv')"
      ],
      "execution_count": 8,
      "outputs": []
    },
    {
      "cell_type": "code",
      "metadata": {
        "id": "1e4DEX6sFCIJ",
        "outputId": "b0b563c6-a399-4891-c385-6c897cd2f11f",
        "colab": {
          "base_uri": "https://localhost:8080/",
          "height": 511
        }
      },
      "source": [
        "data.head(10)"
      ],
      "execution_count": 10,
      "outputs": [
        {
          "output_type": "execute_result",
          "data": {
            "text/html": [
              "<div>\n",
              "<style scoped>\n",
              "    .dataframe tbody tr th:only-of-type {\n",
              "        vertical-align: middle;\n",
              "    }\n",
              "\n",
              "    .dataframe tbody tr th {\n",
              "        vertical-align: top;\n",
              "    }\n",
              "\n",
              "    .dataframe thead th {\n",
              "        text-align: right;\n",
              "    }\n",
              "</style>\n",
              "<table border=\"1\" class=\"dataframe\">\n",
              "  <thead>\n",
              "    <tr style=\"text-align: right;\">\n",
              "      <th></th>\n",
              "      <th>lat</th>\n",
              "      <th>lng</th>\n",
              "      <th>desc</th>\n",
              "      <th>zip</th>\n",
              "      <th>title</th>\n",
              "      <th>timeStamp</th>\n",
              "      <th>twp</th>\n",
              "      <th>addr</th>\n",
              "      <th>e</th>\n",
              "    </tr>\n",
              "  </thead>\n",
              "  <tbody>\n",
              "    <tr>\n",
              "      <th>0</th>\n",
              "      <td>40.297876</td>\n",
              "      <td>-75.581294</td>\n",
              "      <td>REINDEER CT &amp; DEAD END;  NEW HANOVER; Station ...</td>\n",
              "      <td>19525.0</td>\n",
              "      <td>EMS: BACK PAINS/INJURY</td>\n",
              "      <td>2015-12-10 17:40:00</td>\n",
              "      <td>NEW HANOVER</td>\n",
              "      <td>REINDEER CT &amp; DEAD END</td>\n",
              "      <td>1</td>\n",
              "    </tr>\n",
              "    <tr>\n",
              "      <th>1</th>\n",
              "      <td>40.258061</td>\n",
              "      <td>-75.264680</td>\n",
              "      <td>BRIAR PATH &amp; WHITEMARSH LN;  HATFIELD TOWNSHIP...</td>\n",
              "      <td>19446.0</td>\n",
              "      <td>EMS: DIABETIC EMERGENCY</td>\n",
              "      <td>2015-12-10 17:40:00</td>\n",
              "      <td>HATFIELD TOWNSHIP</td>\n",
              "      <td>BRIAR PATH &amp; WHITEMARSH LN</td>\n",
              "      <td>1</td>\n",
              "    </tr>\n",
              "    <tr>\n",
              "      <th>2</th>\n",
              "      <td>40.121182</td>\n",
              "      <td>-75.351975</td>\n",
              "      <td>HAWS AVE; NORRISTOWN; 2015-12-10 @ 14:39:21-St...</td>\n",
              "      <td>19401.0</td>\n",
              "      <td>Fire: GAS-ODOR/LEAK</td>\n",
              "      <td>2015-12-10 17:40:00</td>\n",
              "      <td>NORRISTOWN</td>\n",
              "      <td>HAWS AVE</td>\n",
              "      <td>1</td>\n",
              "    </tr>\n",
              "    <tr>\n",
              "      <th>3</th>\n",
              "      <td>40.116153</td>\n",
              "      <td>-75.343513</td>\n",
              "      <td>AIRY ST &amp; SWEDE ST;  NORRISTOWN; Station 308A;...</td>\n",
              "      <td>19401.0</td>\n",
              "      <td>EMS: CARDIAC EMERGENCY</td>\n",
              "      <td>2015-12-10 17:40:01</td>\n",
              "      <td>NORRISTOWN</td>\n",
              "      <td>AIRY ST &amp; SWEDE ST</td>\n",
              "      <td>1</td>\n",
              "    </tr>\n",
              "    <tr>\n",
              "      <th>4</th>\n",
              "      <td>40.251492</td>\n",
              "      <td>-75.603350</td>\n",
              "      <td>CHERRYWOOD CT &amp; DEAD END;  LOWER POTTSGROVE; S...</td>\n",
              "      <td>NaN</td>\n",
              "      <td>EMS: DIZZINESS</td>\n",
              "      <td>2015-12-10 17:40:01</td>\n",
              "      <td>LOWER POTTSGROVE</td>\n",
              "      <td>CHERRYWOOD CT &amp; DEAD END</td>\n",
              "      <td>1</td>\n",
              "    </tr>\n",
              "    <tr>\n",
              "      <th>5</th>\n",
              "      <td>40.253473</td>\n",
              "      <td>-75.283245</td>\n",
              "      <td>CANNON AVE &amp; W 9TH ST;  LANSDALE; Station 345;...</td>\n",
              "      <td>19446.0</td>\n",
              "      <td>EMS: HEAD INJURY</td>\n",
              "      <td>2015-12-10 17:40:01</td>\n",
              "      <td>LANSDALE</td>\n",
              "      <td>CANNON AVE &amp; W 9TH ST</td>\n",
              "      <td>1</td>\n",
              "    </tr>\n",
              "    <tr>\n",
              "      <th>6</th>\n",
              "      <td>40.182111</td>\n",
              "      <td>-75.127795</td>\n",
              "      <td>LAUREL AVE &amp; OAKDALE AVE;  HORSHAM; Station 35...</td>\n",
              "      <td>19044.0</td>\n",
              "      <td>EMS: NAUSEA/VOMITING</td>\n",
              "      <td>2015-12-10 17:40:01</td>\n",
              "      <td>HORSHAM</td>\n",
              "      <td>LAUREL AVE &amp; OAKDALE AVE</td>\n",
              "      <td>1</td>\n",
              "    </tr>\n",
              "    <tr>\n",
              "      <th>7</th>\n",
              "      <td>40.217286</td>\n",
              "      <td>-75.405182</td>\n",
              "      <td>COLLEGEVILLE RD &amp; LYWISKI RD;  SKIPPACK; Stati...</td>\n",
              "      <td>19426.0</td>\n",
              "      <td>EMS: RESPIRATORY EMERGENCY</td>\n",
              "      <td>2015-12-10 17:40:01</td>\n",
              "      <td>SKIPPACK</td>\n",
              "      <td>COLLEGEVILLE RD &amp; LYWISKI RD</td>\n",
              "      <td>1</td>\n",
              "    </tr>\n",
              "    <tr>\n",
              "      <th>8</th>\n",
              "      <td>40.289027</td>\n",
              "      <td>-75.399590</td>\n",
              "      <td>MAIN ST &amp; OLD SUMNEYTOWN PIKE;  LOWER SALFORD;...</td>\n",
              "      <td>19438.0</td>\n",
              "      <td>EMS: SYNCOPAL EPISODE</td>\n",
              "      <td>2015-12-10 17:40:01</td>\n",
              "      <td>LOWER SALFORD</td>\n",
              "      <td>MAIN ST &amp; OLD SUMNEYTOWN PIKE</td>\n",
              "      <td>1</td>\n",
              "    </tr>\n",
              "    <tr>\n",
              "      <th>9</th>\n",
              "      <td>40.102398</td>\n",
              "      <td>-75.291458</td>\n",
              "      <td>BLUEROUTE  &amp; RAMP I476 NB TO CHEMICAL RD; PLYM...</td>\n",
              "      <td>19462.0</td>\n",
              "      <td>Traffic: VEHICLE ACCIDENT -</td>\n",
              "      <td>2015-12-10 17:40:01</td>\n",
              "      <td>PLYMOUTH</td>\n",
              "      <td>BLUEROUTE  &amp; RAMP I476 NB TO CHEMICAL RD</td>\n",
              "      <td>1</td>\n",
              "    </tr>\n",
              "  </tbody>\n",
              "</table>\n",
              "</div>"
            ],
            "text/plain": [
              "         lat        lng  ...                                      addr  e\n",
              "0  40.297876 -75.581294  ...                    REINDEER CT & DEAD END  1\n",
              "1  40.258061 -75.264680  ...                BRIAR PATH & WHITEMARSH LN  1\n",
              "2  40.121182 -75.351975  ...                                  HAWS AVE  1\n",
              "3  40.116153 -75.343513  ...                        AIRY ST & SWEDE ST  1\n",
              "4  40.251492 -75.603350  ...                  CHERRYWOOD CT & DEAD END  1\n",
              "5  40.253473 -75.283245  ...                     CANNON AVE & W 9TH ST  1\n",
              "6  40.182111 -75.127795  ...                  LAUREL AVE & OAKDALE AVE  1\n",
              "7  40.217286 -75.405182  ...              COLLEGEVILLE RD & LYWISKI RD  1\n",
              "8  40.289027 -75.399590  ...             MAIN ST & OLD SUMNEYTOWN PIKE  1\n",
              "9  40.102398 -75.291458  ...  BLUEROUTE  & RAMP I476 NB TO CHEMICAL RD  1\n",
              "\n",
              "[10 rows x 9 columns]"
            ]
          },
          "metadata": {
            "tags": []
          },
          "execution_count": 10
        }
      ]
    },
    {
      "cell_type": "markdown",
      "metadata": {
        "id": "WhoA1z0GH98a"
      },
      "source": [
        "How many unique timeStamp are there?"
      ]
    },
    {
      "cell_type": "code",
      "metadata": {
        "id": "CiHbiJ6yFE1j",
        "outputId": "8f91faf7-7e41-49b6-88d6-40417c201cf7",
        "colab": {
          "base_uri": "https://localhost:8080/"
        }
      },
      "source": [
        "\r\n",
        "data['timeStamp'].nunique()"
      ],
      "execution_count": 11,
      "outputs": [
        {
          "output_type": "execute_result",
          "data": {
            "text/plain": [
              "72577"
            ]
          },
          "metadata": {
            "tags": []
          },
          "execution_count": 11
        }
      ]
    },
    {
      "cell_type": "code",
      "metadata": {
        "id": "Tr_eEOMxHFnc",
        "outputId": "6b35aa54-1e94-455b-f90b-fcf1636d72d6",
        "colab": {
          "base_uri": "https://localhost:8080/"
        }
      },
      "source": [
        "\r\n",
        "data[data['zip']=='19525']['title']"
      ],
      "execution_count": 14,
      "outputs": [
        {
          "output_type": "execute_result",
          "data": {
            "text/plain": [
              "Series([], Name: title, dtype: object)"
            ]
          },
          "metadata": {
            "tags": []
          },
          "execution_count": 14
        }
      ]
    },
    {
      "cell_type": "code",
      "metadata": {
        "id": "twC64H8aHhVu"
      },
      "source": [
        ""
      ],
      "execution_count": null,
      "outputs": []
    }
  ]
}