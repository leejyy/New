{
  "nbformat": 4,
  "nbformat_minor": 0,
  "metadata": {
    "colab": {
      "name": "Unit2_Mini_Project.ipynb",
      "provenance": [],
      "authorship_tag": "ABX9TyN5tsODE0Auzv07339PC/Mh",
      "include_colab_link": true
    },
    "kernelspec": {
      "name": "python3",
      "display_name": "Python 3"
    }
  },
  "cells": [
    {
      "cell_type": "markdown",
      "metadata": {
        "id": "view-in-github",
        "colab_type": "text"
      },
      "source": [
        "<a href=\"https://colab.research.google.com/github/leejyy/New/blob/master/Unit2_Mini_Project.ipynb\" target=\"_parent\"><img src=\"https://colab.research.google.com/assets/colab-badge.svg\" alt=\"Open In Colab\"/></a>"
      ]
    },
    {
      "cell_type": "code",
      "metadata": {
        "colab": {
          "base_uri": "https://localhost:8080/"
        },
        "id": "2ayDmlUpTBOg",
        "outputId": "15b86847-7565-4619-9f16-9a10a367b025"
      },
      "source": [
        "num1=int (input(\"Enter a number : \"))\r\n",
        "\"\"\"ask user to input a number\"\"\"\r\n",
        "if num1 %2==0:\r\n",
        "  print(\"This is a even number : \", num1)\r\n",
        "else:\r\n",
        "  print(\"This is a odd number : \", num1)\r\n",
        "\"\"\" print out if it is a odd number\"\"\"\r\n",
        "\r\n",
        "if num1 %4==0:\r\n",
        "  print(\"can be divided by 4:\", num1)\r\n",
        "else:\r\n",
        "  print(\"can not be divided by 4\", num1)\r\n",
        "\r\n",
        "num=int(input(\"Enter num:\"))\r\n",
        "check=int(input(\"Enter a number to divide :\"))\r\n",
        "if num%check==0:\r\n",
        "  print(num,\"can be divided by \", check)\r\n",
        "else:\r\n",
        "  print(num,\"can not be divided by \", check)"
      ],
      "execution_count": 7,
      "outputs": [
        {
          "output_type": "stream",
          "text": [
            "Enter a number : 4\n",
            "This is a even number :  4\n",
            "can be divided by 4: 4\n",
            "Enter num:6\n",
            "Enter a number to divide :3\n",
            "6 can be divided by  3\n"
          ],
          "name": "stdout"
        }
      ]
    },
    {
      "cell_type": "code",
      "metadata": {
        "id": "ehMn9ubea0U9"
      },
      "source": [
        ""
      ],
      "execution_count": null,
      "outputs": []
    }
  ]
}