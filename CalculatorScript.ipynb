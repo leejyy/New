{
  "nbformat": 4,
  "nbformat_minor": 0,
  "metadata": {
    "colab": {
      "name": "CalculatorScript.ipynb",
      "provenance": [],
      "authorship_tag": "ABX9TyMf8eYim5p1Qqwvz9TZm9Fv",
      "include_colab_link": true
    },
    "kernelspec": {
      "name": "python3",
      "display_name": "Python 3"
    }
  },
  "cells": [
    {
      "cell_type": "markdown",
      "metadata": {
        "id": "view-in-github",
        "colab_type": "text"
      },
      "source": [
        "<a href=\"https://colab.research.google.com/github/leejyy/New/blob/master/CalculatorScript.ipynb\" target=\"_parent\"><img src=\"https://colab.research.google.com/assets/colab-badge.svg\" alt=\"Open In Colab\"/></a>"
      ]
    },
    {
      "cell_type": "code",
      "metadata": {
        "colab": {
          "base_uri": "https://localhost:8080/"
        },
        "id": "Z1FrcB30cgIh",
        "outputId": "ea759e64-8f75-43d9-d041-1422184347a9"
      },
      "source": [
        "def calc():\r\n",
        "  #this function is a simple calculator that adds,substracts,multiply,and divides two input numbers\r\n",
        "  num1=int(input(\"Enter the first number:\"))\r\n",
        "  num2=int(input(\"Enter\"))\r\n",
        "  operator=input(\"+, -,*,or /:\")\r\n",
        "  if operator==\"+\":\r\n",
        "    return num1+num2\r\n",
        "  elif operator==\"-\":\r\n",
        "    return num1-num2\r\n",
        "  elif operator==\"*\":\r\n",
        "    return num1*num2\r\n",
        "  elif operator==\"/\":\r\n",
        "    return num1/num2\r\n",
        "calc()\r\n",
        "  "
      ],
      "execution_count": 1,
      "outputs": [
        {
          "output_type": "stream",
          "text": [
            "Enter the first number:3\n",
            "Enter5\n",
            "+, -,*,or /:*\n"
          ],
          "name": "stdout"
        },
        {
          "output_type": "execute_result",
          "data": {
            "text/plain": [
              "15"
            ]
          },
          "metadata": {
            "tags": []
          },
          "execution_count": 1
        }
      ]
    },
    {
      "cell_type": "code",
      "metadata": {
        "id": "Jykmq69cchOp"
      },
      "source": [
        ""
      ],
      "execution_count": null,
      "outputs": []
    }
  ]
}