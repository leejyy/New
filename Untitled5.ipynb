{
  "nbformat": 4,
  "nbformat_minor": 0,
  "metadata": {
    "colab": {
      "name": "Untitled5.ipynb",
      "provenance": [],
      "authorship_tag": "ABX9TyOoS9WGcHYAk+dOrJCJy2T+",
      "include_colab_link": true
    },
    "kernelspec": {
      "name": "python3",
      "display_name": "Python 3"
    }
  },
  "cells": [
    {
      "cell_type": "markdown",
      "metadata": {
        "id": "view-in-github",
        "colab_type": "text"
      },
      "source": [
        "<a href=\"https://colab.research.google.com/github/leejyy/New/blob/master/Untitled5.ipynb\" target=\"_parent\"><img src=\"https://colab.research.google.com/assets/colab-badge.svg\" alt=\"Open In Colab\"/></a>"
      ]
    },
    {
      "cell_type": "code",
      "metadata": {
        "id": "uXStzOQ35Teo"
      },
      "source": [
        "import numpy as np\r\n",
        "import pandas as pd"
      ],
      "execution_count": 3,
      "outputs": []
    },
    {
      "cell_type": "code",
      "metadata": {
        "colab": {
          "base_uri": "https://localhost:8080/"
        },
        "id": "YH9dKdfkJ4Qf",
        "outputId": "2407bbb6-86f9-40ed-eb29-cc02e31b14ca"
      },
      "source": [
        "data=pd.read_csv('https://raw.githubusercontent.com/CunyLaguardiaDataAnalytics/datasets/master/311_Service_Requests_from_2019May.csv')"
      ],
      "execution_count": 4,
      "outputs": [
        {
          "output_type": "stream",
          "text": [
            "/usr/local/lib/python3.6/dist-packages/IPython/core/interactiveshell.py:2718: DtypeWarning: Columns (6) have mixed types.Specify dtype option on import or set low_memory=False.\n",
            "  interactivity=interactivity, compiler=compiler, result=result)\n"
          ],
          "name": "stderr"
        }
      ]
    },
    {
      "cell_type": "code",
      "metadata": {
        "colab": {
          "base_uri": "https://localhost:8080/"
        },
        "id": "B72aV5xyLUu_",
        "outputId": "96f6fe48-fcc4-419c-de9e-7c8dec4afcdb"
      },
      "source": [
        "data.info()"
      ],
      "execution_count": 5,
      "outputs": [
        {
          "output_type": "stream",
          "text": [
            "<class 'pandas.core.frame.DataFrame'>\n",
            "RangeIndex: 69637 entries, 0 to 69636\n",
            "Data columns (total 21 columns):\n",
            " #   Column                  Non-Null Count  Dtype  \n",
            "---  ------                  --------------  -----  \n",
            " 0   Unique Key              69637 non-null  int64  \n",
            " 1   Created Date            69637 non-null  object \n",
            " 2   Closed Date             64626 non-null  object \n",
            " 3   Agency                  69637 non-null  object \n",
            " 4   Complaint Type          69637 non-null  object \n",
            " 5   Location Type           53978 non-null  object \n",
            " 6   Incident Zip            67389 non-null  object \n",
            " 7   Incident Address        59033 non-null  object \n",
            " 8   Street Name             59032 non-null  object \n",
            " 9   Address Type            68307 non-null  object \n",
            " 10  City                    67416 non-null  object \n",
            " 11  Landmark                16 non-null     object \n",
            " 12  Facility Type           24081 non-null  object \n",
            " 13  Status                  69637 non-null  object \n",
            " 14  Due Date                32839 non-null  object \n",
            " 15  Resolution Description  63579 non-null  object \n",
            " 16  BBL                     55702 non-null  float64\n",
            " 17  Borough                 69637 non-null  object \n",
            " 18  Latitude                65634 non-null  float64\n",
            " 19  Longitude               65634 non-null  float64\n",
            " 20  Location                65634 non-null  object \n",
            "dtypes: float64(3), int64(1), object(17)\n",
            "memory usage: 11.2+ MB\n"
          ],
          "name": "stdout"
        }
      ]
    },
    {
      "cell_type": "code",
      "metadata": {
        "colab": {
          "base_uri": "https://localhost:8080/"
        },
        "id": "OtIJb1AXL4Wk",
        "outputId": "2299c838-8082-4fa1-d83a-403a954d2143"
      },
      "source": [
        "data.describe\r\n"
      ],
      "execution_count": 8,
      "outputs": [
        {
          "output_type": "execute_result",
          "data": {
            "text/plain": [
              "<bound method NDFrame.describe of        Unique Key  ...                                  Location\n",
              "0        42680103  ...  (40.682565064146196, -73.81406015056832)\n",
              "1        42530481  ...  (40.738790792032844, -74.00022373020307)\n",
              "2        42527619  ...   (40.79804015465285, -73.96930001020544)\n",
              "3        42526597  ...   (40.67590510222738, -73.86665990579837)\n",
              "4        42526595  ...   (40.76536704921336, -73.93154011254339)\n",
              "...           ...  ...                                       ...\n",
              "69632    42634163  ...    (40.81459022279005, -73.9138921969276)\n",
              "69633    42624568  ...    (40.5493782172547, -74.14025187299927)\n",
              "69634    42638781  ...    (40.85291902458401, -73.9199659548619)\n",
              "69635    42637637  ...     (40.694573889726, -73.91089180797395)\n",
              "69636    42637636  ...   (40.69089111172563, -73.98595118240841)\n",
              "\n",
              "[69637 rows x 21 columns]>"
            ]
          },
          "metadata": {
            "tags": []
          },
          "execution_count": 8
        }
      ]
    },
    {
      "cell_type": "code",
      "metadata": {
        "colab": {
          "base_uri": "https://localhost:8080/"
        },
        "id": "ZfQTzTanMbZ7",
        "outputId": "ead74d18-8654-417f-b73c-3df21f5fe22c"
      },
      "source": [
        "data.count"
      ],
      "execution_count": 9,
      "outputs": [
        {
          "output_type": "execute_result",
          "data": {
            "text/plain": [
              "<bound method DataFrame.count of        Unique Key  ...                                  Location\n",
              "0        42680103  ...  (40.682565064146196, -73.81406015056832)\n",
              "1        42530481  ...  (40.738790792032844, -74.00022373020307)\n",
              "2        42527619  ...   (40.79804015465285, -73.96930001020544)\n",
              "3        42526597  ...   (40.67590510222738, -73.86665990579837)\n",
              "4        42526595  ...   (40.76536704921336, -73.93154011254339)\n",
              "...           ...  ...                                       ...\n",
              "69632    42634163  ...    (40.81459022279005, -73.9138921969276)\n",
              "69633    42624568  ...    (40.5493782172547, -74.14025187299927)\n",
              "69634    42638781  ...    (40.85291902458401, -73.9199659548619)\n",
              "69635    42637637  ...     (40.694573889726, -73.91089180797395)\n",
              "69636    42637636  ...   (40.69089111172563, -73.98595118240841)\n",
              "\n",
              "[69637 rows x 21 columns]>"
            ]
          },
          "metadata": {
            "tags": []
          },
          "execution_count": 9
        }
      ]
    },
    {
      "cell_type": "code",
      "metadata": {
        "colab": {
          "base_uri": "https://localhost:8080/",
          "height": 293
        },
        "id": "SWJSRZm9MnNG",
        "outputId": "7aa6b2a2-1309-4c04-dadf-53066a72cdd2"
      },
      "source": [
        "data.plot()"
      ],
      "execution_count": 10,
      "outputs": [
        {
          "output_type": "execute_result",
          "data": {
            "text/plain": [
              "<matplotlib.axes._subplots.AxesSubplot at 0x7f4f6f2e9978>"
            ]
          },
          "metadata": {
            "tags": []
          },
          "execution_count": 10
        },
        {
          "output_type": "display_data",
          "data": {
            "image/png": "[encoded data removed]",
            "text/plain": [
              "<Figure size 432x288 with 1 Axes>"
            ]
          },
          "metadata": {
            "tags": [],
            "needs_background": "light"
          }
        }
      ]
    },
    {
      "cell_type": "code",
      "metadata": {
        "colab": {
          "base_uri": "https://localhost:8080/",
          "height": 365
        },
        "id": "2m3qrfJOMqjy",
        "outputId": "27e38660-6659-4ec3-be07-c8dc66612fab"
      },
      "source": [
        "data.hist()"
      ],
      "execution_count": 11,
      "outputs": [
        {
          "output_type": "execute_result",
          "data": {
            "text/plain": [
              "array([[<matplotlib.axes._subplots.AxesSubplot object at 0x7f4f6f0bb080>,\n",
              "        <matplotlib.axes._subplots.AxesSubplot object at 0x7f4f6ebb79e8>],\n",
              "       [<matplotlib.axes._subplots.AxesSubplot object at 0x7f4f6ebe7c50>,\n",
              "        <matplotlib.axes._subplots.AxesSubplot object at 0x7f4f6eb98eb8>]],\n",
              "      dtype=object)"
            ]
          },
          "metadata": {
            "tags": []
          },
          "execution_count": 11
        },
        {
          "output_type": "display_data",
          "data": {
            "image/png": "[encoded data removed]",
            "text/plain": [
              "<Figure size 432x288 with 4 Axes>"
            ]
          },
          "metadata": {
            "tags": [],
            "needs_background": "light"
          }
        }
      ]
    },
    {
      "cell_type": "code",
      "metadata": {
        "id": "XEtSbwosMt_9"
      },
      "source": [
        ""
      ],
      "execution_count": null,
      "outputs": []
    }
  ]
}