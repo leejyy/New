{
  "nbformat": 4,
  "nbformat_minor": 0,
  "metadata": {
    "colab": {
      "name": "PandasEx2.ipynb",
      "provenance": [],
      "authorship_tag": "ABX9TyPUBpnufsB1ZuGrHEv+qlmT",
      "include_colab_link": true
    },
    "kernelspec": {
      "name": "python3",
      "display_name": "Python 3"
    }
  },
  "cells": [
    {
      "cell_type": "markdown",
      "metadata": {
        "id": "view-in-github",
        "colab_type": "text"
      },
      "source": [
        "<a href=\"https://colab.research.google.com/github/leejyy/New/blob/master/PandasEx2.ipynb\" target=\"_parent\"><img src=\"https://colab.research.google.com/assets/colab-badge.svg\" alt=\"Open In Colab\"/></a>"
      ]
    },
    {
      "cell_type": "code",
      "metadata": {
        "colab": {
          "base_uri": "https://localhost:8080/",
          "height": 17
        },
        "id": "vZRAxi0jhxkj",
        "outputId": "2c0d3585-b652-408e-eeaa-7e72378a16d8"
      },
      "source": [
        "import pandas as pd\r\n",
        "import numpy as np\r\n",
        "from plotly import __version__\r\n",
        "import cufflinks as cf\r\n",
        "from plotly.offline import download_plotlyjs, init_notebook_mode,plot,iplot\r\n",
        "init_notebook_mode(connected=True)\r\n",
        "cf.go_offline()\r\n",
        "%matplotlib inline"
      ],
      "execution_count": null,
      "outputs": [
        {
          "output_type": "display_data",
          "data": {
            "text/html": [
              "        <script type=\"text/javascript\">\n",
              "        window.PlotlyConfig = {MathJaxConfig: 'local'};\n",
              "        if (window.MathJax) {MathJax.Hub.Config({SVG: {font: \"STIX-Web\"}});}\n",
              "        if (typeof require !== 'undefined') {\n",
              "        require.undef(\"plotly\");\n",
              "        requirejs.config({\n",
              "            paths: {\n",
              "                'plotly': ['https://cdn.plot.ly/plotly-latest.min']\n",
              "            }\n",
              "        });\n",
              "        require(['plotly'], function(Plotly) {\n",
              "            window._Plotly = Plotly;\n",
              "        });\n",
              "        }\n",
              "        </script>\n",
              "        "
            ]
          },
          "metadata": {
            "tags": []
          }
        },
        {
          "output_type": "display_data",
          "data": {
            "text/html": [
              "        <script type=\"text/javascript\">\n",
              "        window.PlotlyConfig = {MathJaxConfig: 'local'};\n",
              "        if (window.MathJax) {MathJax.Hub.Config({SVG: {font: \"STIX-Web\"}});}\n",
              "        if (typeof require !== 'undefined') {\n",
              "        require.undef(\"plotly\");\n",
              "        requirejs.config({\n",
              "            paths: {\n",
              "                'plotly': ['https://cdn.plot.ly/plotly-latest.min']\n",
              "            }\n",
              "        });\n",
              "        require(['plotly'], function(Plotly) {\n",
              "            window._Plotly = Plotly;\n",
              "        });\n",
              "        }\n",
              "        </script>\n",
              "        "
            ]
          },
          "metadata": {
            "tags": []
          }
        }
      ]
    },
    {
      "cell_type": "code",
      "metadata": {
        "id": "vrTvUtrqi4d_"
      },
      "source": [
        "df=pd.DataFrame(np.random.randn(100,5),columns='A B C D E'.split())"
      ],
      "execution_count": null,
      "outputs": []
    },
    {
      "cell_type": "code",
      "metadata": {
        "colab": {
          "base_uri": "https://localhost:8080/",
          "height": 195
        },
        "id": "tbFGmudBlPqN",
        "outputId": "a2292acd-345b-49b4-eed3-eeb358b6942b"
      },
      "source": [
        "df.head()"
      ],
      "execution_count": null,
      "outputs": [
        {
          "output_type": "execute_result",
          "data": {
            "text/html": [
              "<div>\n",
              "<style scoped>\n",
              "    .dataframe tbody tr th:only-of-type {\n",
              "        vertical-align: middle;\n",
              "    }\n",
              "\n",
              "    .dataframe tbody tr th {\n",
              "        vertical-align: top;\n",
              "    }\n",
              "\n",
              "    .dataframe thead th {\n",
              "        text-align: right;\n",
              "    }\n",
              "</style>\n",
              "<table border=\"1\" class=\"dataframe\">\n",
              "  <thead>\n",
              "    <tr style=\"text-align: right;\">\n",
              "      <th></th>\n",
              "      <th>A</th>\n",
              "      <th>B</th>\n",
              "      <th>C</th>\n",
              "      <th>D</th>\n",
              "      <th>E</th>\n",
              "    </tr>\n",
              "  </thead>\n",
              "  <tbody>\n",
              "    <tr>\n",
              "      <th>0</th>\n",
              "      <td>0.352497</td>\n",
              "      <td>-0.760726</td>\n",
              "      <td>1.868731</td>\n",
              "      <td>-0.861883</td>\n",
              "      <td>-0.306855</td>\n",
              "    </tr>\n",
              "    <tr>\n",
              "      <th>1</th>\n",
              "      <td>-0.426386</td>\n",
              "      <td>-0.149470</td>\n",
              "      <td>-0.316643</td>\n",
              "      <td>0.208140</td>\n",
              "      <td>0.194522</td>\n",
              "    </tr>\n",
              "    <tr>\n",
              "      <th>2</th>\n",
              "      <td>-0.979223</td>\n",
              "      <td>0.443661</td>\n",
              "      <td>0.031366</td>\n",
              "      <td>-0.330484</td>\n",
              "      <td>-0.099726</td>\n",
              "    </tr>\n",
              "    <tr>\n",
              "      <th>3</th>\n",
              "      <td>0.337014</td>\n",
              "      <td>-0.635467</td>\n",
              "      <td>-1.187715</td>\n",
              "      <td>0.779097</td>\n",
              "      <td>1.312747</td>\n",
              "    </tr>\n",
              "    <tr>\n",
              "      <th>4</th>\n",
              "      <td>-0.869714</td>\n",
              "      <td>0.007978</td>\n",
              "      <td>-0.029229</td>\n",
              "      <td>1.222906</td>\n",
              "      <td>0.230497</td>\n",
              "    </tr>\n",
              "  </tbody>\n",
              "</table>\n",
              "</div>"
            ],
            "text/plain": [
              "          A         B         C         D         E\n",
              "0  0.352497 -0.760726  1.868731 -0.861883 -0.306855\n",
              "1 -0.426386 -0.149470 -0.316643  0.208140  0.194522\n",
              "2 -0.979223  0.443661  0.031366 -0.330484 -0.099726\n",
              "3  0.337014 -0.635467 -1.187715  0.779097  1.312747\n",
              "4 -0.869714  0.007978 -0.029229  1.222906  0.230497"
            ]
          },
          "metadata": {
            "tags": []
          },
          "execution_count": 9
        }
      ]
    },
    {
      "cell_type": "code",
      "metadata": {
        "colab": {
          "base_uri": "https://localhost:8080/",
          "height": 282
        },
        "id": "vQSQWDpWmXv6",
        "outputId": "98821c49-2946-4332-810b-2dc712d0eb4f"
      },
      "source": [
        "df.plot()"
      ],
      "execution_count": null,
      "outputs": [
        {
          "output_type": "execute_result",
          "data": {
            "text/plain": [
              "<matplotlib.axes._subplots.AxesSubplot at 0x7fdd59b98a58>"
            ]
          },
          "metadata": {
            "tags": []
          },
          "execution_count": 10
        },
        {
          "output_type": "display_data",
          "data": {
            "image/png": "[encoded data removed]",
            "text/plain": [
              "<Figure size 432x288 with 1 Axes>"
            ]
          },
          "metadata": {
            "tags": [],
            "needs_background": "light"
          }
        }
      ]
    },
    {
      "cell_type": "code",
      "metadata": {
        "colab": {
          "base_uri": "https://localhost:8080/",
          "height": 542
        },
        "id": "4VSKigtrmb9-",
        "outputId": "af2c5809-7011-45fe-8498-cad196488d53"
      },
      "source": [
        "df.iplot()"
      ],
      "execution_count": null,
      "outputs": [
        {
          "output_type": "display_data",
          "data": {
            "text/html": [
              "<div>\n",
              "        \n",
              "        \n",
              "            <div id=\"d391aa0f-0d24-4c1a-8f8d-a5cfae166bf6\" class=\"plotly-graph-div\" style=\"height:525px; width:100%;\"></div>\n",
              "            <script type=\"text/javascript\">\n",
              "                require([\"plotly\"], function(Plotly) {\n",
              "                    window.PLOTLYENV=window.PLOTLYENV || {};\n",
              "                    window.PLOTLYENV.BASE_URL='https://plot.ly';\n",
              "                    \n",
              "                if (document.getElementById(\"d391aa0f-0d24-4c1a-8f8d-a5cfae166bf6\")) {\n",
              "                    Plotly.newPlot(\n",
              "                        'd391aa0f-0d24-4c1a-8f8d-a5cfae166bf6',\n",
              "                        [{\"line\": {\"color\": \"rgba(255, 153, 51, 1.0)\", \"dash\": \"solid\", \"shape\": \"linear\", \"width\": 1.3}, \"mode\": \"lines\", \"name\": \"A\", \"text\": \"\", \"type\": \"scatter\", \"x\": [0, 1, 2, 3, 4, 5, 6, 7, 8, 9, 10, 11, 12, 13, 14, 15, 16, 17, 18, 19, 20, 21, 22, 23, 24, 25, 26, 27, 28, 29, 30, 31, 32, 33, 34, 35, 36, 37, 38, 39, 40, 41, 42, 43, 44, 45, 46, 47, 48, 49, 50, 51, 52, 53, 54, 55, 56, 57, 58, 59, 60, 61, 62, 63, 64, 65, 66, 67, 68, 69, 70, 71, 72, 73, 74, 75, 76, 77, 78, 79, 80, 81, 82, 83, 84, 85, 86, 87, 88, 89, 90, 91, 92, 93, 94, 95, 96, 97, 98, 99], \"y\": [0.3524967870717665, -0.42638595466065243, -0.9792232033695727, 0.33701386812860573, -0.869714204025024, -1.2463401546610644, -0.39004751026794227, -0.5066329930107684, 0.9564733224104518, -0.24909859523199623, 0.8663236726344662, -1.203502472390232, -0.3421347064149865, 0.19772011678365076, -1.439850274381402, -0.09785305921612156, -0.32821224994435655, -1.345636802164702, 0.3276370702332156, -0.7315324600428392, 1.33388575108831, -1.3499757909223724, -1.260571374383812, 0.018852583759587756, 1.2870880370678022, -0.9183783763115392, 0.45003726189869003, -0.816840490385193, -0.572326944440499, -0.8151709950206323, -2.0395042032862953, 2.623661923680653, -0.4187907702896662, 0.7979847828118312, -2.013237620173409, 0.9914299699563701, -0.5812014402865894, 1.6961383391101654, -2.1004820259914827, 0.8202889700875357, 1.8820938234081201, 0.5941454284494959, -1.0477019188450363, 0.22596610758462726, -1.929225596517081, 0.7177670469399258, 0.9293033426392124, -0.18302109948927386, -0.6670691941998668, -1.230918288091997, 0.9325678335957707, 0.2493728362842049, 0.7498615242896132, 0.36732798512387765, -0.041097725518900174, 0.3393681778186022, -0.24039257063154648, 0.022057738461469936, -0.3989074266114589, 0.295722444570944, -1.0373472255250247, 0.6359673588670828, -0.3801621991719702, -0.26072624197091754, 0.44893907715629666, 1.0839560059077717, -0.12385279795673211, 0.352165622568089, -0.07880049974573129, -0.09511986245830109, 0.7888214588634924, 0.43680827154622665, 0.5320375067526161, -2.2748355905291793, 1.201573616078529, -0.7591419830499985, 1.0204332665596036, -0.2605412788631345, 1.8442200739782506, -0.6723062041725872, -2.261342200776464, -1.2091683461881897, -0.06966110604372477, 1.6024236969404981, 1.621049106399812, -0.2416522106166704, -0.4906630772163359, -0.18924307062904128, 0.43953850655480203, -0.5592344954315042, 0.2401967245009517, 1.0232165924188215, 0.47118626377806255, 0.33620213445611014, -1.1658756756108268, -0.9365891865297408, -1.4723134395165767, -0.125046221160477, -1.060155427592771, -1.3605585808826346]}, {\"line\": {\"color\": \"rgba(55, 128, 191, 1.0)\", \"dash\": \"solid\", \"shape\": \"linear\", \"width\": 1.3}, \"mode\": \"lines\", \"name\": \"B\", \"text\": \"\", \"type\": \"scatter\", \"x\": [0, 1, 2, 3, 4, 5, 6, 7, 8, 9, 10, 11, 12, 13, 14, 15, 16, 17, 18, 19, 20, 21, 22, 23, 24, 25, 26, 27, 28, 29, 30, 31, 32, 33, 34, 35, 36, 37, 38, 39, 40, 41, 42, 43, 44, 45, 46, 47, 48, 49, 50, 51, 52, 53, 54, 55, 56, 57, 58, 59, 60, 61, 62, 63, 64, 65, 66, 67, 68, 69, 70, 71, 72, 73, 74, 75, 76, 77, 78, 79, 80, 81, 82, 83, 84, 85, 86, 87, 88, 89, 90, 91, 92, 93, 94, 95, 96, 97, 98, 99], \"y\": [-0.7607262795394518, -0.14947036695907256, 0.4436611747516266, -0.6354671355460242, 0.007978294794645365, 1.3782611400796363, -0.16365179228900414, -0.46963348945889455, 0.11904706727560381, -1.3135294036226548, 0.03042384696087446, 0.816931526512611, 0.24225628853209458, 0.5966111290856172, 0.1913557378002285, 0.4885313218899831, -0.4238223893714057, -1.1007830621831582, -0.6069891572011737, 1.3584923812907144, 0.6760574330767654, -0.24872108807242427, 0.6205625943928925, -0.582253495475278, -2.6470368985409922, -0.24348668607018564, -0.7797822095029664, -1.5864467536285705, 0.8028646191366247, 0.9609491547776081, 1.2988368998401474, -0.9985970863221764, 0.5798362517849656, -0.0018411051804961946, 1.2187275781736966, -1.3966970513232762, 1.188776504177344, -0.2802612182521012, 2.093111837759849, 0.973247398581224, -0.7907427659394628, 0.5353841370277125, 0.2542352526484718, -0.20117693675639003, 1.5438758411645521, -0.1381307267503436, -1.2947173077861107, 0.5394016252407102, -0.28393339404149337, 0.5717441498861469, 0.058596954577861085, 0.37012217611187054, 0.9196433197850571, -1.8391127868852135, -0.5260944581000014, -1.1925823094795744, -0.285726029011639, -0.9507704709492237, -1.5732005447759396, 1.305264545606123, -0.8013630276804979, -0.6556507999970632, 0.6316807187369645, -0.9130945242319191, 1.0238762724385786, -0.03461059681012513, 0.7340480211986595, 1.1960566288890957, -1.341095854576613, -0.7859904782430511, -0.7780642876597595, 1.1539583773315514, -1.6032262566558635, 0.8424712295767692, -0.1393039028951598, 0.7228753202318485, -0.704646824782257, -1.4002823706983565, -0.6891295128733468, 1.5807599327612245, 0.8065456030558149, 0.22503898862171115, 1.5122525526874517, 0.8073005241461354, -0.439003222545638, 0.19800441402172286, 0.406006661605494, 2.585935871239574, 0.4262612715204767, -0.2284126622192443, -0.1744291737700618, 0.23853275839987262, -1.2084469349081877, -1.285832294943567, -3.210410755825008, 1.0954596703866144, -1.1775152305355983, 0.28207831043464116, 0.4101243793596717, 1.113554257104657]}, {\"line\": {\"color\": \"rgba(50, 171, 96, 1.0)\", \"dash\": \"solid\", \"shape\": \"linear\", \"width\": 1.3}, \"mode\": \"lines\", \"name\": \"C\", \"text\": \"\", \"type\": \"scatter\", \"x\": [0, 1, 2, 3, 4, 5, 6, 7, 8, 9, 10, 11, 12, 13, 14, 15, 16, 17, 18, 19, 20, 21, 22, 23, 24, 25, 26, 27, 28, 29, 30, 31, 32, 33, 34, 35, 36, 37, 38, 39, 40, 41, 42, 43, 44, 45, 46, 47, 48, 49, 50, 51, 52, 53, 54, 55, 56, 57, 58, 59, 60, 61, 62, 63, 64, 65, 66, 67, 68, 69, 70, 71, 72, 73, 74, 75, 76, 77, 78, 79, 80, 81, 82, 83, 84, 85, 86, 87, 88, 89, 90, 91, 92, 93, 94, 95, 96, 97, 98, 99], \"y\": [1.868730737504087, -0.3166430213013994, 0.03136626664322032, -1.1877145702877363, -0.029229455465196088, -0.5321148531273724, -1.0812435289212952, -1.0470518750327786, -0.8956451227859281, 0.7700093498689946, -0.43909810891570195, 0.8245062027522535, 0.0956965928122869, -1.7516121447268638, 0.21541895577550077, 0.6409210562413484, -0.5667601027960997, -0.6885077969107615, 0.1889412668447632, 0.3306893664437574, 1.6079291723183033, -0.06543673412952485, 0.2609067202709703, -1.3218180637443917, 0.03195821886350198, -0.27660812211941727, 0.7591887419963516, -0.34007819442798626, -0.5724974928132577, -0.147866896198324, 0.12710721972434205, -0.11717984212001528, 0.4841353591622395, 2.946644832031881, 1.7430724219485132, 0.9733420582848327, 0.26677993262925126, 1.5057368442431966, -0.491361590266261, 0.361553381491708, -1.1937185018316163, -0.8550774705786245, 1.3601586788090545, 0.7736440346735302, 0.04435643455238859, 0.46896124515192994, 0.11719340190397405, -1.746797036193042, 1.13818954747487, -2.007902707008929, -0.0840202626878499, -1.31425111993706, 1.030478778383764, 0.23688065673098022, -0.2235460218097008, -1.9015518469406278, 1.0055592987635495, -2.055333987865497, -1.5280668378514166, 1.2949942972868198, -0.8556697476934301, -0.6505193675343351, -1.3227574980062375, -0.19952967466217575, 1.328151272845614, -1.625622260536796, -1.3138894300952775, 0.46091164341335217, -1.5185288712676477, -0.14800476363306192, -2.61938586309915, 0.9498111944935835, -0.6418852755148592, -1.4582524078998509, -0.18994922482413376, -1.0900711979575106, 0.051499874703620406, -1.0152277041155937, 1.084847215540133, 0.5258854356181132, 0.269343035965325, 0.722091088890961, 0.0048528771212220535, 0.23597023617824497, 0.7494325504619354, -0.11303710097850628, 0.24925768876592078, 0.21125015806344905, -0.09377726902081066, -0.7181920654510991, 0.4881157792269447, -0.8657369060236102, 0.08480403777753347, 2.0493668499598243, -0.2316596194295374, -0.1871657810692985, -1.0669879133175344, 0.9076433036182284, 0.5722615671891769, 2.0838537999164415]}, {\"line\": {\"color\": \"rgba(128, 0, 128, 1.0)\", \"dash\": \"solid\", \"shape\": \"linear\", \"width\": 1.3}, \"mode\": \"lines\", \"name\": \"D\", \"text\": \"\", \"type\": \"scatter\", \"x\": [0, 1, 2, 3, 4, 5, 6, 7, 8, 9, 10, 11, 12, 13, 14, 15, 16, 17, 18, 19, 20, 21, 22, 23, 24, 25, 26, 27, 28, 29, 30, 31, 32, 33, 34, 35, 36, 37, 38, 39, 40, 41, 42, 43, 44, 45, 46, 47, 48, 49, 50, 51, 52, 53, 54, 55, 56, 57, 58, 59, 60, 61, 62, 63, 64, 65, 66, 67, 68, 69, 70, 71, 72, 73, 74, 75, 76, 77, 78, 79, 80, 81, 82, 83, 84, 85, 86, 87, 88, 89, 90, 91, 92, 93, 94, 95, 96, 97, 98, 99], \"y\": [-0.8618833298908681, 0.20813996635366622, -0.3304837754674735, 0.7790971593779389, 1.2229057172697684, -1.086383243854157, 0.2558270696980797, 0.31747700179956856, 0.0648760082407347, 0.39818210240214763, -2.222803043630176, -1.0382696464745613, 0.3862224141544189, 1.732475217681896, 1.9413120365820808, -0.37281846292274756, 0.5564733251107546, -0.012246537168911352, 0.1054283762475756, -1.4783251122970866, -0.09130282502219547, -1.789732960734204, 0.5158325269207483, -0.8813252470365817, 0.6087977699222119, -1.7138899424422482, 0.6207801583937972, -0.3749901672229239, 0.20770809853595804, 0.9359137469180281, 0.12022226238410962, 0.8225009091550631, 1.76477467345054, 0.36016716890936784, -0.1250832053960907, -0.1522706561181498, -1.0424480708575399, 0.30745883917928635, -2.2783142726728918, -0.4704859479979955, 0.3733448796880743, 0.013295103739651834, 0.7802686784833872, -0.4310614324564642, 1.2372232227342264, 0.7849390118451585, 0.041304746933925766, -0.6323530961819367, -0.2085320174187325, -0.9924806066731731, -0.2320634515678613, -1.7145032260595843, -1.0119274825206994, 1.8284646035317351, 1.9753172922924724, -1.661449271470583, 0.1356019977101244, 0.3705972998438673, 1.0296146539370912, 0.6417023733994519, 0.3952092122510456, -0.38941539543519477, 0.6881810680080264, -0.6923216527392085, 0.7859148729504165, -1.1472849282871418, 0.2511846980435486, 0.5575659018745627, 1.2403087145810914, -1.6604243655092923, 1.135133966301076, 0.4122530378571627, 0.3903168547980452, 2.8083082068082144, -1.766209430039648, 0.33440774785461086, -0.7289144883210643, 1.496521834064087, -0.14279912306551812, -0.5247046978749527, 1.1213272631011142, 0.788657957680433, -0.9415161884149708, -1.1371561779321768, -0.9831458013020439, -0.06687885903564457, 0.43876694505860314, -0.3600008021836057, 1.7611149939253055, 0.7906284431264262, -0.2817889445431314, 0.7331128117542686, -0.32030869487784, -1.4266634007923211, -0.5005732676544291, -1.196033376404413, -0.401590208323531, -0.38686260498427866, 0.7913362478135079, -1.4172121727880944]}, {\"line\": {\"color\": \"rgba(219, 64, 82, 1.0)\", \"dash\": \"solid\", \"shape\": \"linear\", \"width\": 1.3}, \"mode\": \"lines\", \"name\": \"E\", \"text\": \"\", \"type\": \"scatter\", \"x\": [0, 1, 2, 3, 4, 5, 6, 7, 8, 9, 10, 11, 12, 13, 14, 15, 16, 17, 18, 19, 20, 21, 22, 23, 24, 25, 26, 27, 28, 29, 30, 31, 32, 33, 34, 35, 36, 37, 38, 39, 40, 41, 42, 43, 44, 45, 46, 47, 48, 49, 50, 51, 52, 53, 54, 55, 56, 57, 58, 59, 60, 61, 62, 63, 64, 65, 66, 67, 68, 69, 70, 71, 72, 73, 74, 75, 76, 77, 78, 79, 80, 81, 82, 83, 84, 85, 86, 87, 88, 89, 90, 91, 92, 93, 94, 95, 96, 97, 98, 99], \"y\": [-0.3068545369831086, 0.19452164106824538, -0.09972629502530053, 1.3127472251665881, 0.23049714162009532, -0.6773147004053115, 1.3306030663578527, -0.4795799173440492, 1.817488879847327, 0.16043980689398193, 0.455489076933805, 0.3369632136873196, -0.30600902874094466, 0.5927568406534314, 0.9788013899154011, 0.42444549169926143, 0.3118613172344098, -1.5053413690838922, -1.8054054527591987, 0.49990893347051424, 0.2088031972711123, 0.5351073897601045, -0.40113172131895247, 0.36386188929452534, 0.4066683329591181, 0.02465897760724841, -1.125612899289825, -0.5991512827213109, -2.1317204317212086, 1.6748515202328584, 0.7178213318293429, -1.04802331752155, -1.1398307814924624, 0.5087798255077893, -1.0462654029681377, -0.8270007579157215, 1.6684735364873617, -0.44911841458394586, 0.7037170428755122, 0.009953022642042075, 0.7005010177919694, 1.2263296464480185, 1.5277793397206538, 1.1985651847378533, 0.06696640471011564, 1.2726173684211284, -1.0878541433809183, -0.23922066882552742, 1.021166360107087, 1.5060363833502266, 2.655976982334091, 0.5032289322694687, 0.9045558630036712, -0.4482472599391156, -1.0694982033113174, 1.677679100171994, 1.9012444902567434, 1.265208261545507, -1.2701051407848505, -0.15911479487481744, -2.0552540912010864, -0.08872353616051161, 0.5318739954816927, 0.823191719669598, 0.7703802810278582, -0.321192684994674, -0.3281666587525587, 0.05150301786054848, -1.631260789250599, -0.9791741401594198, 1.291385791464753, -1.6929693349051784, 0.9666410476271051, 0.6256979100640722, 0.9273513897483524, 0.25622039423539406, -1.178915454977223, 0.17856901589848498, 0.25834909530580286, -0.34959593184260007, -0.10636065376459782, -0.6622713457613587, -1.40070026213, -0.7297076482246678, 0.5537496195189662, -0.9830165115447214, 1.2875682531993635, -0.7283215166797196, 0.19690654271128372, -2.277367279213558, 1.210568765959338, 0.7987323031419893, 0.6059309675961314, -0.3300377772874452, 0.5880270060236032, -1.6487004815302357, 0.8309213250559997, 0.34456625984315575, -0.3338146350242726, -1.5427093573913082]}],\n",
              "                        {\"legend\": {\"bgcolor\": \"#F5F6F9\", \"font\": {\"color\": \"#4D5663\"}}, \"paper_bgcolor\": \"#F5F6F9\", \"plot_bgcolor\": \"#F5F6F9\", \"template\": {\"data\": {\"bar\": [{\"error_x\": {\"color\": \"#2a3f5f\"}, \"error_y\": {\"color\": \"#2a3f5f\"}, \"marker\": {\"line\": {\"color\": \"#E5ECF6\", \"width\": 0.5}}, \"type\": \"bar\"}], \"barpolar\": [{\"marker\": {\"line\": {\"color\": \"#E5ECF6\", \"width\": 0.5}}, \"type\": \"barpolar\"}], \"carpet\": [{\"aaxis\": {\"endlinecolor\": \"#2a3f5f\", \"gridcolor\": \"white\", \"linecolor\": \"white\", \"minorgridcolor\": \"white\", \"startlinecolor\": \"#2a3f5f\"}, \"baxis\": {\"endlinecolor\": \"#2a3f5f\", \"gridcolor\": \"white\", \"linecolor\": \"white\", \"minorgridcolor\": \"white\", \"startlinecolor\": \"#2a3f5f\"}, \"type\": \"carpet\"}], \"choropleth\": [{\"colorbar\": {\"outlinewidth\": 0, \"ticks\": \"\"}, \"type\": \"choropleth\"}], \"contour\": [{\"colorbar\": {\"outlinewidth\": 0, \"ticks\": \"\"}, \"colorscale\": [[0.0, \"#0d0887\"], [0.1111111111111111, \"#46039f\"], [0.2222222222222222, \"#7201a8\"], [0.3333333333333333, \"#9c179e\"], [0.4444444444444444, \"#bd3786\"], [0.5555555555555556, \"#d8576b\"], [0.6666666666666666, \"#ed7953\"], [0.7777777777777778, \"#fb9f3a\"], [0.8888888888888888, \"#fdca26\"], [1.0, \"#f0f921\"]], \"type\": \"contour\"}], \"contourcarpet\": [{\"colorbar\": {\"outlinewidth\": 0, \"ticks\": \"\"}, \"type\": \"contourcarpet\"}], \"heatmap\": [{\"colorbar\": {\"outlinewidth\": 0, \"ticks\": \"\"}, \"colorscale\": [[0.0, \"#0d0887\"], [0.1111111111111111, \"#46039f\"], [0.2222222222222222, \"#7201a8\"], [0.3333333333333333, \"#9c179e\"], [0.4444444444444444, \"#bd3786\"], [0.5555555555555556, \"#d8576b\"], [0.6666666666666666, \"#ed7953\"], [0.7777777777777778, \"#fb9f3a\"], [0.8888888888888888, \"#fdca26\"], [1.0, \"#f0f921\"]], \"type\": \"heatmap\"}], \"heatmapgl\": [{\"colorbar\": {\"outlinewidth\": 0, \"ticks\": \"\"}, \"colorscale\": [[0.0, \"#0d0887\"], [0.1111111111111111, \"#46039f\"], [0.2222222222222222, \"#7201a8\"], [0.3333333333333333, \"#9c179e\"], [0.4444444444444444, \"#bd3786\"], [0.5555555555555556, \"#d8576b\"], [0.6666666666666666, \"#ed7953\"], [0.7777777777777778, \"#fb9f3a\"], [0.8888888888888888, \"#fdca26\"], [1.0, \"#f0f921\"]], \"type\": \"heatmapgl\"}], \"histogram\": [{\"marker\": {\"colorbar\": {\"outlinewidth\": 0, \"ticks\": \"\"}}, \"type\": \"histogram\"}], \"histogram2d\": [{\"colorbar\": {\"outlinewidth\": 0, \"ticks\": \"\"}, \"colorscale\": [[0.0, \"#0d0887\"], [0.1111111111111111, \"#46039f\"], [0.2222222222222222, \"#7201a8\"], [0.3333333333333333, \"#9c179e\"], [0.4444444444444444, \"#bd3786\"], [0.5555555555555556, \"#d8576b\"], [0.6666666666666666, \"#ed7953\"], [0.7777777777777778, \"#fb9f3a\"], [0.8888888888888888, \"#fdca26\"], [1.0, \"#f0f921\"]], \"type\": \"histogram2d\"}], \"histogram2dcontour\": [{\"colorbar\": {\"outlinewidth\": 0, \"ticks\": \"\"}, \"colorscale\": [[0.0, \"#0d0887\"], [0.1111111111111111, \"#46039f\"], [0.2222222222222222, \"#7201a8\"], [0.3333333333333333, \"#9c179e\"], [0.4444444444444444, \"#bd3786\"], [0.5555555555555556, \"#d8576b\"], [0.6666666666666666, \"#ed7953\"], [0.7777777777777778, \"#fb9f3a\"], [0.8888888888888888, \"#fdca26\"], [1.0, \"#f0f921\"]], \"type\": \"histogram2dcontour\"}], \"mesh3d\": [{\"colorbar\": {\"outlinewidth\": 0, \"ticks\": \"\"}, \"type\": \"mesh3d\"}], \"parcoords\": [{\"line\": {\"colorbar\": {\"outlinewidth\": 0, \"ticks\": \"\"}}, \"type\": \"parcoords\"}], \"pie\": [{\"automargin\": true, \"type\": \"pie\"}], \"scatter\": [{\"marker\": {\"colorbar\": {\"outlinewidth\": 0, \"ticks\": \"\"}}, \"type\": \"scatter\"}], \"scatter3d\": [{\"line\": {\"colorbar\": {\"outlinewidth\": 0, \"ticks\": \"\"}}, \"marker\": {\"colorbar\": {\"outlinewidth\": 0, \"ticks\": \"\"}}, \"type\": \"scatter3d\"}], \"scattercarpet\": [{\"marker\": {\"colorbar\": {\"outlinewidth\": 0, \"ticks\": \"\"}}, \"type\": \"scattercarpet\"}], \"scattergeo\": [{\"marker\": {\"colorbar\": {\"outlinewidth\": 0, \"ticks\": \"\"}}, \"type\": \"scattergeo\"}], \"scattergl\": [{\"marker\": {\"colorbar\": {\"outlinewidth\": 0, \"ticks\": \"\"}}, \"type\": \"scattergl\"}], \"scattermapbox\": [{\"marker\": {\"colorbar\": {\"outlinewidth\": 0, \"ticks\": \"\"}}, \"type\": \"scattermapbox\"}], \"scatterpolar\": [{\"marker\": {\"colorbar\": {\"outlinewidth\": 0, \"ticks\": \"\"}}, \"type\": \"scatterpolar\"}], \"scatterpolargl\": [{\"marker\": {\"colorbar\": {\"outlinewidth\": 0, \"ticks\": \"\"}}, \"type\": \"scatterpolargl\"}], \"scatterternary\": [{\"marker\": {\"colorbar\": {\"outlinewidth\": 0, \"ticks\": \"\"}}, \"type\": \"scatterternary\"}], \"surface\": [{\"colorbar\": {\"outlinewidth\": 0, \"ticks\": \"\"}, \"colorscale\": [[0.0, \"#0d0887\"], [0.1111111111111111, \"#46039f\"], [0.2222222222222222, \"#7201a8\"], [0.3333333333333333, \"#9c179e\"], [0.4444444444444444, \"#bd3786\"], [0.5555555555555556, \"#d8576b\"], [0.6666666666666666, \"#ed7953\"], [0.7777777777777778, \"#fb9f3a\"], [0.8888888888888888, \"#fdca26\"], [1.0, \"#f0f921\"]], \"type\": \"surface\"}], \"table\": [{\"cells\": {\"fill\": {\"color\": \"#EBF0F8\"}, \"line\": {\"color\": \"white\"}}, \"header\": {\"fill\": {\"color\": \"#C8D4E3\"}, \"line\": {\"color\": \"white\"}}, \"type\": \"table\"}]}, \"layout\": {\"annotationdefaults\": {\"arrowcolor\": \"#2a3f5f\", \"arrowhead\": 0, \"arrowwidth\": 1}, \"coloraxis\": {\"colorbar\": {\"outlinewidth\": 0, \"ticks\": \"\"}}, \"colorscale\": {\"diverging\": [[0, \"#8e0152\"], [0.1, \"#c51b7d\"], [0.2, \"#de77ae\"], [0.3, \"#f1b6da\"], [0.4, \"#fde0ef\"], [0.5, \"#f7f7f7\"], [0.6, \"#e6f5d0\"], [0.7, \"#b8e186\"], [0.8, \"#7fbc41\"], [0.9, \"#4d9221\"], [1, \"#276419\"]], \"sequential\": [[0.0, \"#0d0887\"], [0.1111111111111111, \"#46039f\"], [0.2222222222222222, \"#7201a8\"], [0.3333333333333333, \"#9c179e\"], [0.4444444444444444, \"#bd3786\"], [0.5555555555555556, \"#d8576b\"], [0.6666666666666666, \"#ed7953\"], [0.7777777777777778, \"#fb9f3a\"], [0.8888888888888888, \"#fdca26\"], [1.0, \"#f0f921\"]], \"sequentialminus\": [[0.0, \"#0d0887\"], [0.1111111111111111, \"#46039f\"], [0.2222222222222222, \"#7201a8\"], [0.3333333333333333, \"#9c179e\"], [0.4444444444444444, \"#bd3786\"], [0.5555555555555556, \"#d8576b\"], [0.6666666666666666, \"#ed7953\"], [0.7777777777777778, \"#fb9f3a\"], [0.8888888888888888, \"#fdca26\"], [1.0, \"#f0f921\"]]}, \"colorway\": [\"#636efa\", \"#EF553B\", \"#00cc96\", \"#ab63fa\", \"#FFA15A\", \"#19d3f3\", \"#FF6692\", \"#B6E880\", \"#FF97FF\", \"#FECB52\"], \"font\": {\"color\": \"#2a3f5f\"}, \"geo\": {\"bgcolor\": \"white\", \"lakecolor\": \"white\", \"landcolor\": \"#E5ECF6\", \"showlakes\": true, \"showland\": true, \"subunitcolor\": \"white\"}, \"hoverlabel\": {\"align\": \"left\"}, \"hovermode\": \"closest\", \"mapbox\": {\"style\": \"light\"}, \"paper_bgcolor\": \"white\", \"plot_bgcolor\": \"#E5ECF6\", \"polar\": {\"angularaxis\": {\"gridcolor\": \"white\", \"linecolor\": \"white\", \"ticks\": \"\"}, \"bgcolor\": \"#E5ECF6\", \"radialaxis\": {\"gridcolor\": \"white\", \"linecolor\": \"white\", \"ticks\": \"\"}}, \"scene\": {\"xaxis\": {\"backgroundcolor\": \"#E5ECF6\", \"gridcolor\": \"white\", \"gridwidth\": 2, \"linecolor\": \"white\", \"showbackground\": true, \"ticks\": \"\", \"zerolinecolor\": \"white\"}, \"yaxis\": {\"backgroundcolor\": \"#E5ECF6\", \"gridcolor\": \"white\", \"gridwidth\": 2, \"linecolor\": \"white\", \"showbackground\": true, \"ticks\": \"\", \"zerolinecolor\": \"white\"}, \"zaxis\": {\"backgroundcolor\": \"#E5ECF6\", \"gridcolor\": \"white\", \"gridwidth\": 2, \"linecolor\": \"white\", \"showbackground\": true, \"ticks\": \"\", \"zerolinecolor\": \"white\"}}, \"shapedefaults\": {\"line\": {\"color\": \"#2a3f5f\"}}, \"ternary\": {\"aaxis\": {\"gridcolor\": \"white\", \"linecolor\": \"white\", \"ticks\": \"\"}, \"baxis\": {\"gridcolor\": \"white\", \"linecolor\": \"white\", \"ticks\": \"\"}, \"bgcolor\": \"#E5ECF6\", \"caxis\": {\"gridcolor\": \"white\", \"linecolor\": \"white\", \"ticks\": \"\"}}, \"title\": {\"x\": 0.05}, \"xaxis\": {\"automargin\": true, \"gridcolor\": \"white\", \"linecolor\": \"white\", \"ticks\": \"\", \"title\": {\"standoff\": 15}, \"zerolinecolor\": \"white\", \"zerolinewidth\": 2}, \"yaxis\": {\"automargin\": true, \"gridcolor\": \"white\", \"linecolor\": \"white\", \"ticks\": \"\", \"title\": {\"standoff\": 15}, \"zerolinecolor\": \"white\", \"zerolinewidth\": 2}}}, \"title\": {\"font\": {\"color\": \"#4D5663\"}}, \"xaxis\": {\"gridcolor\": \"#E1E5ED\", \"showgrid\": true, \"tickfont\": {\"color\": \"#4D5663\"}, \"title\": {\"font\": {\"color\": \"#4D5663\"}, \"text\": \"\"}, \"zerolinecolor\": \"#E1E5ED\"}, \"yaxis\": {\"gridcolor\": \"#E1E5ED\", \"showgrid\": true, \"tickfont\": {\"color\": \"#4D5663\"}, \"title\": {\"font\": {\"color\": \"#4D5663\"}, \"text\": \"\"}, \"zerolinecolor\": \"#E1E5ED\"}},\n",
              "                        {\"showLink\": true, \"linkText\": \"Export to plot.ly\", \"plotlyServerURL\": \"https://plot.ly\", \"responsive\": true}\n",
              "                    ).then(function(){\n",
              "                            \n",
              "var gd = document.getElementById('d391aa0f-0d24-4c1a-8f8d-a5cfae166bf6');\n",
              "var x = new MutationObserver(function (mutations, observer) {{\n",
              "        var display = window.getComputedStyle(gd).display;\n",
              "        if (!display || display === 'none') {{\n",
              "            console.log([gd, 'removed!']);\n",
              "            Plotly.purge(gd);\n",
              "            observer.disconnect();\n",
              "        }}\n",
              "}});\n",
              "\n",
              "// Listen for the removal of the full notebook cells\n",
              "var notebookContainer = gd.closest('#notebook-container');\n",
              "if (notebookContainer) {{\n",
              "    x.observe(notebookContainer, {childList: true});\n",
              "}}\n",
              "\n",
              "// Listen for the clearing of the current output cell\n",
              "var outputEl = gd.closest('.output');\n",
              "if (outputEl) {{\n",
              "    x.observe(outputEl, {childList: true});\n",
              "}}\n",
              "\n",
              "                        })\n",
              "                };\n",
              "                });\n",
              "            </script>\n",
              "        </div>"
            ],
            "application/vnd.plotly.v1+json": {
              "data": [
                {
                  "name": "A",
                  "text": "",
                  "mode": "lines",
                  "y": [
                    0.3524967870717665,
                    -0.42638595466065243,
                    -0.9792232033695727,
                    0.33701386812860573,
                    -0.869714204025024,
                    -1.2463401546610644,
                    -0.39004751026794227,
                    -0.5066329930107684,
                    0.9564733224104518,
                    -0.24909859523199623,
                    0.8663236726344662,
                    -1.203502472390232,
                    -0.3421347064149865,
                    0.19772011678365076,
                    -1.439850274381402,
                    -0.09785305921612156,
                    -0.32821224994435655,
                    -1.345636802164702,
                    0.3276370702332156,
                    -0.7315324600428392,
                    1.33388575108831,
                    -1.3499757909223724,
                    -1.260571374383812,
                    0.018852583759587756,
                    1.2870880370678022,
                    -0.9183783763115392,
                    0.45003726189869003,
                    -0.816840490385193,
                    -0.572326944440499,
                    -0.8151709950206323,
                    -2.0395042032862953,
                    2.623661923680653,
                    -0.4187907702896662,
                    0.7979847828118312,
                    -2.013237620173409,
                    0.9914299699563701,
                    -0.5812014402865894,
                    1.6961383391101654,
                    -2.1004820259914827,
                    0.8202889700875357,
                    1.8820938234081201,
                    0.5941454284494959,
                    -1.0477019188450363,
                    0.22596610758462726,
                    -1.929225596517081,
                    0.7177670469399258,
                    0.9293033426392124,
                    -0.18302109948927386,
                    -0.6670691941998668,
                    -1.230918288091997,
                    0.9325678335957707,
                    0.2493728362842049,
                    0.7498615242896132,
                    0.36732798512387765,
                    -0.041097725518900174,
                    0.3393681778186022,
                    -0.24039257063154648,
                    0.022057738461469936,
                    -0.3989074266114589,
                    0.295722444570944,
                    -1.0373472255250247,
                    0.6359673588670828,
                    -0.3801621991719702,
                    -0.26072624197091754,
                    0.44893907715629666,
                    1.0839560059077717,
                    -0.12385279795673211,
                    0.352165622568089,
                    -0.07880049974573129,
                    -0.09511986245830109,
                    0.7888214588634924,
                    0.43680827154622665,
                    0.5320375067526161,
                    -2.2748355905291793,
                    1.201573616078529,
                    -0.7591419830499985,
                    1.0204332665596036,
                    -0.2605412788631345,
                    1.8442200739782506,
                    -0.6723062041725872,
                    -2.261342200776464,
                    -1.2091683461881897,
                    -0.06966110604372477,
                    1.6024236969404981,
                    1.621049106399812,
                    -0.2416522106166704,
                    -0.4906630772163359,
                    -0.18924307062904128,
                    0.43953850655480203,
                    -0.5592344954315042,
                    0.2401967245009517,
                    1.0232165924188215,
                    0.47118626377806255,
                    0.33620213445611014,
                    -1.1658756756108268,
                    -0.9365891865297408,
                    -1.4723134395165767,
                    -0.125046221160477,
                    -1.060155427592771,
                    -1.3605585808826346
                  ],
                  "x": [
                    0,
                    1,
                    2,
                    3,
                    4,
                    5,
                    6,
                    7,
                    8,
                    9,
                    10,
                    11,
                    12,
                    13,
                    14,
                    15,
                    16,
                    17,
                    18,
                    19,
                    20,
                    21,
                    22,
                    23,
                    24,
                    25,
                    26,
                    27,
                    28,
                    29,
                    30,
                    31,
                    32,
                    33,
                    34,
                    35,
                    36,
                    37,
                    38,
                    39,
                    40,
                    41,
                    42,
                    43,
                    44,
                    45,
                    46,
                    47,
                    48,
                    49,
                    50,
                    51,
                    52,
                    53,
                    54,
                    55,
                    56,
                    57,
                    58,
                    59,
                    60,
                    61,
                    62,
                    63,
                    64,
                    65,
                    66,
                    67,
                    68,
                    69,
                    70,
                    71,
                    72,
                    73,
                    74,
                    75,
                    76,
                    77,
                    78,
                    79,
                    80,
                    81,
                    82,
                    83,
                    84,
                    85,
                    86,
                    87,
                    88,
                    89,
                    90,
                    91,
                    92,
                    93,
                    94,
                    95,
                    96,
                    97,
                    98,
                    99
                  ],
                  "line": {
                    "color": "rgba(255, 153, 51, 1.0)",
                    "dash": "solid",
                    "shape": "linear",
                    "width": 1.3
                  },
                  "type": "scatter"
                },
                {
                  "name": "B",
                  "text": "",
                  "mode": "lines",
                  "y": [
                    -0.7607262795394518,
                    -0.14947036695907256,
                    0.4436611747516266,
                    -0.6354671355460242,
                    0.007978294794645365,
                    1.3782611400796363,
                    -0.16365179228900414,
                    -0.46963348945889455,
                    0.11904706727560381,
                    -1.3135294036226548,
                    0.03042384696087446,
                    0.816931526512611,
                    0.24225628853209458,
                    0.5966111290856172,
                    0.1913557378002285,
                    0.4885313218899831,
                    -0.4238223893714057,
                    -1.1007830621831582,
                    -0.6069891572011737,
                    1.3584923812907144,
                    0.6760574330767654,
                    -0.24872108807242427,
                    0.6205625943928925,
                    -0.582253495475278,
                    -2.6470368985409922,
                    -0.24348668607018564,
                    -0.7797822095029664,
                    -1.5864467536285705,
                    0.8028646191366247,
                    0.9609491547776081,
                    1.2988368998401474,
                    -0.9985970863221764,
                    0.5798362517849656,
                    -0.0018411051804961946,
                    1.2187275781736966,
                    -1.3966970513232762,
                    1.188776504177344,
                    -0.2802612182521012,
                    2.093111837759849,
                    0.973247398581224,
                    -0.7907427659394628,
                    0.5353841370277125,
                    0.2542352526484718,
                    -0.20117693675639003,
                    1.5438758411645521,
                    -0.1381307267503436,
                    -1.2947173077861107,
                    0.5394016252407102,
                    -0.28393339404149337,
                    0.5717441498861469,
                    0.058596954577861085,
                    0.37012217611187054,
                    0.9196433197850571,
                    -1.8391127868852135,
                    -0.5260944581000014,
                    -1.1925823094795744,
                    -0.285726029011639,
                    -0.9507704709492237,
                    -1.5732005447759396,
                    1.305264545606123,
                    -0.8013630276804979,
                    -0.6556507999970632,
                    0.6316807187369645,
                    -0.9130945242319191,
                    1.0238762724385786,
                    -0.03461059681012513,
                    0.7340480211986595,
                    1.1960566288890957,
                    -1.341095854576613,
                    -0.7859904782430511,
                    -0.7780642876597595,
                    1.1539583773315514,
                    -1.6032262566558635,
                    0.8424712295767692,
                    -0.1393039028951598,
                    0.7228753202318485,
                    -0.704646824782257,
                    -1.4002823706983565,
                    -0.6891295128733468,
                    1.5807599327612245,
                    0.8065456030558149,
                    0.22503898862171115,
                    1.5122525526874517,
                    0.8073005241461354,
                    -0.439003222545638,
                    0.19800441402172286,
                    0.406006661605494,
                    2.585935871239574,
                    0.4262612715204767,
                    -0.2284126622192443,
                    -0.1744291737700618,
                    0.23853275839987262,
                    -1.2084469349081877,
                    -1.285832294943567,
                    -3.210410755825008,
                    1.0954596703866144,
                    -1.1775152305355983,
                    0.28207831043464116,
                    0.4101243793596717,
                    1.113554257104657
                  ],
                  "x": [
                    0,
                    1,
                    2,
                    3,
                    4,
                    5,
                    6,
                    7,
                    8,
                    9,
                    10,
                    11,
                    12,
                    13,
                    14,
                    15,
                    16,
                    17,
                    18,
                    19,
                    20,
                    21,
                    22,
                    23,
                    24,
                    25,
                    26,
                    27,
                    28,
                    29,
                    30,
                    31,
                    32,
                    33,
                    34,
                    35,
                    36,
                    37,
                    38,
                    39,
                    40,
                    41,
                    42,
                    43,
                    44,
                    45,
                    46,
                    47,
                    48,
                    49,
                    50,
                    51,
                    52,
                    53,
                    54,
                    55,
                    56,
                    57,
                    58,
                    59,
                    60,
                    61,
                    62,
                    63,
                    64,
                    65,
                    66,
                    67,
                    68,
                    69,
                    70,
                    71,
                    72,
                    73,
                    74,
                    75,
                    76,
                    77,
                    78,
                    79,
                    80,
                    81,
                    82,
                    83,
                    84,
                    85,
                    86,
                    87,
                    88,
                    89,
                    90,
                    91,
                    92,
                    93,
                    94,
                    95,
                    96,
                    97,
                    98,
                    99
                  ],
                  "line": {
                    "color": "rgba(55, 128, 191, 1.0)",
                    "dash": "solid",
                    "shape": "linear",
                    "width": 1.3
                  },
                  "type": "scatter"
                },
                {
                  "name": "C",
                  "text": "",
                  "mode": "lines",
                  "y": [
                    1.868730737504087,
                    -0.3166430213013994,
                    0.03136626664322032,
                    -1.1877145702877363,
                    -0.029229455465196088,
                    -0.5321148531273724,
                    -1.0812435289212952,
                    -1.0470518750327786,
                    -0.8956451227859281,
                    0.7700093498689946,
                    -0.43909810891570195,
                    0.8245062027522535,
                    0.0956965928122869,
                    -1.7516121447268638,
                    0.21541895577550077,
                    0.6409210562413484,
                    -0.5667601027960997,
                    -0.6885077969107615,
                    0.1889412668447632,
                    0.3306893664437574,
                    1.6079291723183033,
                    -0.06543673412952485,
                    0.2609067202709703,
                    -1.3218180637443917,
                    0.03195821886350198,
                    -0.27660812211941727,
                    0.7591887419963516,
                    -0.34007819442798626,
                    -0.5724974928132577,
                    -0.147866896198324,
                    0.12710721972434205,
                    -0.11717984212001528,
                    0.4841353591622395,
                    2.946644832031881,
                    1.7430724219485132,
                    0.9733420582848327,
                    0.26677993262925126,
                    1.5057368442431966,
                    -0.491361590266261,
                    0.361553381491708,
                    -1.1937185018316163,
                    -0.8550774705786245,
                    1.3601586788090545,
                    0.7736440346735302,
                    0.04435643455238859,
                    0.46896124515192994,
                    0.11719340190397405,
                    -1.746797036193042,
                    1.13818954747487,
                    -2.007902707008929,
                    -0.0840202626878499,
                    -1.31425111993706,
                    1.030478778383764,
                    0.23688065673098022,
                    -0.2235460218097008,
                    -1.9015518469406278,
                    1.0055592987635495,
                    -2.055333987865497,
                    -1.5280668378514166,
                    1.2949942972868198,
                    -0.8556697476934301,
                    -0.6505193675343351,
                    -1.3227574980062375,
                    -0.19952967466217575,
                    1.328151272845614,
                    -1.625622260536796,
                    -1.3138894300952775,
                    0.46091164341335217,
                    -1.5185288712676477,
                    -0.14800476363306192,
                    -2.61938586309915,
                    0.9498111944935835,
                    -0.6418852755148592,
                    -1.4582524078998509,
                    -0.18994922482413376,
                    -1.0900711979575106,
                    0.051499874703620406,
                    -1.0152277041155937,
                    1.084847215540133,
                    0.5258854356181132,
                    0.269343035965325,
                    0.722091088890961,
                    0.0048528771212220535,
                    0.23597023617824497,
                    0.7494325504619354,
                    -0.11303710097850628,
                    0.24925768876592078,
                    0.21125015806344905,
                    -0.09377726902081066,
                    -0.7181920654510991,
                    0.4881157792269447,
                    -0.8657369060236102,
                    0.08480403777753347,
                    2.0493668499598243,
                    -0.2316596194295374,
                    -0.1871657810692985,
                    -1.0669879133175344,
                    0.9076433036182284,
                    0.5722615671891769,
                    2.0838537999164415
                  ],
                  "x": [
                    0,
                    1,
                    2,
                    3,
                    4,
                    5,
                    6,
                    7,
                    8,
                    9,
                    10,
                    11,
                    12,
                    13,
                    14,
                    15,
                    16,
                    17,
                    18,
                    19,
                    20,
                    21,
                    22,
                    23,
                    24,
                    25,
                    26,
                    27,
                    28,
                    29,
                    30,
                    31,
                    32,
                    33,
                    34,
                    35,
                    36,
                    37,
                    38,
                    39,
                    40,
                    41,
                    42,
                    43,
                    44,
                    45,
                    46,
                    47,
                    48,
                    49,
                    50,
                    51,
                    52,
                    53,
                    54,
                    55,
                    56,
                    57,
                    58,
                    59,
                    60,
                    61,
                    62,
                    63,
                    64,
                    65,
                    66,
                    67,
                    68,
                    69,
                    70,
                    71,
                    72,
                    73,
                    74,
                    75,
                    76,
                    77,
                    78,
                    79,
                    80,
                    81,
                    82,
                    83,
                    84,
                    85,
                    86,
                    87,
                    88,
                    89,
                    90,
                    91,
                    92,
                    93,
                    94,
                    95,
                    96,
                    97,
                    98,
                    99
                  ],
                  "line": {
                    "color": "rgba(50, 171, 96, 1.0)",
                    "dash": "solid",
                    "shape": "linear",
                    "width": 1.3
                  },
                  "type": "scatter"
                },
                {
                  "name": "D",
                  "text": "",
                  "mode": "lines",
                  "y": [
                    -0.8618833298908681,
                    0.20813996635366622,
                    -0.3304837754674735,
                    0.7790971593779389,
                    1.2229057172697684,
                    -1.086383243854157,
                    0.2558270696980797,
                    0.31747700179956856,
                    0.0648760082407347,
                    0.39818210240214763,
                    -2.222803043630176,
                    -1.0382696464745613,
                    0.3862224141544189,
                    1.732475217681896,
                    1.9413120365820808,
                    -0.37281846292274756,
                    0.5564733251107546,
                    -0.012246537168911352,
                    0.1054283762475756,
                    -1.4783251122970866,
                    -0.09130282502219547,
                    -1.789732960734204,
                    0.5158325269207483,
                    -0.8813252470365817,
                    0.6087977699222119,
                    -1.7138899424422482,
                    0.6207801583937972,
                    -0.3749901672229239,
                    0.20770809853595804,
                    0.9359137469180281,
                    0.12022226238410962,
                    0.8225009091550631,
                    1.76477467345054,
                    0.36016716890936784,
                    -0.1250832053960907,
                    -0.1522706561181498,
                    -1.0424480708575399,
                    0.30745883917928635,
                    -2.2783142726728918,
                    -0.4704859479979955,
                    0.3733448796880743,
                    0.013295103739651834,
                    0.7802686784833872,
                    -0.4310614324564642,
                    1.2372232227342264,
                    0.7849390118451585,
                    0.041304746933925766,
                    -0.6323530961819367,
                    -0.2085320174187325,
                    -0.9924806066731731,
                    -0.2320634515678613,
                    -1.7145032260595843,
                    -1.0119274825206994,
                    1.8284646035317351,
                    1.9753172922924724,
                    -1.661449271470583,
                    0.1356019977101244,
                    0.3705972998438673,
                    1.0296146539370912,
                    0.6417023733994519,
                    0.3952092122510456,
                    -0.38941539543519477,
                    0.6881810680080264,
                    -0.6923216527392085,
                    0.7859148729504165,
                    -1.1472849282871418,
                    0.2511846980435486,
                    0.5575659018745627,
                    1.2403087145810914,
                    -1.6604243655092923,
                    1.135133966301076,
                    0.4122530378571627,
                    0.3903168547980452,
                    2.8083082068082144,
                    -1.766209430039648,
                    0.33440774785461086,
                    -0.7289144883210643,
                    1.496521834064087,
                    -0.14279912306551812,
                    -0.5247046978749527,
                    1.1213272631011142,
                    0.788657957680433,
                    -0.9415161884149708,
                    -1.1371561779321768,
                    -0.9831458013020439,
                    -0.06687885903564457,
                    0.43876694505860314,
                    -0.3600008021836057,
                    1.7611149939253055,
                    0.7906284431264262,
                    -0.2817889445431314,
                    0.7331128117542686,
                    -0.32030869487784,
                    -1.4266634007923211,
                    -0.5005732676544291,
                    -1.196033376404413,
                    -0.401590208323531,
                    -0.38686260498427866,
                    0.7913362478135079,
                    -1.4172121727880944
                  ],
                  "x": [
                    0,
                    1,
                    2,
                    3,
                    4,
                    5,
                    6,
                    7,
                    8,
                    9,
                    10,
                    11,
                    12,
                    13,
                    14,
                    15,
                    16,
                    17,
                    18,
                    19,
                    20,
                    21,
                    22,
                    23,
                    24,
                    25,
                    26,
                    27,
                    28,
                    29,
                    30,
                    31,
                    32,
                    33,
                    34,
                    35,
                    36,
                    37,
                    38,
                    39,
                    40,
                    41,
                    42,
                    43,
                    44,
                    45,
                    46,
                    47,
                    48,
                    49,
                    50,
                    51,
                    52,
                    53,
                    54,
                    55,
                    56,
                    57,
                    58,
                    59,
                    60,
                    61,
                    62,
                    63,
                    64,
                    65,
                    66,
                    67,
                    68,
                    69,
                    70,
                    71,
                    72,
                    73,
                    74,
                    75,
                    76,
                    77,
                    78,
                    79,
                    80,
                    81,
                    82,
                    83,
                    84,
                    85,
                    86,
                    87,
                    88,
                    89,
                    90,
                    91,
                    92,
                    93,
                    94,
                    95,
                    96,
                    97,
                    98,
                    99
                  ],
                  "line": {
                    "color": "rgba(128, 0, 128, 1.0)",
                    "dash": "solid",
                    "shape": "linear",
                    "width": 1.3
                  },
                  "type": "scatter"
                },
                {
                  "name": "E",
                  "text": "",
                  "mode": "lines",
                  "y": [
                    -0.3068545369831086,
                    0.19452164106824538,
                    -0.09972629502530053,
                    1.3127472251665881,
                    0.23049714162009532,
                    -0.6773147004053115,
                    1.3306030663578527,
                    -0.4795799173440492,
                    1.817488879847327,
                    0.16043980689398193,
                    0.455489076933805,
                    0.3369632136873196,
                    -0.30600902874094466,
                    0.5927568406534314,
                    0.9788013899154011,
                    0.42444549169926143,
                    0.3118613172344098,
                    -1.5053413690838922,
                    -1.8054054527591987,
                    0.49990893347051424,
                    0.2088031972711123,
                    0.5351073897601045,
                    -0.40113172131895247,
                    0.36386188929452534,
                    0.4066683329591181,
                    0.02465897760724841,
                    -1.125612899289825,
                    -0.5991512827213109,
                    -2.1317204317212086,
                    1.6748515202328584,
                    0.7178213318293429,
                    -1.04802331752155,
                    -1.1398307814924624,
                    0.5087798255077893,
                    -1.0462654029681377,
                    -0.8270007579157215,
                    1.6684735364873617,
                    -0.44911841458394586,
                    0.7037170428755122,
                    0.009953022642042075,
                    0.7005010177919694,
                    1.2263296464480185,
                    1.5277793397206538,
                    1.1985651847378533,
                    0.06696640471011564,
                    1.2726173684211284,
                    -1.0878541433809183,
                    -0.23922066882552742,
                    1.021166360107087,
                    1.5060363833502266,
                    2.655976982334091,
                    0.5032289322694687,
                    0.9045558630036712,
                    -0.4482472599391156,
                    -1.0694982033113174,
                    1.677679100171994,
                    1.9012444902567434,
                    1.265208261545507,
                    -1.2701051407848505,
                    -0.15911479487481744,
                    -2.0552540912010864,
                    -0.08872353616051161,
                    0.5318739954816927,
                    0.823191719669598,
                    0.7703802810278582,
                    -0.321192684994674,
                    -0.3281666587525587,
                    0.05150301786054848,
                    -1.631260789250599,
                    -0.9791741401594198,
                    1.291385791464753,
                    -1.6929693349051784,
                    0.9666410476271051,
                    0.6256979100640722,
                    0.9273513897483524,
                    0.25622039423539406,
                    -1.178915454977223,
                    0.17856901589848498,
                    0.25834909530580286,
                    -0.34959593184260007,
                    -0.10636065376459782,
                    -0.6622713457613587,
                    -1.40070026213,
                    -0.7297076482246678,
                    0.5537496195189662,
                    -0.9830165115447214,
                    1.2875682531993635,
                    -0.7283215166797196,
                    0.19690654271128372,
                    -2.277367279213558,
                    1.210568765959338,
                    0.7987323031419893,
                    0.6059309675961314,
                    -0.3300377772874452,
                    0.5880270060236032,
                    -1.6487004815302357,
                    0.8309213250559997,
                    0.34456625984315575,
                    -0.3338146350242726,
                    -1.5427093573913082
                  ],
                  "x": [
                    0,
                    1,
                    2,
                    3,
                    4,
                    5,
                    6,
                    7,
                    8,
                    9,
                    10,
                    11,
                    12,
                    13,
                    14,
                    15,
                    16,
                    17,
                    18,
                    19,
                    20,
                    21,
                    22,
                    23,
                    24,
                    25,
                    26,
                    27,
                    28,
                    29,
                    30,
                    31,
                    32,
                    33,
                    34,
                    35,
                    36,
                    37,
                    38,
                    39,
                    40,
                    41,
                    42,
                    43,
                    44,
                    45,
                    46,
                    47,
                    48,
                    49,
                    50,
                    51,
                    52,
                    53,
                    54,
                    55,
                    56,
                    57,
                    58,
                    59,
                    60,
                    61,
                    62,
                    63,
                    64,
                    65,
                    66,
                    67,
                    68,
                    69,
                    70,
                    71,
                    72,
                    73,
                    74,
                    75,
                    76,
                    77,
                    78,
                    79,
                    80,
                    81,
                    82,
                    83,
                    84,
                    85,
                    86,
                    87,
                    88,
                    89,
                    90,
                    91,
                    92,
                    93,
                    94,
                    95,
                    96,
                    97,
                    98,
                    99
                  ],
                  "line": {
                    "color": "rgba(219, 64, 82, 1.0)",
                    "dash": "solid",
                    "shape": "linear",
                    "width": 1.3
                  },
                  "type": "scatter"
                }
              ],
              "config": {
                "plotlyServerURL": "https://plot.ly",
                "linkText": "Export to plot.ly",
                "showLink": true
              },
              "layout": {
                "template": {
                  "layout": {
                    "shapedefaults": {
                      "line": {
                        "color": "#2a3f5f"
                      }
                    },
                    "polar": {
                      "radialaxis": {
                        "ticks": "",
                        "gridcolor": "white",
                        "linecolor": "white"
                      },
                      "bgcolor": "#E5ECF6",
                      "angularaxis": {
                        "ticks": "",
                        "gridcolor": "white",
                        "linecolor": "white"
                      }
                    },
                    "colorway": [
                      "#636efa",
                      "#EF553B",
                      "#00cc96",
                      "#ab63fa",
                      "#FFA15A",
                      "#19d3f3",
                      "#FF6692",
                      "#B6E880",
                      "#FF97FF",
                      "#FECB52"
                    ],
                    "xaxis": {
                      "automargin": true,
                      "title": {
                        "standoff": 15
                      },
                      "zerolinewidth": 2,
                      "ticks": "",
                      "zerolinecolor": "white",
                      "gridcolor": "white",
                      "linecolor": "white"
                    },
                    "colorscale": {
                      "diverging": [
                        [
                          0,
                          "#8e0152"
                        ],
                        [
                          0.1,
                          "#c51b7d"
                        ],
                        [
                          0.2,
                          "#de77ae"
                        ],
                        [
                          0.3,
                          "#f1b6da"
                        ],
                        [
                          0.4,
                          "#fde0ef"
                        ],
                        [
                          0.5,
                          "#f7f7f7"
                        ],
                        [
                          0.6,
                          "#e6f5d0"
                        ],
                        [
                          0.7,
                          "#b8e186"
                        ],
                        [
                          0.8,
                          "#7fbc41"
                        ],
                        [
                          0.9,
                          "#4d9221"
                        ],
                        [
                          1,
                          "#276419"
                        ]
                      ],
                      "sequential": [
                        [
                          0,
                          "#0d0887"
                        ],
                        [
                          0.1111111111111111,
                          "#46039f"
                        ],
                        [
                          0.2222222222222222,
                          "#7201a8"
                        ],
                        [
                          0.3333333333333333,
                          "#9c179e"
                        ],
                        [
                          0.4444444444444444,
                          "#bd3786"
                        ],
                        [
                          0.5555555555555556,
                          "#d8576b"
                        ],
                        [
                          0.6666666666666666,
                          "#ed7953"
                        ],
                        [
                          0.7777777777777778,
                          "#fb9f3a"
                        ],
                        [
                          0.8888888888888888,
                          "#fdca26"
                        ],
                        [
                          1,
                          "#f0f921"
                        ]
                      ],
                      "sequentialminus": [
                        [
                          0,
                          "#0d0887"
                        ],
                        [
                          0.1111111111111111,
                          "#46039f"
                        ],
                        [
                          0.2222222222222222,
                          "#7201a8"
                        ],
                        [
                          0.3333333333333333,
                          "#9c179e"
                        ],
                        [
                          0.4444444444444444,
                          "#bd3786"
                        ],
                        [
                          0.5555555555555556,
                          "#d8576b"
                        ],
                        [
                          0.6666666666666666,
                          "#ed7953"
                        ],
                        [
                          0.7777777777777778,
                          "#fb9f3a"
                        ],
                        [
                          0.8888888888888888,
                          "#fdca26"
                        ],
                        [
                          1,
                          "#f0f921"
                        ]
                      ]
                    },
                    "paper_bgcolor": "white",
                    "plot_bgcolor": "#E5ECF6",
                    "title": {
                      "x": 0.05
                    },
                    "scene": {
                      "zaxis": {
                        "backgroundcolor": "#E5ECF6",
                        "ticks": "",
                        "gridwidth": 2,
                        "showbackground": true,
                        "zerolinecolor": "white",
                        "gridcolor": "white",
                        "linecolor": "white"
                      },
                      "xaxis": {
                        "backgroundcolor": "#E5ECF6",
                        "ticks": "",
                        "gridwidth": 2,
                        "showbackground": true,
                        "zerolinecolor": "white",
                        "gridcolor": "white",
                        "linecolor": "white"
                      },
                      "yaxis": {
                        "backgroundcolor": "#E5ECF6",
                        "ticks": "",
                        "gridwidth": 2,
                        "showbackground": true,
                        "zerolinecolor": "white",
                        "gridcolor": "white",
                        "linecolor": "white"
                      }
                    },
                    "yaxis": {
                      "automargin": true,
                      "title": {
                        "standoff": 15
                      },
                      "zerolinewidth": 2,
                      "ticks": "",
                      "zerolinecolor": "white",
                      "gridcolor": "white",
                      "linecolor": "white"
                    },
                    "annotationdefaults": {
                      "arrowwidth": 1,
                      "arrowhead": 0,
                      "arrowcolor": "#2a3f5f"
                    },
                    "hoverlabel": {
                      "align": "left"
                    },
                    "ternary": {
                      "bgcolor": "#E5ECF6",
                      "baxis": {
                        "ticks": "",
                        "gridcolor": "white",
                        "linecolor": "white"
                      },
                      "caxis": {
                        "ticks": "",
                        "gridcolor": "white",
                        "linecolor": "white"
                      },
                      "aaxis": {
                        "ticks": "",
                        "gridcolor": "white",
                        "linecolor": "white"
                      }
                    },
                    "mapbox": {
                      "style": "light"
                    },
                    "hovermode": "closest",
                    "font": {
                      "color": "#2a3f5f"
                    },
                    "geo": {
                      "showland": true,
                      "landcolor": "#E5ECF6",
                      "showlakes": true,
                      "bgcolor": "white",
                      "subunitcolor": "white",
                      "lakecolor": "white"
                    },
                    "coloraxis": {
                      "colorbar": {
                        "outlinewidth": 0,
                        "ticks": ""
                      }
                    }
                  },
                  "data": {
                    "mesh3d": [
                      {
                        "colorbar": {
                          "outlinewidth": 0,
                          "ticks": ""
                        },
                        "type": "mesh3d"
                      }
                    ],
                    "scattercarpet": [
                      {
                        "marker": {
                          "colorbar": {
                            "outlinewidth": 0,
                            "ticks": ""
                          }
                        },
                        "type": "scattercarpet"
                      }
                    ],
                    "pie": [
                      {
                        "automargin": true,
                        "type": "pie"
                      }
                    ],
                    "surface": [
                      {
                        "colorbar": {
                          "outlinewidth": 0,
                          "ticks": ""
                        },
                        "type": "surface",
                        "colorscale": [
                          [
                            0,
                            "#0d0887"
                          ],
                          [
                            0.1111111111111111,
                            "#46039f"
                          ],
                          [
                            0.2222222222222222,
                            "#7201a8"
                          ],
                          [
                            0.3333333333333333,
                            "#9c179e"
                          ],
                          [
                            0.4444444444444444,
                            "#bd3786"
                          ],
                          [
                            0.5555555555555556,
                            "#d8576b"
                          ],
                          [
                            0.6666666666666666,
                            "#ed7953"
                          ],
                          [
                            0.7777777777777778,
                            "#fb9f3a"
                          ],
                          [
                            0.8888888888888888,
                            "#fdca26"
                          ],
                          [
                            1,
                            "#f0f921"
                          ]
                        ]
                      }
                    ],
                    "table": [
                      {
                        "header": {
                          "line": {
                            "color": "white"
                          },
                          "fill": {
                            "color": "#C8D4E3"
                          }
                        },
                        "cells": {
                          "line": {
                            "color": "white"
                          },
                          "fill": {
                            "color": "#EBF0F8"
                          }
                        },
                        "type": "table"
                      }
                    ],
                    "scatterpolargl": [
                      {
                        "marker": {
                          "colorbar": {
                            "outlinewidth": 0,
                            "ticks": ""
                          }
                        },
                        "type": "scatterpolargl"
                      }
                    ],
                    "contour": [
                      {
                        "colorbar": {
                          "outlinewidth": 0,
                          "ticks": ""
                        },
                        "type": "contour",
                        "colorscale": [
                          [
                            0,
                            "#0d0887"
                          ],
                          [
                            0.1111111111111111,
                            "#46039f"
                          ],
                          [
                            0.2222222222222222,
                            "#7201a8"
                          ],
                          [
                            0.3333333333333333,
                            "#9c179e"
                          ],
                          [
                            0.4444444444444444,
                            "#bd3786"
                          ],
                          [
                            0.5555555555555556,
                            "#d8576b"
                          ],
                          [
                            0.6666666666666666,
                            "#ed7953"
                          ],
                          [
                            0.7777777777777778,
                            "#fb9f3a"
                          ],
                          [
                            0.8888888888888888,
                            "#fdca26"
                          ],
                          [
                            1,
                            "#f0f921"
                          ]
                        ]
                      }
                    ],
                    "carpet": [
                      {
                        "type": "carpet",
                        "baxis": {
                          "minorgridcolor": "white",
                          "gridcolor": "white",
                          "linecolor": "white",
                          "endlinecolor": "#2a3f5f",
                          "startlinecolor": "#2a3f5f"
                        },
                        "aaxis": {
                          "minorgridcolor": "white",
                          "gridcolor": "white",
                          "linecolor": "white",
                          "endlinecolor": "#2a3f5f",
                          "startlinecolor": "#2a3f5f"
                        }
                      }
                    ],
                    "contourcarpet": [
                      {
                        "colorbar": {
                          "outlinewidth": 0,
                          "ticks": ""
                        },
                        "type": "contourcarpet"
                      }
                    ],
                    "heatmap": [
                      {
                        "colorbar": {
                          "outlinewidth": 0,
                          "ticks": ""
                        },
                        "type": "heatmap",
                        "colorscale": [
                          [
                            0,
                            "#0d0887"
                          ],
                          [
                            0.1111111111111111,
                            "#46039f"
                          ],
                          [
                            0.2222222222222222,
                            "#7201a8"
                          ],
                          [
                            0.3333333333333333,
                            "#9c179e"
                          ],
                          [
                            0.4444444444444444,
                            "#bd3786"
                          ],
                          [
                            0.5555555555555556,
                            "#d8576b"
                          ],
                          [
                            0.6666666666666666,
                            "#ed7953"
                          ],
                          [
                            0.7777777777777778,
                            "#fb9f3a"
                          ],
                          [
                            0.8888888888888888,
                            "#fdca26"
                          ],
                          [
                            1,
                            "#f0f921"
                          ]
                        ]
                      }
                    ],
                    "scattermapbox": [
                      {
                        "marker": {
                          "colorbar": {
                            "outlinewidth": 0,
                            "ticks": ""
                          }
                        },
                        "type": "scattermapbox"
                      }
                    ],
                    "scatter3d": [
                      {
                        "marker": {
                          "colorbar": {
                            "outlinewidth": 0,
                            "ticks": ""
                          }
                        },
                        "line": {
                          "colorbar": {
                            "outlinewidth": 0,
                            "ticks": ""
                          }
                        },
                        "type": "scatter3d"
                      }
                    ],
                    "scattergl": [
                      {
                        "marker": {
                          "colorbar": {
                            "outlinewidth": 0,
                            "ticks": ""
                          }
                        },
                        "type": "scattergl"
                      }
                    ],
                    "scatterternary": [
                      {
                        "marker": {
                          "colorbar": {
                            "outlinewidth": 0,
                            "ticks": ""
                          }
                        },
                        "type": "scatterternary"
                      }
                    ],
                    "histogram": [
                      {
                        "marker": {
                          "colorbar": {
                            "outlinewidth": 0,
                            "ticks": ""
                          }
                        },
                        "type": "histogram"
                      }
                    ],
                    "heatmapgl": [
                      {
                        "colorbar": {
                          "outlinewidth": 0,
                          "ticks": ""
                        },
                        "type": "heatmapgl",
                        "colorscale": [
                          [
                            0,
                            "#0d0887"
                          ],
                          [
                            0.1111111111111111,
                            "#46039f"
                          ],
                          [
                            0.2222222222222222,
                            "#7201a8"
                          ],
                          [
                            0.3333333333333333,
                            "#9c179e"
                          ],
                          [
                            0.4444444444444444,
                            "#bd3786"
                          ],
                          [
                            0.5555555555555556,
                            "#d8576b"
                          ],
                          [
                            0.6666666666666666,
                            "#ed7953"
                          ],
                          [
                            0.7777777777777778,
                            "#fb9f3a"
                          ],
                          [
                            0.8888888888888888,
                            "#fdca26"
                          ],
                          [
                            1,
                            "#f0f921"
                          ]
                        ]
                      }
                    ],
                    "scatterpolar": [
                      {
                        "marker": {
                          "colorbar": {
                            "outlinewidth": 0,
                            "ticks": ""
                          }
                        },
                        "type": "scatterpolar"
                      }
                    ],
                    "histogram2d": [
                      {
                        "colorbar": {
                          "outlinewidth": 0,
                          "ticks": ""
                        },
                        "type": "histogram2d",
                        "colorscale": [
                          [
                            0,
                            "#0d0887"
                          ],
                          [
                            0.1111111111111111,
                            "#46039f"
                          ],
                          [
                            0.2222222222222222,
                            "#7201a8"
                          ],
                          [
                            0.3333333333333333,
                            "#9c179e"
                          ],
                          [
                            0.4444444444444444,
                            "#bd3786"
                          ],
                          [
                            0.5555555555555556,
                            "#d8576b"
                          ],
                          [
                            0.6666666666666666,
                            "#ed7953"
                          ],
                          [
                            0.7777777777777778,
                            "#fb9f3a"
                          ],
                          [
                            0.8888888888888888,
                            "#fdca26"
                          ],
                          [
                            1,
                            "#f0f921"
                          ]
                        ]
                      }
                    ],
                    "scattergeo": [
                      {
                        "marker": {
                          "colorbar": {
                            "outlinewidth": 0,
                            "ticks": ""
                          }
                        },
                        "type": "scattergeo"
                      }
                    ],
                    "bar": [
                      {
                        "marker": {
                          "line": {
                            "color": "#E5ECF6",
                            "width": 0.5
                          }
                        },
                        "type": "bar",
                        "error_x": {
                          "color": "#2a3f5f"
                        },
                        "error_y": {
                          "color": "#2a3f5f"
                        }
                      }
                    ],
                    "choropleth": [
                      {
                        "colorbar": {
                          "outlinewidth": 0,
                          "ticks": ""
                        },
                        "type": "choropleth"
                      }
                    ],
                    "parcoords": [
                      {
                        "line": {
                          "colorbar": {
                            "outlinewidth": 0,
                            "ticks": ""
                          }
                        },
                        "type": "parcoords"
                      }
                    ],
                    "barpolar": [
                      {
                        "marker": {
                          "line": {
                            "color": "#E5ECF6",
                            "width": 0.5
                          }
                        },
                        "type": "barpolar"
                      }
                    ],
                    "histogram2dcontour": [
                      {
                        "colorbar": {
                          "outlinewidth": 0,
                          "ticks": ""
                        },
                        "type": "histogram2dcontour",
                        "colorscale": [
                          [
                            0,
                            "#0d0887"
                          ],
                          [
                            0.1111111111111111,
                            "#46039f"
                          ],
                          [
                            0.2222222222222222,
                            "#7201a8"
                          ],
                          [
                            0.3333333333333333,
                            "#9c179e"
                          ],
                          [
                            0.4444444444444444,
                            "#bd3786"
                          ],
                          [
                            0.5555555555555556,
                            "#d8576b"
                          ],
                          [
                            0.6666666666666666,
                            "#ed7953"
                          ],
                          [
                            0.7777777777777778,
                            "#fb9f3a"
                          ],
                          [
                            0.8888888888888888,
                            "#fdca26"
                          ],
                          [
                            1,
                            "#f0f921"
                          ]
                        ]
                      }
                    ],
                    "scatter": [
                      {
                        "marker": {
                          "colorbar": {
                            "outlinewidth": 0,
                            "ticks": ""
                          }
                        },
                        "type": "scatter"
                      }
                    ]
                  }
                },
                "title": {
                  "font": {
                    "color": "#4D5663"
                  }
                },
                "paper_bgcolor": "#F5F6F9",
                "plot_bgcolor": "#F5F6F9",
                "yaxis": {
                  "tickfont": {
                    "color": "#4D5663"
                  },
                  "zerolinecolor": "#E1E5ED",
                  "title": {
                    "text": "",
                    "font": {
                      "color": "#4D5663"
                    }
                  },
                  "gridcolor": "#E1E5ED",
                  "showgrid": true
                },
                "xaxis": {
                  "tickfont": {
                    "color": "#4D5663"
                  },
                  "zerolinecolor": "#E1E5ED",
                  "title": {
                    "text": "",
                    "font": {
                      "color": "#4D5663"
                    }
                  },
                  "gridcolor": "#E1E5ED",
                  "showgrid": true
                },
                "legend": {
                  "bgcolor": "#F5F6F9",
                  "font": {
                    "color": "#4D5663"
                  }
                }
              }
            }
          },
          "metadata": {
            "tags": []
          }
        }
      ]
    },
    {
      "cell_type": "code",
      "metadata": {
        "id": "STsb7BUwmxL5"
      },
      "source": [
        ""
      ],
      "execution_count": null,
      "outputs": []
    }
  ]
}