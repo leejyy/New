{
  "nbformat": 4,
  "nbformat_minor": 0,
  "metadata": {
    "colab": {
      "name": "Untitled1.5.ipynb",
      "provenance": [],
      "authorship_tag": "ABX9TyO5FaGH25KEmi0+o/SU7NhD",
      "include_colab_link": true
    },
    "kernelspec": {
      "name": "python3",
      "display_name": "Python 3"
    }
  },
  "cells": [
    {
      "cell_type": "markdown",
      "metadata": {
        "id": "view-in-github",
        "colab_type": "text"
      },
      "source": [
        "<a href=\"https://colab.research.google.com/github/leejyy/New/blob/master/Untitled1_5.ipynb\" target=\"_parent\"><img src=\"https://colab.research.google.com/assets/colab-badge.svg\" alt=\"Open In Colab\"/></a>"
      ]
    },
    {
      "cell_type": "code",
      "metadata": {
        "colab": {
          "base_uri": "https://localhost:8080/"
        },
        "id": "hwsH4D_yGLaE",
        "outputId": "d38f1a9c-0bb1-44f7-db00-eeecf01b7093"
      },
      "source": [
        "for x in 'cuny':\r\n",
        "  print(x)"
      ],
      "execution_count": 1,
      "outputs": [
        {
          "output_type": "stream",
          "text": [
            "c\n",
            "u\n",
            "n\n",
            "y\n"
          ],
          "name": "stdout"
        }
      ]
    },
    {
      "cell_type": "code",
      "metadata": {
        "colab": {
          "base_uri": "https://localhost:8080/"
        },
        "id": "ydijBTYtGSbC",
        "outputId": "78f05812-0785-4324-b7f3-42ca9d788acc"
      },
      "source": [
        "familymember=['a','b','c','d','e','f','g','h','i','j','k','l','n','m','o','p','q','r','s','t','u','v']\r\n",
        "for name in familymember:\r\n",
        "  print(\"Hi\"+\" \"+name)"
      ],
      "execution_count": 2,
      "outputs": [
        {
          "output_type": "stream",
          "text": [
            "Hi a\n",
            "Hi b\n",
            "Hi c\n",
            "Hi d\n",
            "Hi e\n",
            "Hi f\n",
            "Hi g\n",
            "Hi h\n",
            "Hi i\n",
            "Hi j\n",
            "Hi k\n",
            "Hi l\n",
            "Hi n\n",
            "Hi m\n",
            "Hi o\n",
            "Hi p\n",
            "Hi q\n",
            "Hi r\n",
            "Hi s\n",
            "Hi t\n",
            "Hi u\n",
            "Hi v\n"
          ],
          "name": "stdout"
        }
      ]
    },
    {
      "cell_type": "code",
      "metadata": {
        "colab": {
          "base_uri": "https://localhost:8080/"
        },
        "id": "82e9xG27GXqU",
        "outputId": "c9a17b7d-107a-4be8-9009-e597eeb1f4f5"
      },
      "source": [
        "for num in range(1,10):\r\n",
        "  print(num)"
      ],
      "execution_count": 3,
      "outputs": [
        {
          "output_type": "stream",
          "text": [
            "1\n",
            "2\n",
            "3\n",
            "4\n",
            "5\n",
            "6\n",
            "7\n",
            "8\n",
            "9\n"
          ],
          "name": "stdout"
        }
      ]
    },
    {
      "cell_type": "code",
      "metadata": {
        "colab": {
          "base_uri": "https://localhost:8080/"
        },
        "id": "ORXNESruGbmb",
        "outputId": "56334418-6efd-4699-c443-9ab467b7637c"
      },
      "source": [
        "numbers=list(range(1,12,2))\r\n",
        "print(numbers)"
      ],
      "execution_count": 4,
      "outputs": [
        {
          "output_type": "stream",
          "text": [
            "[1, 3, 5, 7, 9, 11]\n"
          ],
          "name": "stdout"
        }
      ]
    },
    {
      "cell_type": "code",
      "metadata": {
        "colab": {
          "base_uri": "https://localhost:8080/"
        },
        "id": "lPB2KmL1GfIF",
        "outputId": "828f27d0-ae7c-43e5-dd33-82c14798bc26"
      },
      "source": [
        "nums=input(\"Enter a number\")\r\n",
        "if int (nums)%2 == 0:\r\n",
        "  print(\"even\")\r\n",
        "else:\r\n",
        "  print(\"odd\")"
      ],
      "execution_count": 5,
      "outputs": [
        {
          "output_type": "stream",
          "text": [
            "Enter a number4\n",
            "even\n"
          ],
          "name": "stdout"
        }
      ]
    },
    {
      "cell_type": "code",
      "metadata": {
        "id": "fSxepjatGjtP"
      },
      "source": [
        ""
      ],
      "execution_count": null,
      "outputs": []
    },
    {
      "cell_type": "markdown",
      "metadata": {
        "id": "uXYPJlwEGmf-"
      },
      "source": [
        "ues loop function to get the prime number\r\n"
      ]
    },
    {
      "cell_type": "code",
      "metadata": {
        "colab": {
          "base_uri": "https://localhost:8080/"
        },
        "id": "UcaGZsHeGlwm",
        "outputId": "0661f16b-997f-4c19-f54f-16dcc461fd92"
      },
      "source": [
        "n=int(input('enter a number greater than 1. '))\r\n",
        "Match=True\r\n",
        "\r\n",
        "for num in range (2,n):\r\n",
        "    n%num\r\n",
        "    if n%num==0:\r\n",
        "        Match=False\r\n",
        "        \r\n",
        "if Match:\r\n",
        "    print('num is prime.')\r\n",
        "\r\n",
        "else:\r\n",
        "    print('nume is not prime.')"
      ],
      "execution_count": 6,
      "outputs": [
        {
          "output_type": "stream",
          "text": [
            "enter a number greater than 1. 4\n",
            "nume is not prime.\n"
          ],
          "name": "stdout"
        }
      ]
    },
    {
      "cell_type": "code",
      "metadata": {
        "colab": {
          "base_uri": "https://localhost:8080/"
        },
        "id": "aEQSFw85Gtmf",
        "outputId": "f5247cbc-2f51-4785-adbc-e1abf3389100"
      },
      "source": [
        "for num in range(2, 101):\r\n",
        "    if all(num%i!=0 for i in range(2, num)):\r\n",
        "       print (num)"
      ],
      "execution_count": 7,
      "outputs": [
        {
          "output_type": "stream",
          "text": [
            "2\n",
            "3\n",
            "5\n",
            "7\n",
            "11\n",
            "13\n",
            "17\n",
            "19\n",
            "23\n",
            "29\n",
            "31\n",
            "37\n",
            "41\n",
            "43\n",
            "47\n",
            "53\n",
            "59\n",
            "61\n",
            "67\n",
            "71\n",
            "73\n",
            "79\n",
            "83\n",
            "89\n",
            "97\n"
          ],
          "name": "stdout"
        }
      ]
    },
    {
      "cell_type": "code",
      "metadata": {
        "colab": {
          "base_uri": "https://localhost:8080/"
        },
        "id": "uB-WDcr5GzcZ",
        "outputId": "024d2909-4889-4d9d-8da7-d1013b2e7923"
      },
      "source": [
        "familymember=['a','b','c','d','e','f','g','h','i','j','k','l','n','m','o','p','q','r','s','t','u','v']\r\n",
        "print(familymember[0:3])\r\n",
        "print(familymember[1:10])\r\n",
        "print(familymember[7:14])\r\n",
        "print(familymember[:6])\r\n",
        "print(familymember[-2:])\r\n",
        "print(familymember[-8:])\r\n",
        "print(familymember[16:20])"
      ],
      "execution_count": 10,
      "outputs": [
        {
          "output_type": "stream",
          "text": [
            "['a', 'b', 'c']\n",
            "['b', 'c', 'd', 'e', 'f', 'g', 'h', 'i', 'j']\n",
            "['h', 'i', 'j', 'k', 'l', 'n', 'm']\n",
            "['a', 'b', 'c', 'd', 'e', 'f']\n",
            "['u', 'v']\n",
            "['o', 'p', 'q', 'r', 's', 't', 'u', 'v']\n",
            "['q', 'r', 's', 't']\n"
          ],
          "name": "stdout"
        }
      ]
    },
    {
      "cell_type": "code",
      "metadata": {
        "id": "auh-6SVoHMEU"
      },
      "source": [
        ""
      ],
      "execution_count": null,
      "outputs": []
    }
  ]
}