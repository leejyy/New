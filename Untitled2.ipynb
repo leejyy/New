{
  "nbformat": 4,
  "nbformat_minor": 0,
  "metadata": {
    "colab": {
      "name": "Untitled2.ipynb",
      "provenance": [],
      "authorship_tag": "ABX9TyOltaQ1ZCYqivSDQ55fdnoQ",
      "include_colab_link": true
    },
    "kernelspec": {
      "name": "python3",
      "display_name": "Python 3"
    }
  },
  "cells": [
    {
      "cell_type": "markdown",
      "metadata": {
        "id": "view-in-github",
        "colab_type": "text"
      },
      "source": [
        "<a href=\"https://colab.research.google.com/github/leejyy/New/blob/master/Untitled2.ipynb\" target=\"_parent\"><img src=\"https://colab.research.google.com/assets/colab-badge.svg\" alt=\"Open In Colab\"/></a>"
      ]
    },
    {
      "cell_type": "code",
      "metadata": {
        "colab": {
          "base_uri": "https://localhost:8080/"
        },
        "id": "uVOf8RPBWwGR",
        "outputId": "ed9b19ec-b373-4b06-d402-a3c3711e2549"
      },
      "source": [
        "for x in 'cuny':\r\n",
        "  print(x)"
      ],
      "execution_count": 1,
      "outputs": [
        {
          "output_type": "stream",
          "text": [
            "c\n",
            "u\n",
            "n\n",
            "y\n"
          ],
          "name": "stdout"
        }
      ]
    },
    {
      "cell_type": "code",
      "metadata": {
        "colab": {
          "base_uri": "https://localhost:8080/"
        },
        "id": "BT9q1bhSW4IX",
        "outputId": "b68e1439-61e0-404d-d5ab-68343a726389"
      },
      "source": [
        "familymember=['a','b','c','d','e','f','g','h','i','j','k','l','n','m','o','p','q','r','s','t','u','v']\r\n",
        "for name in familymember:\r\n",
        "  print(\"Hi\"+\" \"+name)"
      ],
      "execution_count": 4,
      "outputs": [
        {
          "output_type": "stream",
          "text": [
            "Hi a\n",
            "Hi b\n",
            "Hi c\n",
            "Hi d\n",
            "Hi e\n",
            "Hi f\n",
            "Hi g\n",
            "Hi h\n",
            "Hi i\n",
            "Hi j\n",
            "Hi k\n",
            "Hi l\n",
            "Hi n\n",
            "Hi m\n",
            "Hi o\n",
            "Hi p\n",
            "Hi q\n",
            "Hi r\n",
            "Hi s\n",
            "Hi t\n",
            "Hi u\n",
            "Hi v\n"
          ],
          "name": "stdout"
        }
      ]
    },
    {
      "cell_type": "code",
      "metadata": {
        "colab": {
          "base_uri": "https://localhost:8080/"
        },
        "id": "5oeoLwJjYwWV",
        "outputId": "ff29a0ca-209c-47e2-c3e4-662e45cb1720"
      },
      "source": [
        "for num in range(1,10):\r\n",
        "  print(num)"
      ],
      "execution_count": 5,
      "outputs": [
        {
          "output_type": "stream",
          "text": [
            "1\n",
            "2\n",
            "3\n",
            "4\n",
            "5\n",
            "6\n",
            "7\n",
            "8\n",
            "9\n"
          ],
          "name": "stdout"
        }
      ]
    },
    {
      "cell_type": "code",
      "metadata": {
        "colab": {
          "base_uri": "https://localhost:8080/"
        },
        "id": "xDpio4VzcmfI",
        "outputId": "b601d86c-2d0e-4e25-8bbd-b3ced0bdbd95"
      },
      "source": [
        "numbers=list(range(1,12,2))\r\n",
        "print(numbers)"
      ],
      "execution_count": 7,
      "outputs": [
        {
          "output_type": "stream",
          "text": [
            "[1, 3, 5, 7, 9, 11]\n"
          ],
          "name": "stdout"
        }
      ]
    },
    {
      "cell_type": "code",
      "metadata": {
        "colab": {
          "base_uri": "https://localhost:8080/"
        },
        "id": "cstctvzveEBQ",
        "outputId": "2b103ad1-874a-4f74-f46b-bdc5bf2d9b72"
      },
      "source": [
        "nums=input(\"Enter a number\")\r\n",
        "if int (nums)%2 == 0:\r\n",
        "  print(\"even\")\r\n",
        "else:\r\n",
        "  print(\"odd\")"
      ],
      "execution_count": 11,
      "outputs": [
        {
          "output_type": "stream",
          "text": [
            "Enter a number4\n",
            "even\n"
          ],
          "name": "stdout"
        }
      ]
    },
    {
      "cell_type": "markdown",
      "metadata": {
        "id": "BM7zpiJimt3W"
      },
      "source": [
        "ues loop function to get the prime number."
      ]
    },
    {
      "cell_type": "code",
      "metadata": {
        "colab": {
          "base_uri": "https://localhost:8080/"
        },
        "id": "kMRLEZipgIxF",
        "outputId": "a22fff92-19f5-4451-d20b-b751a62eb527"
      },
      "source": [
        "n=int(input('enter a number greater than 1. '))\r\n",
        "Match=True\r\n",
        "\r\n",
        "for num in range (2,n):\r\n",
        "    n%num\r\n",
        "    if n%num==0:\r\n",
        "        Match=False\r\n",
        "        \r\n",
        "if Match:\r\n",
        "    print('num is prime.')\r\n",
        "\r\n",
        "else:\r\n",
        "    print('nume is not prime.')\r\n"
      ],
      "execution_count": 12,
      "outputs": [
        {
          "output_type": "stream",
          "text": [
            "enter a number greater than 1. 9\n",
            "nume is not prime.\n"
          ],
          "name": "stdout"
        }
      ]
    },
    {
      "cell_type": "code",
      "metadata": {
        "colab": {
          "base_uri": "https://localhost:8080/"
        },
        "id": "OCIBT1JdmrX5",
        "outputId": "9fee344c-e8fe-4810-d478-7ae0678e50a4"
      },
      "source": [
        "for num in range(2, 101):\r\n",
        "    if all(num%i!=0 for i in range(2, num)):\r\n",
        "       print (num)\r\n"
      ],
      "execution_count": 13,
      "outputs": [
        {
          "output_type": "stream",
          "text": [
            "2\n",
            "3\n",
            "5\n",
            "7\n",
            "11\n",
            "13\n",
            "17\n",
            "19\n",
            "23\n",
            "29\n",
            "31\n",
            "37\n",
            "41\n",
            "43\n",
            "47\n",
            "53\n",
            "59\n",
            "61\n",
            "67\n",
            "71\n",
            "73\n",
            "79\n",
            "83\n",
            "89\n",
            "97\n"
          ],
          "name": "stdout"
        }
      ]
    },
    {
      "cell_type": "code",
      "metadata": {
        "id": "a-znGdeJnJxa"
      },
      "source": [
        ""
      ],
      "execution_count": null,
      "outputs": []
    },
    {
      "cell_type": "code",
      "metadata": {
        "colab": {
          "base_uri": "https://localhost:8080/"
        },
        "id": "dUvu1ZrNwlk3",
        "outputId": "2d8167c9-c7d1-4b67-8ce2-ffe34d88ec07"
      },
      "source": [
        "familymember=['a','b','c','d','e','f','g','h','i','j','k','l','n','m','o','p','q','r','s','t','u','v']\r\n",
        "print(familymember[0:3])"
      ],
      "execution_count": 15,
      "outputs": [
        {
          "output_type": "stream",
          "text": [
            "['a', 'b', 'c']\n"
          ],
          "name": "stdout"
        }
      ]
    },
    {
      "cell_type": "code",
      "metadata": {
        "colab": {
          "base_uri": "https://localhost:8080/"
        },
        "id": "Xu5JRKd0wxKv",
        "outputId": "77420e98-219d-4a41-f2cd-eca2fb8beff6"
      },
      "source": [
        "print(familymember[1:10])"
      ],
      "execution_count": 16,
      "outputs": [
        {
          "output_type": "stream",
          "text": [
            "['b', 'c', 'd', 'e', 'f', 'g', 'h', 'i', 'j']\n"
          ],
          "name": "stdout"
        }
      ]
    },
    {
      "cell_type": "code",
      "metadata": {
        "colab": {
          "base_uri": "https://localhost:8080/"
        },
        "id": "zeEeC5ujxPjd",
        "outputId": "32d6af3e-d2b6-4ca8-b232-d9534d1f6faa"
      },
      "source": [
        "print(familymember[7:14])"
      ],
      "execution_count": 17,
      "outputs": [
        {
          "output_type": "stream",
          "text": [
            "['h', 'i', 'j', 'k', 'l', 'n', 'm']\n"
          ],
          "name": "stdout"
        }
      ]
    },
    {
      "cell_type": "code",
      "metadata": {
        "colab": {
          "base_uri": "https://localhost:8080/"
        },
        "id": "zd9HvK4lxhAd",
        "outputId": "1e899ba7-b598-4371-d104-e6f7a7671a2b"
      },
      "source": [
        "print(familymember[:6])"
      ],
      "execution_count": 18,
      "outputs": [
        {
          "output_type": "stream",
          "text": [
            "['a', 'b', 'c', 'd', 'e', 'f']\n"
          ],
          "name": "stdout"
        }
      ]
    },
    {
      "cell_type": "code",
      "metadata": {
        "colab": {
          "base_uri": "https://localhost:8080/"
        },
        "id": "DpSf3C0Sxq2u",
        "outputId": "d556b246-3cfb-48e8-efce-7cd634f91fde"
      },
      "source": [
        "print(familymember[-2:])"
      ],
      "execution_count": 20,
      "outputs": [
        {
          "output_type": "stream",
          "text": [
            "['u', 'v']\n"
          ],
          "name": "stdout"
        }
      ]
    },
    {
      "cell_type": "code",
      "metadata": {
        "colab": {
          "base_uri": "https://localhost:8080/"
        },
        "id": "rsZGyhVXx1Ez",
        "outputId": "11aa4c91-cbfa-492f-fa28-3d20e0e45975"
      },
      "source": [
        "print(familymember[-8:])"
      ],
      "execution_count": 21,
      "outputs": [
        {
          "output_type": "stream",
          "text": [
            "['o', 'p', 'q', 'r', 's', 't', 'u', 'v']\n"
          ],
          "name": "stdout"
        }
      ]
    },
    {
      "cell_type": "code",
      "metadata": {
        "colab": {
          "base_uri": "https://localhost:8080/"
        },
        "id": "TxBXS2sox9yT",
        "outputId": "e81985b5-89ff-419f-f112-b19a74376655"
      },
      "source": [
        "print(familymember[16:20])"
      ],
      "execution_count": 22,
      "outputs": [
        {
          "output_type": "stream",
          "text": [
            "['q', 'r', 's', 't']\n"
          ],
          "name": "stdout"
        }
      ]
    },
    {
      "cell_type": "code",
      "metadata": {
        "id": "U8nRAdOXyJNZ"
      },
      "source": [
        ""
      ],
      "execution_count": null,
      "outputs": []
    }
  ]
}