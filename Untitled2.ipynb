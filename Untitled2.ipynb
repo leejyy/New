{
  "nbformat": 4,
  "nbformat_minor": 0,
  "metadata": {
    "colab": {
      "name": "Untitled2.ipynb",
      "provenance": [],
      "authorship_tag": "ABX9TyPpS8dImbnp2rTZgzoKP6cC",
      "include_colab_link": true
    },
    "kernelspec": {
      "name": "python3",
      "display_name": "Python 3"
    }
  },
  "cells": [
    {
      "cell_type": "markdown",
      "metadata": {
        "id": "view-in-github",
        "colab_type": "text"
      },
      "source": [
        "<a href=\"https://colab.research.google.com/github/leejyy/New/blob/master/Untitled2.ipynb\" target=\"_parent\"><img src=\"https://colab.research.google.com/assets/colab-badge.svg\" alt=\"Open In Colab\"/></a>"
      ]
    },
    {
      "cell_type": "code",
      "metadata": {
        "colab": {
          "base_uri": "https://localhost:8080/"
        },
        "id": "6HG8ikHe3iJB",
        "outputId": "d1c0bab7-0cfc-4b68-ace2-f2e6f672c733"
      },
      "source": [
        "def make_noise():\r\n",
        "  print (\"The crowd goes wild\")\r\n",
        "make_noise()"
      ],
      "execution_count": 2,
      "outputs": [
        {
          "output_type": "stream",
          "text": [
            "The crowd goes wild\n"
          ],
          "name": "stdout"
        }
      ]
    },
    {
      "cell_type": "code",
      "metadata": {
        "colab": {
          "base_uri": "https://localhost:8080/"
        },
        "id": "1c9YWaaK4CXW",
        "outputId": "4d64c2f1-db7d-4463-a7e5-29b8c3b211e8"
      },
      "source": [
        "def happy(name):\r\n",
        "  print (\"Happy Birthday to you, \" +name)\r\n",
        "happy(\"Mike\")\r\n"
      ],
      "execution_count": 13,
      "outputs": [
        {
          "output_type": "stream",
          "text": [
            "Happy Birthday to you, Mike\n"
          ],
          "name": "stdout"
        }
      ]
    },
    {
      "cell_type": "code",
      "metadata": {
        "id": "NGehXa9y4uf1"
      },
      "source": [
        "def even():\r\n",
        "  result=[]\r\n",
        "  for x in range (1,50):\r\n",
        "    if x%2==0:\r\n",
        "      result.append(x)\r\n",
        "  return result\r\n"
      ],
      "execution_count": 17,
      "outputs": []
    },
    {
      "cell_type": "code",
      "metadata": {
        "colab": {
          "base_uri": "https://localhost:8080/"
        },
        "id": "7B3y7FTs7ADs",
        "outputId": "5b43b67b-502e-4a15-c3d5-b1c64e4113a3"
      },
      "source": [
        "print(globals())"
      ],
      "execution_count": 20,
      "outputs": [
        {
          "output_type": "stream",
          "text": [
            "{'__name__': '__main__', '__doc__': 'Automatically created module for IPython interactive environment', '__package__': None, '__loader__': None, '__spec__': None, '__builtin__': <module 'builtins' (built-in)>, '__builtins__': <module 'builtins' (built-in)>, '_ih': ['', 'def make_noise():\\n  print (\"The crowd goes wild\")', 'def make_noise():\\n  print (\"The crowd goes wild\")\\nmake_noise()', 'def make_noise()):\\n  print (\"Happy birthday to you\")', 'def make_noise():\\n  print (\"Happy birthday to you\")', 'make_noise(mike)', 'def name():\\n  print (\"Happy birthday to you\")', 'def name():\\n  print (\"Happy birthday to you\")', 'name(\"mike\")', 'def name():\\n  print (\"Happy birthday to you\")\\nname(\"mike\")', 'def name():\\n  print (\"Happy birthday to you\")\\nname (\"mike\")', 'def happy(name):\\n  print (\"Happy Birthday to you\" +name)\\nmake_noise(\"Mike\")', 'def happy(name):\\n  print (\"Happy Birthday to you\" +name)\\nhappy(\"Mike\")', 'def happy(name):\\n  print (\"Happy Birthday to you, \" +name)\\nhappy(\"Mike\")', 'def even():\\n  result=[]\\n  for x in range (1:50):\\n    if x%2==0;\\n    result.append(x)\\n  return result', 'def even():\\n  result=[]\\n  for x in range (1,50):\\n    if x%2==0;\\n    result.append(x)\\n  return result', 'def even():\\n  result=[]\\n  for x in range (1,50):\\n    if x%2==0:\\n    result.append(x)\\n  return result', 'def even():\\n  result=[]\\n  for x in range (1,50):\\n    if x%2==0:\\n      result.append(x)\\n  return result', \"yell('word')\", 'print(global)', 'print(globals())'], '_oh': {}, '_dh': ['/content'], '_sh': <module 'IPython.core.shadowns' from '/usr/local/lib/python3.6/dist-packages/IPython/core/shadowns.py'>, 'In': ['', 'def make_noise():\\n  print (\"The crowd goes wild\")', 'def make_noise():\\n  print (\"The crowd goes wild\")\\nmake_noise()', 'def make_noise()):\\n  print (\"Happy birthday to you\")', 'def make_noise():\\n  print (\"Happy birthday to you\")', 'make_noise(mike)', 'def name():\\n  print (\"Happy birthday to you\")', 'def name():\\n  print (\"Happy birthday to you\")', 'name(\"mike\")', 'def name():\\n  print (\"Happy birthday to you\")\\nname(\"mike\")', 'def name():\\n  print (\"Happy birthday to you\")\\nname (\"mike\")', 'def happy(name):\\n  print (\"Happy Birthday to you\" +name)\\nmake_noise(\"Mike\")', 'def happy(name):\\n  print (\"Happy Birthday to you\" +name)\\nhappy(\"Mike\")', 'def happy(name):\\n  print (\"Happy Birthday to you, \" +name)\\nhappy(\"Mike\")', 'def even():\\n  result=[]\\n  for x in range (1:50):\\n    if x%2==0;\\n    result.append(x)\\n  return result', 'def even():\\n  result=[]\\n  for x in range (1,50):\\n    if x%2==0;\\n    result.append(x)\\n  return result', 'def even():\\n  result=[]\\n  for x in range (1,50):\\n    if x%2==0:\\n    result.append(x)\\n  return result', 'def even():\\n  result=[]\\n  for x in range (1,50):\\n    if x%2==0:\\n      result.append(x)\\n  return result', \"yell('word')\", 'print(global)', 'print(globals())'], 'Out': {}, 'get_ipython': <bound method InteractiveShell.get_ipython of <google.colab._shell.Shell object at 0x7f9b53312d30>>, 'exit': <IPython.core.autocall.ZMQExitAutocall object at 0x7f9b50851b70>, 'quit': <IPython.core.autocall.ZMQExitAutocall object at 0x7f9b50851b70>, '_': '', '__': '', '___': '', '_i': 'print(global)', '_ii': \"yell('word')\", '_iii': 'def even():\\n  result=[]\\n  for x in range (1,50):\\n    if x%2==0:\\n      result.append(x)\\n  return result', '_i1': 'def make_noise():\\n  print (\"The crowd goes wild\")', 'make_noise': <function make_noise at 0x7f9b4dab9bf8>, '_i2': 'def make_noise():\\n  print (\"The crowd goes wild\")\\nmake_noise()', '_i3': 'def make_noise()):\\n  print (\"Happy birthday to you\")', '_i4': 'def make_noise():\\n  print (\"Happy birthday to you\")', '_i5': 'make_noise(mike)', '_i6': 'def name():\\n  print (\"Happy birthday to you\")', 'name': <function name at 0x7f9b4da42378>, '_i7': 'def name():\\n  print (\"Happy birthday to you\")', '_i8': 'name(\"mike\")', '_i9': 'def name():\\n  print (\"Happy birthday to you\")\\nname(\"mike\")', '_i10': 'def name():\\n  print (\"Happy birthday to you\")\\nname (\"mike\")', '_i11': 'def happy(name):\\n  print (\"Happy Birthday to you\" +name)\\nmake_noise(\"Mike\")', 'happy': <function happy at 0x7f9b4da602f0>, '_i12': 'def happy(name):\\n  print (\"Happy Birthday to you\" +name)\\nhappy(\"Mike\")', '_i13': 'def happy(name):\\n  print (\"Happy Birthday to you, \" +name)\\nhappy(\"Mike\")', '_i14': 'def even():\\n  result=[]\\n  for x in range (1:50):\\n    if x%2==0;\\n    result.append(x)\\n  return result', '_i15': 'def even():\\n  result=[]\\n  for x in range (1,50):\\n    if x%2==0;\\n    result.append(x)\\n  return result', '_i16': 'def even():\\n  result=[]\\n  for x in range (1,50):\\n    if x%2==0:\\n    result.append(x)\\n  return result', '_i17': 'def even():\\n  result=[]\\n  for x in range (1,50):\\n    if x%2==0:\\n      result.append(x)\\n  return result', 'even': <function even at 0x7f9b4da42510>, '_i18': \"yell('word')\", '_i19': 'print(global)', '_i20': 'print(globals())'}\n"
          ],
          "name": "stdout"
        }
      ]
    },
    {
      "cell_type": "code",
      "metadata": {
        "id": "EUUI5rTX7bTd"
      },
      "source": [
        "import random"
      ],
      "execution_count": 21,
      "outputs": []
    },
    {
      "cell_type": "code",
      "metadata": {
        "id": "bBUIrlt09RKH"
      },
      "source": [
        "members=4\r\n",
        "participant=['A','B','C','D','E','F','G','H']\r\n"
      ],
      "execution_count": null,
      "outputs": []
    }
  ]
}